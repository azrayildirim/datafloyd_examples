{
 "cells": [
  {
   "cell_type": "markdown",
   "metadata": {},
   "source": [
    "<div align=\"right\">\n",
    "<table style=\"width:50%\">\n",
    "  <tr>\n",
    "    <th>Hazırlayan</th>\n",
    "    <th>Versiyon</th> \n",
    "    <th>Tarih</th> \n",
    "    <th>Dil</th>\n",
    "  </tr>\n",
    "  <tr>\n",
    "    <td>dataFLOYD</td>\n",
    "    <td>v1.01</td> \n",
    "    <td>07 Eyl 2018</td>\n",
    "    <td>TR </td>\n",
    "  </tr>\n",
    "</table>\n",
    "</div>"
   ]
  },
  {
   "cell_type": "markdown",
   "metadata": {},
   "source": [
    "<div class=\"well\">\n",
    "<br>\n",
    "Bu yazı için bir ön koşul bulunmamaktadır. İsterseniz \"python\" kullanımını gözden geçirebilirsiniz<br>\n",
    "<br>\n",
    "ÖN KOŞULLAR\n",
    "    <br><a href=\"https://www.datafloyd.com/tr/veri-bilimi-icin-temel-python-kullanimi/\">Temel Python kullanımı</a>\n",
    "</div>"
   ]
  },
  {
   "cell_type": "markdown",
   "metadata": {},
   "source": [
    "<!-- ICONS -->\n",
    "<link rel=\"stylesheet\" href=\"https://cdnjs.cloudflare.com/ajax/libs/font-awesome/4.7.0/css/font-awesome.min.css\">\n",
    "\n",
    "<!-- BOOTSTRAP -->\n",
    "<!-- Latest compiled and minified CSS -->\n",
    "<link rel=\"stylesheet\" href=\"https://maxcdn.bootstrapcdn.com/bootstrap/3.3.7/css/bootstrap.min.css\">\n",
    "\n",
    "<!-- jQuery library -->\n",
    "<script src=\"https://ajax.googleapis.com/ajax/libs/jquery/3.3.1/jquery.min.js\"></script>\n",
    "\n",
    "<!-- Latest compiled JavaScript -->\n",
    "<script src=\"https://maxcdn.bootstrapcdn.com/bootstrap/3.3.7/js/bootstrap.min.js\"></script>"
   ]
  },
  {
   "cell_type": "markdown",
   "metadata": {},
   "source": [
    " # SINIFLANDIRICI METRİKLERİ: \"CONFUSION\" MATRİS VE DİĞERLERİ"
   ]
  },
  {
   "cell_type": "markdown",
   "metadata": {},
   "source": [
    "\"Confusion Matrix\" kafanızı mı karıştırıyor? Artık bu derdinize son veriyoruz! <br> Yazımızda bir sınıflandırıcıyı ayrıntılı bir şekilde değerlendirebilmek amacıyla kullanılan \"confusion matrix\"i ve bundan türetilen metrikleri inceliyoruz."
   ]
  },
  {
   "cell_type": "markdown",
   "metadata": {},
   "source": [
    "Aşağıda bir \"confusion matrix\" örneği bulunmakta. Bu matris ikili bir sınıflandırma problemine ait. Sınıflardan birine pozitif diğerine ise negatif diyelim. 4 adet hücreden oluşan bu matrisin her bir hücresinin özel isimleri bulunmaktadır. "
   ]
  },
  {
   "cell_type": "markdown",
   "metadata": {},
   "source": [
    "![conf_matrix](conf_matrix.png)"
   ]
  },
  {
   "cell_type": "markdown",
   "metadata": {},
   "source": [
    "Yukarıda sadece iki sınıfı için verdiğimiz bu matris birden fazla sınıflı problemler için de oluşturulabilir. "
   ]
  },
  {
   "cell_type": "markdown",
   "metadata": {},
   "source": [
    "Bu matristeki tanımlamaları baz alarak hesaplanan metrikleri aşağıda özetlemeye çalıştım."
   ]
  },
  {
   "cell_type": "markdown",
   "metadata": {},
   "source": [
    "### Tahmin Hatası (Prediction Error)"
   ]
  },
  {
   "cell_type": "markdown",
   "metadata": {},
   "source": [
    "Adından anlaşılabileceği gibi yaptığımız tahmindeki hatayı bu metriği kullanarak ölçüyoruz. Bu metriği hesaplamak için aşağıdaki formül kullanılmaktadır. <br>\n",
    "\n",
    "\\begin{equation*}\n",
    "Tahmin\\;hatası=\\frac{FP+FN}{FP+FN+TP+TN}\n",
    "\\end{equation*}\n",
    "\n",
    "Dikkat ettiyseniz matristeki tüm elemanların toplamı paydada, yanlış tahminlerin toplamı da pay kısmında yer almaktadır. "
   ]
  },
  {
   "cell_type": "markdown",
   "metadata": {},
   "source": [
    "### Doğruluk (Accuracy)\n",
    "Tahmin hatasını 1'den çıkardığımız zaman kesinlik metriğini elde ederiz. Bu metrik de sınıflandırıcımızın ne kadar hassas iş çıkardığını bize göstermektedir.\n",
    "\n",
    "\\begin{equation*}\n",
    "Doğruluk=\\frac{TP+TN}{FP+FN+TP+TN}\n",
    "\\end{equation*}\n"
   ]
  },
  {
   "cell_type": "markdown",
   "metadata": {},
   "source": [
    "### Doğru/Sahte Pozitif Oranı"
   ]
  },
  {
   "cell_type": "markdown",
   "metadata": {},
   "source": [
    "Özellikle dengesiz bir sınıflandırma problemi ile uğraşıyorsak bu metriklerden faydalanabiliriz.\n",
    "\n",
    "\\begin{equation*}\n",
    "Sahte\\;Pozitif\\;Oranı=\\frac{FP}{FP+TN}\n",
    "\\end{equation*}\n",
    "\n",
    "\\begin{equation*}\n",
    "Doğru\\;Pozitif\\;Oranı=\\frac{TP}{TP+FN}\n",
    "\\end{equation*}"
   ]
  },
  {
   "cell_type": "markdown",
   "metadata": {},
   "source": [
    "### Hassasiyet (Precision) / Anma (Recall)"
   ]
  },
  {
   "cell_type": "markdown",
   "metadata": {},
   "source": [
    "Sıklıkla kullanılan bu iki önemli metrik için tanımlamalar şöyledir.\n",
    "\n",
    "\\begin{equation*}\n",
    "Precision =\\frac{TP}{TP+FP}\n",
    "\\end{equation*}\n",
    "\n",
    "\\begin{equation*}\n",
    "Recall=\\frac{TP}{TP+FN}\n",
    "\\end{equation*}"
   ]
  },
  {
   "cell_type": "markdown",
   "metadata": {},
   "source": [
    "*Not: \"Recall\" ile \"True Positive Rate\" aynı tanımlamaya sahiptir.*"
   ]
  },
  {
   "cell_type": "markdown",
   "metadata": {},
   "source": [
    "**Precision:** \"Tahmin ettiğim örnekler içerisinde gerçekten kaç tanesi doğru?\"sorusuna cevap olarak verilir. <br>\n",
    "**Recall:** \"Poziitf sınıfa ait örneklerden kaç tanesini doğru tahmin ettim?\" sorusuna cevap olarak verilir."
   ]
  },
  {
   "cell_type": "markdown",
   "metadata": {},
   "source": [
    "### F1-SCORE"
   ]
  },
  {
   "cell_type": "markdown",
   "metadata": {},
   "source": [
    "Matematikteki harmonic ortalama konseptini \"Precision\" ve \"Recall\" metriklerine uyguladığımızda F1 score değerini elde ederiz. Bu değerin avantajı iki sayı yerine tek bir sayıyı değerlendirmemize olanak sağlamasıdır"
   ]
  },
  {
   "cell_type": "markdown",
   "metadata": {},
   "source": [
    "\\begin{equation*}\n",
    "F1=2\\frac{Precision \\times Recall}{Precision+Recall}\n",
    "\\end{equation*}"
   ]
  },
  {
   "cell_type": "markdown",
   "metadata": {},
   "source": [
    "### Özgünlük (Specificity)"
   ]
  },
  {
   "cell_type": "markdown",
   "metadata": {},
   "source": [
    "Bu metriği yanlış pozitif oranı olarak düşünebiliriz."
   ]
  },
  {
   "cell_type": "markdown",
   "metadata": {},
   "source": [
    "\\begin{equation*}\n",
    "Özgünlük=\\frac{TN}{TN+FP}\n",
    "\\end{equation*}"
   ]
  }
 ],
 "metadata": {
  "kernelspec": {
   "display_name": "Python 3",
   "language": "python",
   "name": "python3"
  },
  "language_info": {
   "codemirror_mode": {
    "name": "ipython",
    "version": 3
   },
   "file_extension": ".py",
   "mimetype": "text/x-python",
   "name": "python",
   "nbconvert_exporter": "python",
   "pygments_lexer": "ipython3",
   "version": "3.6.5"
  }
 },
 "nbformat": 4,
 "nbformat_minor": 2
}
