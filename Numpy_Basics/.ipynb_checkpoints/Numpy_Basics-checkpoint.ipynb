{
 "cells": [
  {
   "cell_type": "markdown",
   "metadata": {},
   "source": [
    "# Pyhton \"numpy\" kütüphanesinin kullanımı"
   ]
  },
  {
   "cell_type": "markdown",
   "metadata": {},
   "source": [
    "Numpy kütüphanesi Python'da birçok nümerik işlemi ve matris operasyonlarını etkin bir şekilde yapabilmemizi sağlar. Eğer daha önceden Matlab kullandıysanız aşağıdaki bağlantıda verilen öğreticiye (tutorial) göz atmanızı öneririm. <br>\n",
    "https://docs.scipy.org/doc/numpy/user/numpy-for-matlab-users.html <br>\n",
    "Hazırsanız başlayalım"
   ]
  },
  {
   "cell_type": "markdown",
   "metadata": {},
   "source": [
    "<div class=\"alert alert-info\">\n",
    "<b> DİZİLER (ARRAYS) </b> \n",
    "</div> <br>"
   ]
  },
  {
   "cell_type": "markdown",
   "metadata": {},
   "source": [
    "numpy dizileri Pyhton listelerine benzer. Temel özellikleri şunlardır\n",
    "* Hepsi aynı tipte olmalıdır\n",
    "* Pozitif olan \"integer tuple\" yapıları ile indeklenirler\n",
    "* Liste kullanarak numpy dizisi yaratabiliriz\n",
    "* Elemanlarına köşeli parantez kullanarak erişim sağlanabilir."
   ]
  },
  {
   "cell_type": "code",
   "execution_count": 1,
   "metadata": {},
   "outputs": [
    {
     "name": "stdout",
     "output_type": "stream",
     "text": [
      "[3 5 2 1]\n",
      "<class 'numpy.ndarray'>\n",
      "3\n",
      "[ 3 42  2  1]\n"
     ]
    }
   ],
   "source": [
    "# Kütüphaneyi yüklüyoruz\n",
    "# Genelde hep np olarak import edilir\n",
    "# İsterseniz başka bir şey de diyebilirsiniz size kalmış \n",
    "import numpy as np\n",
    "\n",
    "# np.array'in içine bir liste yazmamız yeterli\n",
    "a_numpy_array = np.array([3,5,2,1])\n",
    "\n",
    "# ekrana bastıralım\n",
    "print(a_numpy_array)\n",
    "\n",
    "# tipini görelim\n",
    "print(type(a_numpy_array))\n",
    "\n",
    "# ilk elemanına bakalım\n",
    "print(a_numpy_array[0])\n",
    "\n",
    "# bir elemanını değiştirelim\n",
    "a_numpy_array[1]=42\n",
    "\n",
    "print(a_numpy_array)"
   ]
  },
  {
   "cell_type": "markdown",
   "metadata": {},
   "source": [
    "Her bir dizinin içindeki veri tipini de değiştirmemiz mümkün."
   ]
  },
  {
   "cell_type": "code",
   "execution_count": 2,
   "metadata": {},
   "outputs": [
    {
     "name": "stdout",
     "output_type": "stream",
     "text": [
      "[1 2]\n",
      "int16\n",
      "[1. 2.]\n",
      "float64\n"
     ]
    }
   ],
   "source": [
    "a = np.array([1,2],dtype=np.int16)\n",
    "b = np.array([1,2],dtype=np.float64)\n",
    "print(a)\n",
    "print(a.dtype)\n",
    "print(b)\n",
    "print(b.dtype)"
   ]
  },
  {
   "cell_type": "code",
   "execution_count": 3,
   "metadata": {},
   "outputs": [
    {
     "name": "stdout",
     "output_type": "stream",
     "text": [
      "[[2 3 4]\n",
      " [4 5 6]]\n",
      "\n",
      "Matrisin boyutları\n",
      "(2, 3)\n",
      "3\n"
     ]
    }
   ],
   "source": [
    "# iki boyutlu bir matris yapalım\n",
    "# Bunun için liste içinde iki listeye sahip bir girdi sağlamamız lazım\n",
    "# Eklemeyi satır satır yapıyoruz\n",
    "b_numpy_array = np.array([[2,3,4],[4,5,6]])\n",
    "\n",
    "# İki boyutlu matrisimiz hazır\n",
    "print(b_numpy_array)\n",
    "\n",
    "# Boyutunu görmek için shape fonksiyonunu kullanabiliriz\n",
    "print(\"\\nMatrisin boyutları\")\n",
    "print(b_numpy_array.shape)\n",
    "\n",
    "# Matrislere erişim için çift indekleme kullanılıyor\n",
    "print(b_numpy_array[0,1]) # Birinci satır 2. sütundaki elemana erişim"
   ]
  },
  {
   "cell_type": "markdown",
   "metadata": {},
   "source": [
    "Matrislerin satırlarını listeler halinde veriyoruz. Bu listelerin boyutlarının birbirine eşit olmasına dikkat etmekmiz gerekiyor aksi takdirde istediğimiz matrisi yaratamayız"
   ]
  },
  {
   "cell_type": "code",
   "execution_count": 4,
   "metadata": {},
   "outputs": [
    {
     "name": "stdout",
     "output_type": "stream",
     "text": [
      "[list([2, 3, 4]) list([4, 5, 6, 7])]\n"
     ]
    }
   ],
   "source": [
    "# Diyelim ki bir satır diğerinden boyut olarak fazla oldu\n",
    "c_numpy_array = np.array([[2,3,4],[4,5,6,7]])\n",
    "\n",
    "print(c_numpy_array)"
   ]
  },
  {
   "cell_type": "markdown",
   "metadata": {},
   "source": [
    "** Dizi yaratma fonksiyonları **"
   ]
  },
  {
   "cell_type": "markdown",
   "metadata": {},
   "source": [
    "numpy kütüphanesinin dizi yaratmak için hazır fonksiyonları da mevcuttur. Aşağıda en sık kullanılanlardan örnek vermek isiyorum."
   ]
  },
  {
   "cell_type": "code",
   "execution_count": 5,
   "metadata": {},
   "outputs": [
    {
     "name": "stdout",
     "output_type": "stream",
     "text": [
      "\n",
      "Sıfır matris\n",
      "[[0. 0.]\n",
      " [0. 0.]\n",
      " [0. 0.]]\n",
      "\n",
      "Birlerden oluşan matris\n",
      "[[1. 1. 1.]\n",
      " [1. 1. 1.]]\n",
      "\n",
      "Sabit matris\n",
      "[[42 42 42]\n",
      " [42 42 42]\n",
      " [42 42 42]\n",
      " [42 42 42]]\n",
      "\n",
      "Identity matris\n",
      "[[1. 0.]\n",
      " [0. 1.]]\n",
      "\n",
      "Rasgele matris\n",
      "[[0.70306512 0.72719397 0.14326968]\n",
      " [0.58634107 0.21987872 0.59354067]\n",
      " [0.7156308  0.48897895 0.11818351]]\n"
     ]
    }
   ],
   "source": [
    "# 0'lardan oluşan bir matris yaratalım\n",
    "print(\"\\nSıfır matris\")\n",
    "print(np.zeros((3,2)))\n",
    "\n",
    "# Birlerden oluşan bir matris yaratalım\n",
    "print(\"\\nBirlerden oluşan matris\")\n",
    "print(np.ones((2,3)))\n",
    "\n",
    "# Sabit sayılardan oluşan bir matris\n",
    "print(\"\\nSabit matris\")\n",
    "print(np.full((4,3),42))\n",
    "\n",
    "# Birim (identitiy) matris\n",
    "# Bu matrix simetrik olacağı için yalnızca bir parametre alıyor\n",
    "print(\"\\nIdentity matris\")\n",
    "print(np.eye(2))\n",
    "\n",
    "# Rasgele matris\n",
    "print(\"\\nRasgele matris\")\n",
    "print(np.random.random((3,3)))"
   ]
  },
  {
   "cell_type": "markdown",
   "metadata": {},
   "source": [
    "** Kesit alma ** <br>\n",
    "Matrisleri parçalamak için kesit alma operatörleri kullanılabilir."
   ]
  },
  {
   "cell_type": "code",
   "execution_count": 6,
   "metadata": {},
   "outputs": [
    {
     "name": "stdout",
     "output_type": "stream",
     "text": [
      "[[ 1  2  3  4]\n",
      " [ 5  6  7  8]\n",
      " [ 9 10 11 12]]\n"
     ]
    }
   ],
   "source": [
    "a_matrix = np.array([[1,2,3,4], [5,6,7,8], [9,10,11,12]])\n",
    "print(a_matrix)"
   ]
  },
  {
   "cell_type": "code",
   "execution_count": 7,
   "metadata": {},
   "outputs": [
    {
     "name": "stdout",
     "output_type": "stream",
     "text": [
      "[[ 7  8]\n",
      " [11 12]]\n",
      "[ 9 10 11 12]\n",
      "[ 4  8 12]\n"
     ]
    }
   ],
   "source": [
    "# 2. satırdan 3. satıra 2. sütundan sonuna kadar olan elemanlardan oluşan matris\n",
    "print(a_matrix[1:3,2:])\n",
    "# Son satırın tümünü alalım\n",
    "print(a_matrix[2,:])\n",
    "# Son sütunun tümünü alalım\n",
    "print(a_matrix[:,3])"
   ]
  },
  {
   "cell_type": "code",
   "execution_count": 8,
   "metadata": {},
   "outputs": [
    {
     "name": "stdout",
     "output_type": "stream",
     "text": [
      "[1 7]\n"
     ]
    }
   ],
   "source": [
    "# Yukarıdaki örnek matrisin (0,0) ve (1,2) numaralrı elemanlarını alalım\n",
    "print(a_matrix[[0,1],[0,2]])"
   ]
  },
  {
   "cell_type": "markdown",
   "metadata": {},
   "source": [
    "** np.arange() fonksiyonu **"
   ]
  },
  {
   "cell_type": "markdown",
   "metadata": {},
   "source": [
    "Bu fonksiyon ardışık bir dizi oluşturur. !! Son eleman diziye dahil değildir !!"
   ]
  },
  {
   "cell_type": "code",
   "execution_count": 9,
   "metadata": {},
   "outputs": [
    {
     "name": "stdout",
     "output_type": "stream",
     "text": [
      "[1 2 3 4 5 6 7 8 9]\n",
      "[1 3 5 7 9]\n"
     ]
    }
   ],
   "source": [
    "# 1'den 10'kadar bir dizi oluşturalım\n",
    "print(np.arange(1,10))\n",
    "# Dizi 2'şer artarak oluşturulsun\n",
    "print(np.arange(1,10,2))"
   ]
  },
  {
   "cell_type": "markdown",
   "metadata": {},
   "source": [
    "** Mantıksal indeksleme **"
   ]
  },
  {
   "cell_type": "markdown",
   "metadata": {},
   "source": [
    "Matriste belirli koşulu sağlayan elemanların bulunmasını sağlar"
   ]
  },
  {
   "cell_type": "code",
   "execution_count": 10,
   "metadata": {},
   "outputs": [
    {
     "name": "stdout",
     "output_type": "stream",
     "text": [
      "Örnek matris\n",
      "[[ 1  2  5  6]\n",
      " [ 8  9  7  8]\n",
      " [ 9 10  2 42]]\n",
      "\n",
      "5'ten büyük sayıları bulmak için mantıksal indeksi yazdıralım\n",
      "[array([[False, False, False,  True],\n",
      "       [ True,  True,  True,  True],\n",
      "       [ True,  True, False,  True]])]\n",
      "\n",
      "5'ten büyük sayıları bulalım\n",
      "[ 6  8  9  7  8  9 10 42]\n",
      "\n",
      "5'ten büyük sayıları 0'a eşitleyelim\n",
      "[[1 2 5 0]\n",
      " [0 0 0 0]\n",
      " [0 0 2 0]]\n"
     ]
    }
   ],
   "source": [
    "a = np.array([[1,2,5,6], [8,9,7,8], [9,10,2,42]])\n",
    "print(\"Örnek matris\")\n",
    "print(a)\n",
    "print(\"\\n5'ten büyük sayıları bulmak için mantıksal indeksi yazdıralım\")\n",
    "print([a>5])\n",
    "print(\"\\n5'ten büyük sayıları bulalım\")\n",
    "print(a[a>5])\n",
    "print(\"\\n5'ten büyük sayıları 0'a eşitleyelim\")\n",
    "a[a>5] = 0\n",
    "print(a)"
   ]
  },
  {
   "cell_type": "markdown",
   "metadata": {},
   "source": [
    "<div class=\"alert alert-info\">\n",
    "<b> DİZİLERDE MATEMATİK İŞLEMLERİ </b> \n",
    "</div>"
   ]
  },
  {
   "cell_type": "markdown",
   "metadata": {},
   "source": [
    "** Eleman bazında yapılan işlemler ** "
   ]
  },
  {
   "cell_type": "code",
   "execution_count": 11,
   "metadata": {},
   "outputs": [
    {
     "name": "stdout",
     "output_type": "stream",
     "text": [
      "\n",
      "A matrisi\n",
      "[[1 2]\n",
      " [3 4]]\n",
      "\n",
      "B matrisi\n",
      "[[5 6]\n",
      " [7 8]]\n",
      "\n",
      "A+B\n",
      "[[ 6  8]\n",
      " [10 12]]\n",
      "\n",
      "A-B\n",
      "[[-4 -4]\n",
      " [-4 -4]]\n",
      "\n",
      "A*B\n",
      "[[ 5 12]\n",
      " [21 32]]\n",
      "\n",
      "A/B\n",
      "[[0.2        0.33333333]\n",
      " [0.42857143 0.5       ]]\n",
      "\n",
      "Karekök alma sqrt(A)\n",
      "[[1.         1.41421356]\n",
      " [1.73205081 2.        ]]\n",
      "\n",
      "Üs alma A**2\n",
      "[[ 1  4]\n",
      " [ 9 16]]\n"
     ]
    }
   ],
   "source": [
    "A = np.array([[1,2],[3,4]])\n",
    "print(\"\\nA matrisi\")\n",
    "print(A)\n",
    "B = np.array([[5,6],[7,8]])\n",
    "print(\"\\nB matrisi\")\n",
    "print(B)\n",
    "\n",
    "print(\"\\nA+B\")\n",
    "print(A+B)\n",
    "print(\"\\nA-B\")\n",
    "print(A-B)\n",
    "print(\"\\nA*B\")\n",
    "print(A*B)\n",
    "print(\"\\nA/B\")\n",
    "print(A/B)\n",
    "print(\"\\nKarekök alma sqrt(A)\")\n",
    "print(np.sqrt(A))\n",
    "print(\"\\nÜs alma A**2\")\n",
    "print(A**2)"
   ]
  },
  {
   "cell_type": "markdown",
   "metadata": {},
   "source": [
    "**Matris işlemleri**"
   ]
  },
  {
   "cell_type": "code",
   "execution_count": 12,
   "metadata": {},
   "outputs": [
    {
     "name": "stdout",
     "output_type": "stream",
     "text": [
      "Matris çarpımı (Dot product) A.dot(B) \n",
      "[[19 22]\n",
      " [43 50]]\n",
      "veya np.dot(A,B)\n",
      "[[19 22]\n",
      " [43 50]]\n"
     ]
    }
   ],
   "source": [
    "print(\"Matris çarpımı (Dot product) A.dot(B) \")\n",
    "print(A.dot(B))\n",
    "print(\"veya np.dot(A,B)\")\n",
    "print(np.dot(A,B))"
   ]
  },
  {
   "cell_type": "code",
   "execution_count": 13,
   "metadata": {},
   "outputs": [
    {
     "name": "stdout",
     "output_type": "stream",
     "text": [
      "Transpose alma A.T\n",
      "[[1 3]\n",
      " [2 4]]\n"
     ]
    }
   ],
   "source": [
    "print(\"Transpose alma A.T\")\n",
    "print(A.T)"
   ]
  },
  {
   "cell_type": "markdown",
   "metadata": {},
   "source": [
    "<div class=\"alert alert-info\">\n",
    "<b> DİĞER İŞLEMLER </b> \n",
    "</div>"
   ]
  },
  {
   "cell_type": "markdown",
   "metadata": {},
   "source": [
    "**Yeniden şekillendirme**<br>\n",
    "Bir diziyi yeniden şekillendirebiliriz. Yani bir vektörü matrise çevirmemiz veya tam tersini yapmamız mümkün."
   ]
  },
  {
   "cell_type": "code",
   "execution_count": 26,
   "metadata": {},
   "outputs": [
    {
     "name": "stdout",
     "output_type": "stream",
     "text": [
      "[0 1 2 3 4 5 6 7 8]\n",
      "[[0 1 2]\n",
      " [3 4 5]\n",
      " [6 7 8]]\n",
      "[0 1 2 3 4 5 6 7 8]\n"
     ]
    }
   ],
   "source": [
    "# Uzunluğu 9 olan bir vektör yaratalım\n",
    "a = np.arange(9)\n",
    "print(a)\n",
    "\n",
    "# Bunu 3x3 matris haline çevirelim\n",
    "a_reshape = a.reshape((3,3))\n",
    "print(a_reshape)\n",
    "\n",
    "# Bu matrisi tekrar vektör haline getirelim\n",
    "print(a_reshape.flatten())"
   ]
  },
  {
   "cell_type": "markdown",
   "metadata": {},
   "source": [
    "**Matrisleri birleştirme**<br>\n",
    "Matris ve vektörleri yan yana veya üst üste eklemek için np.concatenate() fonksiyonunu kullanabiliriz."
   ]
  },
  {
   "cell_type": "code",
   "execution_count": 32,
   "metadata": {},
   "outputs": [
    {
     "name": "stdout",
     "output_type": "stream",
     "text": [
      "\n",
      "A matrisi\n",
      "[[1 2]\n",
      " [3 4]]\n",
      "\n",
      "B matrisi\n",
      "[[5 6]\n",
      " [7 8]]\n",
      "\n",
      "A ve B'yi alt alta ekleyelim\n",
      "[[1 2]\n",
      " [3 4]\n",
      " [5 6]\n",
      " [7 8]]\n",
      "[[1 2]\n",
      " [3 4]\n",
      " [5 6]\n",
      " [7 8]]\n",
      "\n",
      "A ve B'yi yan yana ekleyelim\n",
      "[[1 2 5 6]\n",
      " [3 4 7 8]]\n",
      "[[1 2 5 6]\n",
      " [3 4 7 8]]\n"
     ]
    }
   ],
   "source": [
    "A = np.array([[1,2],[3,4]])\n",
    "print(\"\\nA matrisi\")\n",
    "print(A)\n",
    "B = np.array([[5,6],[7,8]])\n",
    "print(\"\\nB matrisi\")\n",
    "print(B)\n",
    "\n",
    "print(\"\\nA ve B'yi alt alta ekleyelim\")\n",
    "print(np.concatenate([A,B]))\n",
    "# veya\n",
    "print(np.vstack([A,B]))\n",
    "\n",
    "print(\"\\nA ve B'yi yan yana ekleyelim\")\n",
    "print(np.concatenate([A,B],axis=1)) # axis=1\n",
    "# veya\n",
    "print(np.hstack([A,B]))"
   ]
  },
  {
   "cell_type": "code",
   "execution_count": null,
   "metadata": {},
   "outputs": [],
   "source": []
  }
 ],
 "metadata": {
  "kernelspec": {
   "display_name": "Python 3",
   "language": "python",
   "name": "python3"
  },
  "language_info": {
   "codemirror_mode": {
    "name": "ipython",
    "version": 3
   },
   "file_extension": ".py",
   "mimetype": "text/x-python",
   "name": "python",
   "nbconvert_exporter": "python",
   "pygments_lexer": "ipython3",
   "version": "3.6.5"
  }
 },
 "nbformat": 4,
 "nbformat_minor": 2
}
