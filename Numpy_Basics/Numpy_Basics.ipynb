{
 "cells": [
  {
   "cell_type": "markdown",
   "metadata": {},
   "source": [
    "<div align=\"right\">\n",
    "<table style=\"width:50%\">\n",
    "  <tr>\n",
    "    <th>Hazırlayan</th>\n",
    "    <th>Versiyon</th> \n",
    "    <th>Tarih</th> \n",
    "    <th>Dil</th>\n",
    "  </tr>\n",
    "  <tr>\n",
    "    <td>dataFLOYD</td>\n",
    "    <td>v1.00</td> \n",
    "    <td>25 Ağu 2018</td>\n",
    "    <td>TR </td>\n",
    "  </tr>\n",
    "</table>\n",
    "</div>"
   ]
  },
  {
   "cell_type": "markdown",
   "metadata": {},
   "source": [
    "# Pyhton \"numpy\" kütüphanesinin kullanımı"
   ]
  },
  {
   "cell_type": "markdown",
   "metadata": {},
   "source": [
    "Numpy kütüphanesi Python'da birçok nümerik işlemi ve matris operasyonlarını etkin bir şekilde yapabilmemizi sağlar. Eğer daha önceden Matlab kullandıysanız aşağıdaki bağlantıda verilen öğreticiye (tutorial) göz atmanızı öneririm. <br>\n",
    "https://docs.scipy.org/doc/numpy/user/numpy-for-matlab-users.html <br>\n",
    "Hazırsanız başlayalım"
   ]
  },
  {
   "cell_type": "markdown",
   "metadata": {},
   "source": [
    "<div class=\"alert alert-info\">\n",
    "<b> DİZİLER (ARRAYS) </b> \n",
    "</div> <br>"
   ]
  },
  {
   "cell_type": "markdown",
   "metadata": {},
   "source": [
    "numpy dizileri Pyhton listelerine benzer. Temel özellikleri şunlardır\n",
    "* Hepsi aynı tipte olmalıdır\n",
    "* Pozitif olan \"integer tuple\" yapıları ile indeklenirler\n",
    "* Liste kullanarak numpy dizisi yaratabiliriz\n",
    "* Elemanlarına köşeli parantez kullanarak erişim sağlanabilir."
   ]
  },
  {
   "cell_type": "code",
   "execution_count": 1,
   "metadata": {},
   "outputs": [
    {
     "name": "stdout",
     "output_type": "stream",
     "text": [
      "[3 5 2 1]\n",
      "<class 'numpy.ndarray'>\n",
      "3\n",
      "[ 3 42  2  1]\n"
     ]
    }
   ],
   "source": [
    "# Kütüphaneyi yüklüyoruz\n",
    "# Genelde hep np olarak import edilir\n",
    "# İsterseniz başka bir şey de diyebilirsiniz size kalmış \n",
    "import numpy as np\n",
    "\n",
    "# np.array'in içine bir liste yazmamız yeterli\n",
    "a_numpy_array = np.array([3,5,2,1])\n",
    "\n",
    "# ekrana bastıralım\n",
    "print(a_numpy_array)\n",
    "\n",
    "# tipini görelim\n",
    "print(type(a_numpy_array))\n",
    "\n",
    "# ilk elemanına bakalım\n",
    "print(a_numpy_array[0])\n",
    "\n",
    "# bir elemanını değiştirelim\n",
    "a_numpy_array[1]=42\n",
    "\n",
    "print(a_numpy_array)"
   ]
  },
  {
   "cell_type": "markdown",
   "metadata": {},
   "source": [
    "Her bir dizinin içindeki veri tipini de değiştirmemiz mümkün."
   ]
  },
  {
   "cell_type": "code",
   "execution_count": 2,
   "metadata": {},
   "outputs": [
    {
     "name": "stdout",
     "output_type": "stream",
     "text": [
      "[1 2]\n",
      "int16\n",
      "[1. 2.]\n",
      "float64\n"
     ]
    }
   ],
   "source": [
    "a = np.array([1,2],dtype=np.int16)\n",
    "b = np.array([1,2],dtype=np.float64)\n",
    "print(a)\n",
    "print(a.dtype)\n",
    "print(b)\n",
    "print(b.dtype)"
   ]
  },
  {
   "cell_type": "code",
   "execution_count": 3,
   "metadata": {},
   "outputs": [
    {
     "name": "stdout",
     "output_type": "stream",
     "text": [
      "[[2 3 4]\n",
      " [4 5 6]]\n",
      "\n",
      "Matrisin boyutları\n",
      "(2, 3)\n",
      "3\n"
     ]
    }
   ],
   "source": [
    "# iki boyutlu bir matris yapalım\n",
    "# Bunun için liste içinde iki listeye sahip bir girdi sağlamamız lazım\n",
    "# Eklemeyi satır satır yapıyoruz\n",
    "b_numpy_array = np.array([[2,3,4],[4,5,6]])\n",
    "\n",
    "# İki boyutlu matrisimiz hazır\n",
    "print(b_numpy_array)\n",
    "\n",
    "# Boyutunu görmek için shape fonksiyonunu kullanabiliriz\n",
    "print(\"\\nMatrisin boyutları\")\n",
    "print(b_numpy_array.shape)\n",
    "\n",
    "# Matrislere erişim için çift indekleme kullanılıyor\n",
    "print(b_numpy_array[0,1]) # Birinci satır 2. sütundaki elemana erişim"
   ]
  },
  {
   "cell_type": "markdown",
   "metadata": {},
   "source": [
    "Matrislerin satırlarını listeler halinde veriyoruz. Bu listelerin boyutlarının birbirine eşit olmasına dikkat etmekmiz gerekiyor aksi takdirde istediğimiz matrisi yaratamayız"
   ]
  },
  {
   "cell_type": "code",
   "execution_count": 4,
   "metadata": {},
   "outputs": [
    {
     "name": "stdout",
     "output_type": "stream",
     "text": [
      "[list([2, 3, 4]) list([4, 5, 6, 7])]\n"
     ]
    }
   ],
   "source": [
    "# Diyelim ki bir satır diğerinden boyut olarak fazla oldu\n",
    "c_numpy_array = np.array([[2,3,4],[4,5,6,7]])\n",
    "\n",
    "print(c_numpy_array)"
   ]
  },
  {
   "cell_type": "markdown",
   "metadata": {},
   "source": [
    "** Dizi yaratma fonksiyonları **"
   ]
  },
  {
   "cell_type": "markdown",
   "metadata": {},
   "source": [
    "numpy kütüphanesinin dizi yaratmak için hazır fonksiyonları da mevcuttur. Aşağıda en sık kullanılanlardan örnek vermek isiyorum."
   ]
  },
  {
   "cell_type": "code",
   "execution_count": 5,
   "metadata": {},
   "outputs": [
    {
     "name": "stdout",
     "output_type": "stream",
     "text": [
      "\n",
      "Sıfır matris\n",
      "[[0. 0.]\n",
      " [0. 0.]\n",
      " [0. 0.]]\n",
      "\n",
      "Birlerden oluşan matris\n",
      "[[1. 1. 1.]\n",
      " [1. 1. 1.]]\n",
      "\n",
      "Sabit matris\n",
      "[[42 42 42]\n",
      " [42 42 42]\n",
      " [42 42 42]\n",
      " [42 42 42]]\n",
      "\n",
      "Identity matris\n",
      "[[1. 0.]\n",
      " [0. 1.]]\n",
      "\n",
      "Rasgele matris\n",
      "[[0.94697546 0.64531722 0.47449486]\n",
      " [0.32380483 0.66958564 0.18990305]\n",
      " [0.20505806 0.57816108 0.13880733]]\n"
     ]
    }
   ],
   "source": [
    "# 0'lardan oluşan bir matris yaratalım\n",
    "print(\"\\nSıfır matris\")\n",
    "print(np.zeros((3,2)))\n",
    "\n",
    "# Birlerden oluşan bir matris yaratalım\n",
    "print(\"\\nBirlerden oluşan matris\")\n",
    "print(np.ones((2,3)))\n",
    "\n",
    "# Sabit sayılardan oluşan bir matris\n",
    "print(\"\\nSabit matris\")\n",
    "print(np.full((4,3),42))\n",
    "\n",
    "# Birim (identitiy) matris\n",
    "# Bu matrix simetrik olacağı için yalnızca bir parametre alıyor\n",
    "print(\"\\nIdentity matris\")\n",
    "print(np.eye(2))\n",
    "\n",
    "# Rasgele matris\n",
    "print(\"\\nRasgele matris\")\n",
    "print(np.random.random((3,3)))"
   ]
  },
  {
   "cell_type": "markdown",
   "metadata": {},
   "source": [
    "**np.empty() fonksiyonu**"
   ]
  },
  {
   "cell_type": "markdown",
   "metadata": {},
   "source": [
    "Bu fonksiyon yeni bir dizi yaratır fakat dizinin içini 0'lar veya 1'ler ile dolrumaz "
   ]
  },
  {
   "cell_type": "code",
   "execution_count": 6,
   "metadata": {},
   "outputs": [
    {
     "name": "stdout",
     "output_type": "stream",
     "text": [
      "[[0.00000000e+000 0.00000000e+000 0.00000000e+000 0.00000000e+000]\n",
      " [0.00000000e+000 6.64024228e-321 1.05699242e-307 8.01097888e-307]]\n"
     ]
    }
   ],
   "source": [
    "a = np.empty((2,4))\n",
    "print(a)"
   ]
  },
  {
   "cell_type": "markdown",
   "metadata": {},
   "source": [
    "** Kesit alma ** <br>\n",
    "Matrisleri parçalamak için kesit alma operatörleri kullanılabilir."
   ]
  },
  {
   "cell_type": "code",
   "execution_count": 7,
   "metadata": {},
   "outputs": [
    {
     "name": "stdout",
     "output_type": "stream",
     "text": [
      "[[ 1  2  3  4]\n",
      " [ 5  6  7  8]\n",
      " [ 9 10 11 12]]\n"
     ]
    }
   ],
   "source": [
    "a_matrix = np.array([[1,2,3,4], [5,6,7,8], [9,10,11,12]])\n",
    "print(a_matrix)"
   ]
  },
  {
   "cell_type": "code",
   "execution_count": 8,
   "metadata": {},
   "outputs": [
    {
     "name": "stdout",
     "output_type": "stream",
     "text": [
      "[[ 7  8]\n",
      " [11 12]]\n",
      "[ 9 10 11 12]\n",
      "[ 4  8 12]\n"
     ]
    }
   ],
   "source": [
    "# 2. satırdan 3. satıra 2. sütundan sonuna kadar olan elemanlardan oluşan matris\n",
    "print(a_matrix[1:3,2:])\n",
    "# Son satırın tümünü alalım\n",
    "print(a_matrix[2,:])\n",
    "# Son sütunun tümünü alalım\n",
    "print(a_matrix[:,3])"
   ]
  },
  {
   "cell_type": "code",
   "execution_count": 9,
   "metadata": {},
   "outputs": [
    {
     "name": "stdout",
     "output_type": "stream",
     "text": [
      "[1 7]\n"
     ]
    }
   ],
   "source": [
    "# Yukarıdaki örnek matrisin (0,0) ve (1,2) numaralrı elemanlarını alalım\n",
    "print(a_matrix[[0,1],[0,2]])"
   ]
  },
  {
   "cell_type": "markdown",
   "metadata": {},
   "source": [
    "** np.arange() fonksiyonu **"
   ]
  },
  {
   "cell_type": "markdown",
   "metadata": {},
   "source": [
    "Bu fonksiyon ardışık bir dizi oluşturur. !! Son eleman diziye dahil değildir !!"
   ]
  },
  {
   "cell_type": "code",
   "execution_count": 10,
   "metadata": {},
   "outputs": [
    {
     "name": "stdout",
     "output_type": "stream",
     "text": [
      "[1 2 3 4 5 6 7 8 9]\n",
      "[1 3 5 7 9]\n"
     ]
    }
   ],
   "source": [
    "# 1'den 10'kadar bir dizi oluşturalım\n",
    "print(np.arange(1,10))\n",
    "# Dizi 2'şer artarak oluşturulsun\n",
    "print(np.arange(1,10,2))"
   ]
  },
  {
   "cell_type": "markdown",
   "metadata": {},
   "source": [
    "**np.linspace() fonksiyonu**"
   ]
  },
  {
   "cell_type": "markdown",
   "metadata": {},
   "source": [
    "Bu fonsiyon np.arange() fonksiyonuna benzer. Farklı olarak verilen iki sayı arasını istenilen nokta sayısı ile doldurur. Örneğin 1 ile 10 arasında 20 nokta sayı istersek aralıkları otomatik olarak hesaplar ve bize istediğimiz diziyi döndürür."
   ]
  },
  {
   "cell_type": "code",
   "execution_count": 11,
   "metadata": {},
   "outputs": [
    {
     "name": "stdout",
     "output_type": "stream",
     "text": [
      "[ 1.          1.47368421  1.94736842  2.42105263  2.89473684  3.36842105\n",
      "  3.84210526  4.31578947  4.78947368  5.26315789  5.73684211  6.21052632\n",
      "  6.68421053  7.15789474  7.63157895  8.10526316  8.57894737  9.05263158\n",
      "  9.52631579 10.        ]\n",
      "(20,)\n"
     ]
    }
   ],
   "source": [
    "a = np.linspace(1,10,20)\n",
    "print(a)\n",
    "print(a.shape)"
   ]
  },
  {
   "cell_type": "markdown",
   "metadata": {},
   "source": [
    "** Mantıksal indeksleme **"
   ]
  },
  {
   "cell_type": "markdown",
   "metadata": {},
   "source": [
    "Matriste belirli koşulu sağlayan elemanların bulunmasını sağlar"
   ]
  },
  {
   "cell_type": "code",
   "execution_count": 12,
   "metadata": {},
   "outputs": [
    {
     "name": "stdout",
     "output_type": "stream",
     "text": [
      "Örnek matris\n",
      "[[ 1  2  5  6]\n",
      " [ 8  9  7  8]\n",
      " [ 9 10  2 42]]\n",
      "\n",
      "5'ten büyük sayıları bulmak için mantıksal indeksi yazdıralım\n",
      "[array([[False, False, False,  True],\n",
      "       [ True,  True,  True,  True],\n",
      "       [ True,  True, False,  True]])]\n",
      "\n",
      "5'ten büyük sayıları bulalım\n",
      "[ 6  8  9  7  8  9 10 42]\n",
      "\n",
      "5'ten büyük sayıları 0'a eşitleyelim\n",
      "[[1 2 5 0]\n",
      " [0 0 0 0]\n",
      " [0 0 2 0]]\n"
     ]
    }
   ],
   "source": [
    "a = np.array([[1,2,5,6], [8,9,7,8], [9,10,2,42]])\n",
    "print(\"Örnek matris\")\n",
    "print(a)\n",
    "print(\"\\n5'ten büyük sayıları bulmak için mantıksal indeksi yazdıralım\")\n",
    "print([a>5])\n",
    "print(\"\\n5'ten büyük sayıları bulalım\")\n",
    "print(a[a>5])\n",
    "print(\"\\n5'ten büyük sayıları 0'a eşitleyelim\")\n",
    "a[a>5] = 0\n",
    "print(a)"
   ]
  },
  {
   "cell_type": "markdown",
   "metadata": {},
   "source": [
    "<div class=\"alert alert-info\">\n",
    "<b> DİZİLERDE MATEMATİK İŞLEMLERİ </b> \n",
    "</div>"
   ]
  },
  {
   "cell_type": "markdown",
   "metadata": {},
   "source": [
    "** Eleman bazında yapılan işlemler ** "
   ]
  },
  {
   "cell_type": "code",
   "execution_count": 13,
   "metadata": {},
   "outputs": [
    {
     "name": "stdout",
     "output_type": "stream",
     "text": [
      "\n",
      "A matrisi\n",
      "[[1 2]\n",
      " [3 4]]\n",
      "\n",
      "B matrisi\n",
      "[[5 6]\n",
      " [7 8]]\n",
      "\n",
      "A+B\n",
      "[[ 6  8]\n",
      " [10 12]]\n",
      "\n",
      "A matrisine sabit sayı ekleme\n",
      "[[101 102]\n",
      " [103 104]]\n",
      "\n",
      "A-B\n",
      "[[-4 -4]\n",
      " [-4 -4]]\n",
      "\n",
      "A*B\n",
      "[[ 5 12]\n",
      " [21 32]]\n",
      "\n",
      "A/B\n",
      "[[0.2        0.33333333]\n",
      " [0.42857143 0.5       ]]\n",
      "\n",
      "Karekök alma sqrt(A)\n",
      "[[1.         1.41421356]\n",
      " [1.73205081 2.        ]]\n",
      "\n",
      "Üs alma A**2\n",
      "[[ 1  4]\n",
      " [ 9 16]]\n"
     ]
    }
   ],
   "source": [
    "A = np.array([[1,2],[3,4]])\n",
    "print(\"\\nA matrisi\")\n",
    "print(A)\n",
    "B = np.array([[5,6],[7,8]])\n",
    "print(\"\\nB matrisi\")\n",
    "print(B)\n",
    "\n",
    "print(\"\\nA+B\")\n",
    "print(A+B)\n",
    "print(\"\\nA matrisine sabit sayı ekleme\")\n",
    "print(A+100)\n",
    "print(\"\\nA-B\")\n",
    "print(A-B)\n",
    "print(\"\\nA*B\")\n",
    "print(A*B)\n",
    "print(\"\\nA/B\")\n",
    "print(A/B)\n",
    "print(\"\\nKarekök alma sqrt(A)\")\n",
    "print(np.sqrt(A))\n",
    "print(\"\\nÜs alma A**2\")\n",
    "print(A**2)"
   ]
  },
  {
   "cell_type": "markdown",
   "metadata": {},
   "source": [
    "**Matris işlemleri**"
   ]
  },
  {
   "cell_type": "code",
   "execution_count": 14,
   "metadata": {},
   "outputs": [
    {
     "name": "stdout",
     "output_type": "stream",
     "text": [
      "Matris çarpımı (Dot product) A.dot(B) \n",
      "[[19 22]\n",
      " [43 50]]\n",
      "veya np.dot(A,B)\n",
      "[[19 22]\n",
      " [43 50]]\n"
     ]
    }
   ],
   "source": [
    "print(\"Matris çarpımı (Dot product) A.dot(B) \")\n",
    "print(A.dot(B))\n",
    "print(\"veya np.dot(A,B)\")\n",
    "print(np.dot(A,B))"
   ]
  },
  {
   "cell_type": "code",
   "execution_count": 15,
   "metadata": {},
   "outputs": [
    {
     "name": "stdout",
     "output_type": "stream",
     "text": [
      "Transpose alma A.T\n",
      "[[1 3]\n",
      " [2 4]]\n"
     ]
    }
   ],
   "source": [
    "print(\"Transpose alma A.T\")\n",
    "print(A.T)"
   ]
  },
  {
   "cell_type": "markdown",
   "metadata": {},
   "source": [
    "<div class=\"alert alert-info\">\n",
    "<b> DİĞER İŞLEMLER </b> \n",
    "</div>"
   ]
  },
  {
   "cell_type": "markdown",
   "metadata": {},
   "source": [
    "**Yeniden şekillendirme**<br>\n",
    "Bir diziyi yeniden şekillendirebiliriz. Yani bir vektörü matrise çevirmemiz veya tam tersini yapmamız mümkün."
   ]
  },
  {
   "cell_type": "code",
   "execution_count": 16,
   "metadata": {},
   "outputs": [
    {
     "name": "stdout",
     "output_type": "stream",
     "text": [
      "[0 1 2 3 4 5 6 7 8]\n",
      "[[0 1 2]\n",
      " [3 4 5]\n",
      " [6 7 8]]\n",
      "[0 1 2 3 4 5 6 7 8]\n"
     ]
    }
   ],
   "source": [
    "# Uzunluğu 9 olan bir vektör yaratalım\n",
    "a = np.arange(9)\n",
    "print(a)\n",
    "\n",
    "# Bunu 3x3 matris haline çevirelim\n",
    "a_reshape = a.reshape((3,3))\n",
    "print(a_reshape)\n",
    "\n",
    "# Bu matrisi tekrar vektör haline getirelim\n",
    "print(a_reshape.flatten())"
   ]
  },
  {
   "cell_type": "markdown",
   "metadata": {},
   "source": [
    "**Matrisleri birleştirme**<br>\n",
    "Matris ve vektörleri yan yana veya üst üste eklemek için np.concatenate() fonksiyonunu kullanabiliriz."
   ]
  },
  {
   "cell_type": "code",
   "execution_count": 17,
   "metadata": {},
   "outputs": [
    {
     "name": "stdout",
     "output_type": "stream",
     "text": [
      "\n",
      "A matrisi\n",
      "[[1 2]\n",
      " [3 4]]\n",
      "\n",
      "B matrisi\n",
      "[[5 6]\n",
      " [7 8]]\n",
      "\n",
      "A ve B'yi alt alta ekleyelim\n",
      "[[1 2]\n",
      " [3 4]\n",
      " [5 6]\n",
      " [7 8]]\n",
      "veya np.vstack() kullanalım\n",
      "[[1 2]\n",
      " [3 4]\n",
      " [5 6]\n",
      " [7 8]]\n",
      "\n",
      "A ve B'yi yan yana ekleyelim\n",
      "[[1 2 5 6]\n",
      " [3 4 7 8]]\n",
      "veya np.hstack() kullanalım\n",
      "[[1 2 5 6]\n",
      " [3 4 7 8]]\n"
     ]
    }
   ],
   "source": [
    "A = np.array([[1,2],[3,4]])\n",
    "print(\"\\nA matrisi\")\n",
    "print(A)\n",
    "B = np.array([[5,6],[7,8]])\n",
    "print(\"\\nB matrisi\")\n",
    "print(B)\n",
    "\n",
    "print(\"\\nA ve B'yi alt alta ekleyelim\")\n",
    "print(np.concatenate([A,B]))\n",
    "print(\"veya np.vstack() kullanalım\")\n",
    "print(np.vstack([A,B]))\n",
    "\n",
    "print(\"\\nA ve B'yi yan yana ekleyelim\")\n",
    "print(np.concatenate([A,B],axis=1)) # axis=1\n",
    "print(\"veya np.hstack() kullanalım\")\n",
    "print(np.hstack([A,B]))"
   ]
  },
  {
   "cell_type": "markdown",
   "metadata": {},
   "source": [
    "**Matrisleri ayırma**\n",
    "<br> Matrisleri ayırmak için np.split() fonksiyonu kullanabiliriz."
   ]
  },
  {
   "cell_type": "code",
   "execution_count": 18,
   "metadata": {},
   "outputs": [
    {
     "name": "stdout",
     "output_type": "stream",
     "text": [
      "[[1 2 3 4]\n",
      " [5 6 7 8]]\n",
      "\n",
      "\n",
      "Satır indeksine göre ayırma\n",
      "[[1 2 3 4]]\n",
      "[[5 6 7 8]]\n",
      "\n",
      "\n",
      "Sütun indeksine göre ayırma\n",
      "[[1]\n",
      " [5]]\n",
      "[[2 3 4]\n",
      " [6 7 8]]\n"
     ]
    }
   ],
   "source": [
    "C = np.array([[1,2,3,4],[5,6,7,8]])\n",
    "print(C)\n",
    "print(\"\\n\")\n",
    "print(\"Satır indeksine göre ayırma\")\n",
    "x,y = np.split(C, [1],axis=0)\n",
    "print(x)\n",
    "print(y)\n",
    "print(\"\\n\")\n",
    "print(\"Sütun indeksine göre ayırma\")\n",
    "x,y = np.split(C, [1],axis=1)\n",
    "print(x)\n",
    "print(y)"
   ]
  },
  {
   "cell_type": "markdown",
   "metadata": {},
   "source": [
    "**Eksik ve sonsuz değerleri matrise ekleme**<br>\n",
    "* \"not-a-number\" değerleri temsil etmek için np.nan\n",
    "* Sonsuz değerleri temsil etmek için np.inf kullanılır"
   ]
  },
  {
   "cell_type": "code",
   "execution_count": 19,
   "metadata": {},
   "outputs": [
    {
     "name": "stdout",
     "output_type": "stream",
     "text": [
      "[[ 0. nan]\n",
      " [ 1. inf]]\n"
     ]
    }
   ],
   "source": [
    "a = np.array([[0,np.nan],[1,np.inf]])\n",
    "print(a)"
   ]
  },
  {
   "cell_type": "markdown",
   "metadata": {},
   "source": [
    "**Ortalama, minimun ve maximum hesaplama**"
   ]
  },
  {
   "cell_type": "markdown",
   "metadata": {},
   "source": [
    "* np.mean(): Ortalama alır\n",
    "* np.min(): Minimum bulur\n",
    "* np.max(): Maximum bulur"
   ]
  },
  {
   "cell_type": "code",
   "execution_count": 20,
   "metadata": {},
   "outputs": [
    {
     "name": "stdout",
     "output_type": "stream",
     "text": [
      "[[ 1  2  5  6]\n",
      " [ 8  9  7  8]\n",
      " [ 9 10  2 42]]\n",
      "Ortalama - vektörel olarak, yani tüm elemanların ortalaması\n",
      "9.083333333333334\n",
      "Ortalama - satırların ortalaması\n",
      "[ 6.          7.          4.66666667 18.66666667]\n",
      "Ortalama - sütunların ortalaması\n",
      "[ 3.5   8.   15.75]\n",
      "Minimum - vektörel olarak, yani tüm elemanların minimumu\n",
      "1\n",
      "Minimum - satırların minimumu\n",
      "[1 2 2 6]\n",
      "Minimum - sütunların minimumu\n",
      "[1 7 2]\n",
      "Maksimum - vektörel olarak, yani tüm elemanların maksimumu\n",
      "42\n",
      "Maksimum - satırların maksimumu\n",
      "[ 9 10  7 42]\n",
      "Maksimum - sütunların maksimumu\n",
      "[ 6  9 42]\n"
     ]
    }
   ],
   "source": [
    "a = np.array([[1,2,5,6], [8,9,7,8], [9,10,2,42]])\n",
    "print(a)\n",
    "print(\"Ortalama - vektörel olarak, yani tüm elemanların ortalaması\")\n",
    "print(np.mean(a))\n",
    "print(\"Ortalama - satırların ortalaması\")\n",
    "print(np.mean(a,axis=0))\n",
    "print(\"Ortalama - sütunların ortalaması\")\n",
    "print(np.mean(a,axis=1))\n",
    "\n",
    "print(\"Minimum - vektörel olarak, yani tüm elemanların minimumu\")\n",
    "print(np.min(a))\n",
    "print(\"Minimum - satırların minimumu\")\n",
    "print(np.min(a,axis=0))\n",
    "print(\"Minimum - sütunların minimumu\")\n",
    "print(np.min(a,axis=1))\n",
    "\n",
    "print(\"Maksimum - vektörel olarak, yani tüm elemanların maksimumu\")\n",
    "print(np.max(a))\n",
    "print(\"Maksimum - satırların maksimumu\")\n",
    "print(np.max(a,axis=0))\n",
    "print(\"Maksimum - sütunların maksimumu\")\n",
    "print(np.max(a,axis=1))"
   ]
  },
  {
   "cell_type": "markdown",
   "metadata": {},
   "source": [
    "** Yegane (Unique) elemanların bulunması**"
   ]
  },
  {
   "cell_type": "markdown",
   "metadata": {},
   "source": [
    "* np.unique(): dizideki yegane elemanları ve sayılarını (return_counts=True)  bulur"
   ]
  },
  {
   "cell_type": "code",
   "execution_count": 21,
   "metadata": {},
   "outputs": [
    {
     "name": "stdout",
     "output_type": "stream",
     "text": [
      "[ 1  2  2  1  3  4  5  3  6 42  1  3 42  3]\n",
      "Dizideki yegane elemanlar\n",
      "[ 1  2  3  4  5  6 42]\n",
      "Dizideki yegane elemanların kaç adet oldukları\n",
      "[3 2 4 1 1 1 2]\n"
     ]
    }
   ],
   "source": [
    "a = np.array([1,2,2,1,3,4,5,3,6,42,1,3,42,3])\n",
    "print(a)\n",
    "\n",
    "u,c = np.unique(a,return_counts=True)\n",
    "print(\"Dizideki yegane elemanlar\")\n",
    "print(u)\n",
    "print(\"Dizideki yegane elemanların kaç adet oldukları\")\n",
    "print(c)"
   ]
  }
 ],
 "metadata": {
  "kernelspec": {
   "display_name": "Python 3",
   "language": "python",
   "name": "python3"
  },
  "language_info": {
   "codemirror_mode": {
    "name": "ipython",
    "version": 3
   },
   "file_extension": ".py",
   "mimetype": "text/x-python",
   "name": "python",
   "nbconvert_exporter": "python",
   "pygments_lexer": "ipython3",
   "version": "3.6.5"
  }
 },
 "nbformat": 4,
 "nbformat_minor": 2
}
