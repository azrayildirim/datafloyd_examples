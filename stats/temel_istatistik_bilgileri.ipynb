{
 "cells": [
  {
   "cell_type": "markdown",
   "metadata": {
    "toc": true
   },
   "source": [
    "<h1>İçindekiler<span class=\"tocSkip\"></span></h1>\n",
    "<div class=\"toc\"><ul class=\"toc-item\"><li><span><a href=\"#İstatistik-nedir?\" data-toc-modified-id=\"İstatistik-nedir?-1\"><span class=\"toc-item-num\">1&nbsp;&nbsp;</span>İstatistik nedir?</a></span></li><li><span><a href=\"#Temel-istatistiksel-parametreler-ve-yöntemler\" data-toc-modified-id=\"Temel-istatistiksel-parametreler-ve-yöntemler-2\"><span class=\"toc-item-num\">2&nbsp;&nbsp;</span>Temel istatistiksel parametreler ve yöntemler</a></span></li><li><span><a href=\"#Hipotez-testi-nedir?\" data-toc-modified-id=\"Hipotez-testi-nedir?-3\"><span class=\"toc-item-num\">3&nbsp;&nbsp;</span>Hipotez testi nedir?</a></span></li></ul></div>"
   ]
  },
  {
   "cell_type": "markdown",
   "metadata": {},
   "source": [
    "## İstatistik nedir?"
   ]
  },
  {
   "cell_type": "markdown",
   "metadata": {},
   "source": [
    "Düşünün ki elimizde çok büyük bir veri seti var, mesela şehrinizdeki tüm insanların boy, kilo ve yaş bilgilerine sahipsiniz. Bir insanının tüm bu ham veriyi tümüyle anlayabilmesi mümkün değildir. Bu sebeple veriyi anlayabilmemizi kolaylaştıracak çeşitli metrikler ve yöntemler kullanmamız gerekmektedir. Örneğin bu verinin ortalamasına bakabiliriz. Böylece insanların ortalama ne kadar bir boya sahip oldukları konusunda fikrimiz olur. Veya en kısa ve en uzun boylu insanlara bakıp bunları ortalama ile karşılaştırabiliriz.  \n",
    "\n",
    "**İstatistik** en genel tanımıyla elimizdeki veriyi anlayabilmek için kullandığımız matematiksel yöntemler ve nümerik teknikler bütünüdür. \n",
    "\n",
    "Bu kısa tanımın arkasında çok büyük bir araştırma ve bilimsel geçmiş bulunmaktadır. Bu yazımızda bu geniş alana ilişkin bilinmesi gereken çok temel bilgileri sizlere sunmaya çalışacağız. "
   ]
  },
  {
   "cell_type": "markdown",
   "metadata": {},
   "source": [
    "## Temel istatistiksel parametreler ve yöntemler"
   ]
  },
  {
   "cell_type": "markdown",
   "metadata": {},
   "source": [
    "Hangi alanda çalışırsanız çalışın, temel bilgileri hakkıyla öğrenmeden ilerlemeniz mümkün değildir. İşe temel istatistiksel kavramları ve hesaplamaları gözden geçirerek başlayalım. Kavramları gözden geçirebilmek için örnek bir veri seti kullanalım isterseniz.\n",
    "\n",
    "Aşağıdaki adresteki veri seti şu aşamada yeterli gibi duruyor. Bunu \"csv\" halinde indirip kullanabiliriz.\n",
    "\n",
    "https://www.kaggle.com/yersever/500-person-gender-height-weight-bodymassindex\n",
    "\n",
    "Not: Veriyi *pandas* kullanarak okuyacağız. Eğer bu konuda yardıma ihtiyacınız varsa *pandas* kütüphanesi kullanımı ile ilgili yazımıza bakabilirsiniz."
   ]
  },
  {
   "cell_type": "code",
   "execution_count": 41,
   "metadata": {},
   "outputs": [],
   "source": [
    "import pandas as pd # pandas dataframe yapısını kullanmak için gerekecek\n",
    "import numpy as np # np lazım olabilir :)\n",
    "sample_data = pd.read_csv(\"500_Person_Gender_Height_Weight_Index.csv\")"
   ]
  },
  {
   "cell_type": "code",
   "execution_count": 42,
   "metadata": {},
   "outputs": [
    {
     "data": {
      "text/plain": [
       "Index(['Gender', 'Height', 'Weight', 'Index'], dtype='object')"
      ]
     },
     "execution_count": 42,
     "metadata": {},
     "output_type": "execute_result"
    }
   ],
   "source": [
    "# verimizdeki sütunlara bakalım\n",
    "sample_data.columns"
   ]
  },
  {
   "cell_type": "markdown",
   "metadata": {},
   "source": [
    "Her satırda bir kişiye ilişkin \"Cinsiyet, Boy ve Kilo\" bilgilerinin olduğunu görüyoruz. Daha rahat çalışabilmek için bunları  Boy ve Kilo değişkenlerine atayalım."
   ]
  },
  {
   "cell_type": "code",
   "execution_count": 43,
   "metadata": {},
   "outputs": [],
   "source": [
    "boy = sample_data[[\"Height\"]].values.ravel()\n",
    "kilo = sample_data[[\"Weight\"]].values.ravel()\n",
    "# sondaki values fonksiyonu değerleri almak için, ravel fonksiyonu \n",
    "# ise ortaya çıkan array'i bitişik yazmak için kullanılmıştır."
   ]
  },
  {
   "cell_type": "markdown",
   "metadata": {},
   "source": [
    ">**Ortalama (mean):** Ortalama bir verideki tüm elemanların toplanıp bunun eleman sayısına bölünmesiyle bulunur. "
   ]
  },
  {
   "cell_type": "markdown",
   "metadata": {},
   "source": [
    "Örnek sayısına $n$ dersek ortalama değerin matematiksel ifadesi aşağıdaki gibidir:\n",
    "\n",
    "$${\\displaystyle {\\bar {x}}={\\frac {1}{n}}\\left(\\sum _{i=1}^{n}{x_{i}}\\right)}$$\n"
   ]
  },
  {
   "cell_type": "markdown",
   "metadata": {},
   "source": [
    "Gelin hep beraber fonksiyon kullanmak yerine yukarıdaki denklemi bir fonksiyon cinsinden ifade edelim"
   ]
  },
  {
   "cell_type": "code",
   "execution_count": 44,
   "metadata": {},
   "outputs": [],
   "source": [
    "def ortalama(x):\n",
    "    # sum toplamı bulur\n",
    "    # len eleman sayısını bulur\n",
    "    return sum(x) / len(x)"
   ]
  },
  {
   "cell_type": "code",
   "execution_count": 45,
   "metadata": {},
   "outputs": [
    {
     "name": "stdout",
     "output_type": "stream",
     "text": [
      "169.944\n"
     ]
    }
   ],
   "source": [
    "# Yazıdığımız fonksiyonu kullanarak\n",
    "# Boy (Height) değişkeninin ortalama değerini bulalım\n",
    "print(ortalama(boy))"
   ]
  },
  {
   "cell_type": "markdown",
   "metadata": {},
   "source": [
    "Bu örneklemdeki boy ortalamasının 169.944 cm olduğunu görüyoruz."
   ]
  },
  {
   "cell_type": "markdown",
   "metadata": {},
   "source": [
    ">**Medyan (median):** Bir dizideki değerleri sıraladığımız zaman en ortadaki değere medyan denilmektedir.Eğer dizideki eleman sayısı çift ise en ortadaki iki elemanın ortalaması alınarak hesaplanır."
   ]
  },
  {
   "cell_type": "code",
   "execution_count": 46,
   "metadata": {},
   "outputs": [],
   "source": [
    "def medyan(x):\n",
    "    # toplam örnek sayısını bulalım\n",
    "    n = len(x)\n",
    "    # diziyi sıralayalım\n",
    "    x = sorted(x)\n",
    "    # tam sayı bölme yaparak orta noktayı buluyoruz\n",
    "    orta_nokta = n // 2\n",
    "    \n",
    "    # eğer örnek sayısı tek ise en ortadaki değer döndürülüyor\n",
    "    if n % 2 == 1:\n",
    "        return x[midpoint]\n",
    "    # eğer çift ise bir öncek ve sonraki değerin ortalaması alınır\n",
    "    else:\n",
    "        return (x[orta_nokta-1] + x[orta_nokta]) / 2"
   ]
  },
  {
   "cell_type": "code",
   "execution_count": 50,
   "metadata": {},
   "outputs": [
    {
     "name": "stdout",
     "output_type": "stream",
     "text": [
      "170.5\n"
     ]
    }
   ],
   "source": [
    "print(medyan(boy))"
   ]
  },
  {
   "cell_type": "markdown",
   "metadata": {},
   "source": [
    "## Hipotez testi nedir?\n",
    "Çoğu zaman elimizde bulunan veriyi kullanarak çeşitli çıkarımlar yapmaya çalışırız. Yapmak istediğimiz çıkarımlar genellikle istatistiksel parametreler üzerine olur. \n",
    "\n",
    "Örneğin bir şehirde yaşayan insanların **ortalama boylarını** bulmaya çalıştığımızı varsayalım. Fakat şehrimizde 1 milyon insan var ve bu insanların hepsinin boylarını bilmemiz çok olanaklı değil. Bu amaçla bir anket yapmaya karar veriyoruz ve  yaklaşık 1000 kişiye sorup boylarını kaydediyoruz. \n",
    "\n",
    "Burada kendimize şu temel soruyu sormamız gerekir: Elde ettiğimiz 1000 kişinin boy verisini kullanarak şehrin tümünün boy ortalamasını bulmamız mümkün müdür?"
   ]
  },
  {
   "cell_type": "code",
   "execution_count": null,
   "metadata": {},
   "outputs": [],
   "source": []
  }
 ],
 "metadata": {
  "hide_input": false,
  "kernelspec": {
   "display_name": "deep_learning",
   "language": "python",
   "name": "dl"
  },
  "language_info": {
   "codemirror_mode": {
    "name": "ipython",
    "version": 3
   },
   "file_extension": ".py",
   "mimetype": "text/x-python",
   "name": "python",
   "nbconvert_exporter": "python",
   "pygments_lexer": "ipython3",
   "version": "3.6.7"
  },
  "toc": {
   "base_numbering": 1,
   "nav_menu": {},
   "number_sections": true,
   "sideBar": false,
   "skip_h1_title": true,
   "title_cell": "İçindekiler",
   "title_sidebar": "Contents",
   "toc_cell": true,
   "toc_position": {
    "height": "307px",
    "left": "10px",
    "top": "150px",
    "width": "356px"
   },
   "toc_section_display": true,
   "toc_window_display": true
  }
 },
 "nbformat": 4,
 "nbformat_minor": 2
}
