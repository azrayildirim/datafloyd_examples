{
 "cells": [
  {
   "cell_type": "markdown",
   "metadata": {},
   "source": [
    "<div align=\"left\">\n",
    "<table style=\"width:50%\">\n",
    "  <tr>\n",
    "    <th>Author</th>\n",
    "    <th>Version</th> \n",
    "    <th>Date </th> \n",
    "    <th>Lang.</th>\n",
    "  </tr>\n",
    "  <tr>\n",
    "    <td>dataFLOYD</td>\n",
    "    <td>v1.00</td> \n",
    "    <td>26 Agu 2018</td>\n",
    "    <td>EN </td>\n",
    "  </tr>\n",
    "</table>\n",
    "</div>\n",
    "\n",
    "# Python basics for Data Science\n",
    "\n",
    "\n",
    "One of the most important languages that can be used for data science is Python. Python allows you to do the data science operations very efficiently, thanks to easy-to-learn syntax and powerful libraries. It is recommended to learn Python for those who want to enter the field of data science. \n",
    "\n",
    "I thought it might be better to give codelets that might be needed for data science rather than teaching the language in this document in a formal way. So enjoy your journey.\n",
    "\n",
    "------------"
   ]
  },
  {
   "cell_type": "markdown",
   "metadata": {},
   "source": [
    "<div class=\"alert alert-warning\">\n",
    "<b> BASIC VARIABLES </b> \n",
    "</div>"
   ]
  },
  {
   "cell_type": "code",
   "execution_count": 1,
   "metadata": {},
   "outputs": [
    {
     "name": "stdout",
     "output_type": "stream",
     "text": [
      "Python version\n",
      "3.6.5 |Anaconda, Inc.| (default, Mar 29 2018, 13:32:41) [MSC v.1900 64 bit (AMD64)]\n",
      "\n",
      "\n",
      "a = 2 / Type: int\n",
      "\n",
      "\n",
      "b = 3.000000 / Type: float \n",
      "\n",
      "\n",
      "c = True / Type: bool \n",
      "\n",
      "\n",
      "d = demo / Type: str \n",
      "\n",
      "\n",
      "e = 1j / Type: complex \n"
     ]
    }
   ],
   "source": [
    "# Let's see the python version\n",
    "import sys # importing library\n",
    "print(\"Python version\")\n",
    "print(sys.version)\n",
    "# Newline\n",
    "print(\"\\n\")\n",
    "\n",
    "# Variables\n",
    "\n",
    "# integer\n",
    "a = 2\n",
    "print(\"a = %d / Type: %s\" % (a,type(a).__name__ ) )\n",
    "print(\"\\n\")\n",
    "\n",
    "# float\n",
    "b = 3.0\n",
    "print(\"b = %f / Type: %s \" % (b,type(b).__name__ ) )\n",
    "print(\"\\n\")\n",
    "\n",
    "# boolean\n",
    "c = True\n",
    "print(\"c = %r / Type: %s \" % (c,type(c).__name__ ))\n",
    "print(\"\\n\")\n",
    "\n",
    "# string\n",
    "d = \"demo\"\n",
    "print(\"d = %s / Type: %s \" % (d,type(d).__name__ ))\n",
    "print(\"\\n\")\n",
    "\n",
    "# complex\n",
    "e = 1j\n",
    "print(\"e = %s / Type: %s \" % (e,type(e).__name__ ))"
   ]
  },
  {
   "cell_type": "markdown",
   "metadata": {},
   "source": [
    "* **Variable conversions**"
   ]
  },
  {
   "cell_type": "code",
   "execution_count": 2,
   "metadata": {},
   "outputs": [
    {
     "name": "stdout",
     "output_type": "stream",
     "text": [
      "a = 1.345000 / Type: float\n",
      "a = 1 / Type: int\n",
      "\n",
      "\n",
      "a = 1.345000 / Type: float\n",
      "a = 1.345 / Type: str\n"
     ]
    }
   ],
   "source": [
    "# Convert float to integer\n",
    "a = 1.345\n",
    "print(\"a = %f / Type: %s\" % (a,type(a).__name__ ) )\n",
    "a = int(1.345)\n",
    "print(\"a = %d / Type: %s\" % (a,type(a).__name__ ) )\n",
    "print(\"\\n\")\n",
    "\n",
    "\n",
    "# Convert float to string\n",
    "a = 1.345\n",
    "print(\"a = %f / Type: %s\" % (a,type(a).__name__ ) )\n",
    "a = str(1.345)\n",
    "print(\"a = %s / Type: %s\" % (a,type(a).__name__ ) )\n"
   ]
  },
  {
   "cell_type": "markdown",
   "metadata": {},
   "source": [
    "--------------"
   ]
  },
  {
   "cell_type": "markdown",
   "metadata": {},
   "source": [
    "<div class=\"alert alert-warning\">\n",
    "<b> DATA STRUCTURES </b> \n",
    "</div>"
   ]
  },
  {
   "cell_type": "markdown",
   "metadata": {},
   "source": [
    "**LIST**"
   ]
  },
  {
   "cell_type": "code",
   "execution_count": 3,
   "metadata": {},
   "outputs": [],
   "source": [
    "# Create a list\n",
    "a_list = [1,2,3,4,5]"
   ]
  },
  {
   "cell_type": "code",
   "execution_count": 4,
   "metadata": {},
   "outputs": [
    {
     "name": "stdout",
     "output_type": "stream",
     "text": [
      "1\n",
      "[1, 2]\n",
      "[3, 4, 5]\n",
      "[3]\n",
      "5\n"
     ]
    }
   ],
   "source": [
    "# Access an element of the list\n",
    "print(a_list[0])\n",
    "\n",
    "# Slice the list from beginning up to second element\n",
    "# This operation returns a list\n",
    "print(a_list[:2])\n",
    "\n",
    "# Slice the list from the second element upto the end\n",
    "print(a_list[2:])\n",
    "\n",
    "# Slice the list from 2nd to 3rd element\n",
    "print(a_list[2:3])\n",
    "\n",
    "# Access the last element of the list\n",
    "print(a_list[-1])"
   ]
  },
  {
   "cell_type": "markdown",
   "metadata": {},
   "source": [
    "The elements of the list might be other types of variables or even lists. "
   ]
  },
  {
   "cell_type": "code",
   "execution_count": 5,
   "metadata": {},
   "outputs": [
    {
     "name": "stdout",
     "output_type": "stream",
     "text": [
      "[1, 'hello', True, [1, 2, 3, 4], 3.14, ['goodbye', 1234]]\n",
      "[True, [1, 2, 3, 4]]\n"
     ]
    }
   ],
   "source": [
    "b_list = [1, \"hello\", True, [1,2,3,4], 3.14,[\"goodbye\",1234]]\n",
    "print(b_list)\n",
    "print(b_list[2:4])"
   ]
  },
  {
   "cell_type": "markdown",
   "metadata": {},
   "source": [
    "To access lists within a list, we need use double indexing as shown below"
   ]
  },
  {
   "cell_type": "code",
   "execution_count": 6,
   "metadata": {},
   "outputs": [
    {
     "data": {
      "text/plain": [
       "'goodbye'"
      ]
     },
     "execution_count": 6,
     "metadata": {},
     "output_type": "execute_result"
    }
   ],
   "source": [
    "b_list[-1][0]"
   ]
  },
  {
   "cell_type": "markdown",
   "metadata": {},
   "source": [
    " * ** List Comprehensions ** <br>\n",
    "This process helps to create new lists from other lists in a single line. Actually, the operation is the same as using a \"for loop\", but with a big difference, it looks cooler :) It is possible to create very complex list comprehensions, but for now let's focus on a simple example. Let's create a new list by taking power of each element of a list."
   ]
  },
  {
   "cell_type": "code",
   "execution_count": 7,
   "metadata": {},
   "outputs": [
    {
     "name": "stdout",
     "output_type": "stream",
     "text": [
      "[1, 4, 9, 16, 25, 36]\n"
     ]
    }
   ],
   "source": [
    "a_list = [1,2,3,4,5,6]\n",
    "b_list = [x**2 for x in a_list]\n",
    "print(b_list)"
   ]
  },
  {
   "cell_type": "markdown",
   "metadata": {},
   "source": [
    "**TUPLES** <br>\n",
    "When defining a tuple, round brackets are used instead of square brackets.<br>\n",
    "*The most import feeature of the tuple data structure is being \"immutable\". In other words after we define a tuple, it is impossible to change it* <br> In the example below we get an error message when trying to change the first element of a tuple.  ('tuple' object does not support item assignment)"
   ]
  },
  {
   "cell_type": "code",
   "execution_count": 8,
   "metadata": {},
   "outputs": [
    {
     "name": "stdout",
     "output_type": "stream",
     "text": [
      "1\n",
      "one\n",
      "'tuple' object does not support item assignment\n"
     ]
    }
   ],
   "source": [
    "a_tuple = (1,\"one\")\n",
    "print(a_tuple[0])\n",
    "print(a_tuple[1])\n",
    "# Let's try to change the tuple\n",
    "try:\n",
    "    a_tuple[0] = \"possible?\"\n",
    "except Exception as e:\n",
    "    print(e)\n",
    "    "
   ]
  },
  {
   "cell_type": "markdown",
   "metadata": {},
   "source": [
    "**DICTIONARY** <br>\n",
    "One the  most useful data types is Dictionary. It is used for many real world work. It comprises of Key-Value pairs."
   ]
  },
  {
   "cell_type": "code",
   "execution_count": 9,
   "metadata": {},
   "outputs": [
    {
     "data": {
      "text/plain": [
       "{'list_example': [1, 2, 3, 4],\n",
       " 'text': 'dictionary example',\n",
       " 'dict-ception': {'a': [1, 2], 'b': [3, 4]},\n",
       " 'my_favorite_bands': ['Pink Floyd', 'Queen'],\n",
       " 'my_favorite_songs': ['Time', 'Bohemian Rhapsody']}"
      ]
     },
     "execution_count": 9,
     "metadata": {},
     "output_type": "execute_result"
    }
   ],
   "source": [
    "dict_a = {\"list_example\":[1,2,3,4],\"text\":\"dictionary example\",\n",
    "          \"dict-ception\": {\"a\":[1,2],\"b\":[3,4]},\n",
    "          \"my_favorite_bands\":[\"Pink Floyd\",\"Queen\"],\n",
    "         \"my_favorite_songs\":[\"Time\",\"Bohemian Rhapsody\"]}\n",
    "dict_a"
   ]
  },
  {
   "cell_type": "code",
   "execution_count": 10,
   "metadata": {},
   "outputs": [
    {
     "data": {
      "text/plain": [
       "{'a': [1, 2], 'b': [3, 4]}"
      ]
     },
     "execution_count": 10,
     "metadata": {},
     "output_type": "execute_result"
    }
   ],
   "source": [
    "# Access the values for a specific key\n",
    "dict_a[\"dict-ception\"]"
   ]
  },
  {
   "cell_type": "code",
   "execution_count": 11,
   "metadata": {},
   "outputs": [
    {
     "data": {
      "text/plain": [
       "2"
      ]
     },
     "execution_count": 11,
     "metadata": {},
     "output_type": "execute_result"
    }
   ],
   "source": [
    "# Access the second level and further\n",
    "dict_a[\"dict-ception\"][\"a\"][-1]"
   ]
  },
  {
   "cell_type": "markdown",
   "metadata": {},
   "source": [
    "**SET** <br>\n",
    "It is the unordered and unindexed collection of variables. We can carry out mathematical operations like union, intersection, difference and symmetric difference by using sets.\n"
   ]
  },
  {
   "cell_type": "code",
   "execution_count": 12,
   "metadata": {},
   "outputs": [
    {
     "name": "stdout",
     "output_type": "stream",
     "text": [
      "   Union\n",
      "{1, 2, 3, 4, 5, 6, 7, 8}\n",
      "{1, 2, 3, 4, 5, 6, 7, 8}\n",
      "   Intersection\n",
      "{4, 5}\n",
      "{4, 5}\n",
      "   Diffence of a from b\n",
      "{1, 2, 3}\n",
      "{1, 2, 3}\n",
      "   Symmetric difference\n",
      "{1, 2, 3, 6, 7, 8}\n"
     ]
    }
   ],
   "source": [
    "a_set = {1,2,3,4,5}\n",
    "b_set = {4,5,6,7,8}\n",
    "# Union\n",
    "print(\"   Union\")\n",
    "print(a_set.union(b_set))\n",
    "#or\n",
    "print(a_set | b_set)\n",
    "\n",
    "# Intersection\n",
    "print(\"   Intersection\")\n",
    "print(a_set.intersection(b_set))\n",
    "#or\n",
    "print(a_set & b_set)\n",
    "\n",
    "# Difference\n",
    "print(\"   Diffence of a from b\")\n",
    "print(a_set.difference(b_set))\n",
    "# or\n",
    "print(a_set-b_set)\n",
    "\n",
    "# Symmetric difference\n",
    "print(\"   Symmetric difference\")\n",
    "print(a_set ^ b_set)\n"
   ]
  },
  {
   "cell_type": "markdown",
   "metadata": {},
   "source": [
    "--------------"
   ]
  },
  {
   "cell_type": "markdown",
   "metadata": {},
   "source": [
    "<div class=\"alert alert-warning\">\n",
    "<b> BASIC MATHEMATICAL OPERATIONS </b> \n",
    "</div>"
   ]
  },
  {
   "cell_type": "markdown",
   "metadata": {},
   "source": [
    "For single variables"
   ]
  },
  {
   "cell_type": "code",
   "execution_count": 13,
   "metadata": {},
   "outputs": [
    {
     "name": "stdout",
     "output_type": "stream",
     "text": [
      "a = 6 \n",
      "b = 3.000000 \n",
      "   Addition a+b \n",
      "9.0\n",
      "   Subtraction a-b \n",
      "3.0\n",
      "   Assignment c=a+b \n",
      "9.0\n",
      "   Division a/b \n",
      "2.0\n",
      "   Multiplication a*b \n",
      "18.0\n",
      "   Power a**b \n",
      "216.0\n",
      "   Mod a%(b+1) \n",
      "2.0\n"
     ]
    }
   ],
   "source": [
    "a = 6\n",
    "b = 3.0\n",
    "print(\"a = %d \" % a)\n",
    "print(\"b = %f \" % b)\n",
    "print(\"   Addition a+b \")\n",
    "print(a + b)\n",
    "print(\"   Subtraction a-b \")\n",
    "print(a-b)\n",
    "print(\"   Assignment c=a+b \")\n",
    "c=a+b\n",
    "print(c)\n",
    "print(\"   Division a/b \")\n",
    "print(a/b)\n",
    "print(\"   Multiplication a*b \")\n",
    "print(a*b)\n",
    "print(\"   Power a**b \")\n",
    "print(a**b)\n",
    "print(\"   Mod a%(b+1) \")\n",
    "print(a%(b+1))"
   ]
  },
  {
   "cell_type": "markdown",
   "metadata": {},
   "source": [
    "** For lists **"
   ]
  },
  {
   "cell_type": "code",
   "execution_count": 14,
   "metadata": {},
   "outputs": [
    {
     "name": "stdout",
     "output_type": "stream",
     "text": [
      "[1, 2, 3, 4, 5]\n",
      "[1, 2, 1, 2, 1, 2, 1, 2]\n"
     ]
    }
   ],
   "source": [
    "a_list = [1,2]\n",
    "b_list = [3,4,5]\n",
    "# Adding to lists\n",
    "print(a_list+b_list)\n",
    "# Multiplying lists\n",
    "print(a_list*4)"
   ]
  },
  {
   "cell_type": "markdown",
   "metadata": {},
   "source": [
    "** For strings **"
   ]
  },
  {
   "cell_type": "code",
   "execution_count": 15,
   "metadata": {},
   "outputs": [
    {
     "name": "stdout",
     "output_type": "stream",
     "text": [
      "asdqwerty\n",
      "asdasdasdasd\n"
     ]
    }
   ],
   "source": [
    "a_str = \"asd\"\n",
    "b_str = \"qwerty\"\n",
    "# Adding strings\n",
    "print(a_str+b_str)\n",
    "# Multiplying strings\n",
    "print(a_str*4)"
   ]
  },
  {
   "cell_type": "markdown",
   "metadata": {},
   "source": [
    "<div class=\"alert alert-warning\">\n",
    "<b> FLOW CONTROL </b> \n",
    "</div>"
   ]
  },
  {
   "cell_type": "markdown",
   "metadata": {},
   "source": [
    "**\"if / else\" and boolean operators**"
   ]
  },
  {
   "cell_type": "code",
   "execution_count": 16,
   "metadata": {},
   "outputs": [
    {
     "name": "stdout",
     "output_type": "stream",
     "text": [
      "k==5 is True\n",
      "Else part activated!\n",
      "k is bigger than 3\n",
      "k is smaller than 5\n",
      "k is equal to 5 AND l is equal to 10\n",
      "k is equal to 5 OR l is equal to 20\n",
      "end of elif chain\n"
     ]
    }
   ],
   "source": [
    "# Create two variables\n",
    "k=5\n",
    "l=10\n",
    "\n",
    "# Equal\n",
    "if k==5: \n",
    "    print(\"k==5 is True\")\n",
    "\n",
    "# Not Equal\n",
    "if k!=5:\n",
    "    print(\"Nothing\")\n",
    "else:\n",
    "    print(\"Else part activated!\")\n",
    "    \n",
    "# Bigger than\n",
    "if k>3:\n",
    "    print(\"k is bigger than 3\")\n",
    "\n",
    "# Smaller than\n",
    "if k<=5:\n",
    "    print(\"k is smaller than 5\")\n",
    "\n",
    "# And\n",
    "if (k==5) and (l==10):\n",
    "    print(\"k is equal to 5 AND l is equal to 10\")\n",
    "\n",
    "# Or\n",
    "if (k==5) or (l==20):\n",
    "    print(\"k is equal to 5 OR l is equal to 20\")\n",
    "\n",
    "# elif\n",
    "if k>5:\n",
    "    print(\"Nothing\")\n",
    "elif k<5:\n",
    "    print(\"Nothing\")\n",
    "elif k==5:\n",
    "    print(\"end of elif chain\")"
   ]
  },
  {
   "cell_type": "markdown",
   "metadata": {},
   "source": [
    " * **if / else single line usage **"
   ]
  },
  {
   "cell_type": "code",
   "execution_count": 17,
   "metadata": {},
   "outputs": [
    {
     "name": "stdout",
     "output_type": "stream",
     "text": [
      "5 is bigger than 3\n"
     ]
    }
   ],
   "source": [
    "if 5 > 3: print(\"5 is bigger than 3\")"
   ]
  },
  {
   "cell_type": "code",
   "execution_count": 18,
   "metadata": {},
   "outputs": [
    {
     "name": "stdout",
     "output_type": "stream",
     "text": [
      "False \n"
     ]
    }
   ],
   "source": [
    "print(\"Nothing\") if 5 < 3 else print(\"False \")"
   ]
  },
  {
   "cell_type": "markdown",
   "metadata": {},
   "source": [
    "**\"for\" loop**"
   ]
  },
  {
   "cell_type": "code",
   "execution_count": 19,
   "metadata": {},
   "outputs": [
    {
     "name": "stdout",
     "output_type": "stream",
     "text": [
      "1\n",
      "2\n",
      "3\n",
      "4\n"
     ]
    }
   ],
   "source": [
    "for i in [1,2,3,4]:\n",
    "    print(i)"
   ]
  },
  {
   "cell_type": "markdown",
   "metadata": {},
   "source": [
    "**\"while\" loop**"
   ]
  },
  {
   "cell_type": "code",
   "execution_count": 20,
   "metadata": {},
   "outputs": [
    {
     "name": "stdout",
     "output_type": "stream",
     "text": [
      "0\n",
      "1\n",
      "2\n",
      "3\n",
      "4\n"
     ]
    }
   ],
   "source": [
    "i=0\n",
    "while i < 5:\n",
    "    print(i)\n",
    "    i=i+1"
   ]
  },
  {
   "cell_type": "markdown",
   "metadata": {},
   "source": [
    "**\"break\",\"continue\",\"pass\" **\n",
    "- break: Ends the loop\n",
    "- continue: Continues to next iteration\n",
    "- pass: does nothing. It can be used when a statement is required syntactically but the program requires no action"
   ]
  },
  {
   "cell_type": "code",
   "execution_count": 21,
   "metadata": {},
   "outputs": [
    {
     "name": "stdout",
     "output_type": "stream",
     "text": [
      "continue: Thoughest day is Monday :( Let's skip this. Won't appear again in the loop\n",
      "pass: This has no effect Tuesday. It will be used in the bottom statement\n",
      " Today Tuesday\n",
      " Today Wednesday\n",
      " Today Thursday\n",
      "break: Before reaching to Saturday, let's finish at Friday. Saturday and Sunday won't appear\n"
     ]
    }
   ],
   "source": [
    "days = [\"Monday\",\"Tuesday\",\"Wednesday\",\"Thursday\",\"Friday\",\"Saturday\",\"Sunday\"]\n",
    "\n",
    "for day in days:\n",
    "    if day == \"Monday\":\n",
    "        print(\"continue: Thoughest day is \" + day + \" :( Let's skip this. Won't appear again in the loop\")\n",
    "        continue\n",
    "    if day == \"Tuesday\":\n",
    "        print(\"pass: This has no effect \" + day + \". It will be used in the bottom statement\")\n",
    "        pass\n",
    "    if day == \"Friday\":\n",
    "        print(\"break: Before reaching to Saturday, let's finish at \" + day + \". Saturday and Sunday won't appear\")\n",
    "        break\n",
    "    else:\n",
    "        print(\" Today \" + day)"
   ]
  },
  {
   "cell_type": "markdown",
   "metadata": {},
   "source": [
    "** try and except ** <br>\n",
    "We use try and excpet when we want to find the errors within a program. After except statement it is possible to capture the error message."
   ]
  },
  {
   "cell_type": "code",
   "execution_count": 22,
   "metadata": {},
   "outputs": [
    {
     "name": "stdout",
     "output_type": "stream",
     "text": [
      "'tuple' object does not support item assignment\n"
     ]
    }
   ],
   "source": [
    "a_tuple = (1,\"one\")\n",
    "# Try to change the tuple\n",
    "try:\n",
    "    a_tuple[0] = \"possible?\"\n",
    "except Exception as e:\n",
    "    print(e)"
   ]
  },
  {
   "cell_type": "markdown",
   "metadata": {},
   "source": [
    "<div class=\"alert alert-warning\">\n",
    "<b> FUNCTIONS </b> \n",
    "</div>"
   ]
  },
  {
   "cell_type": "markdown",
   "metadata": {},
   "source": [
    "Functions are pieces of codes which are run when they are called. Functions can take inputs and return values."
   ]
  },
  {
   "cell_type": "code",
   "execution_count": 23,
   "metadata": {},
   "outputs": [
    {
     "name": "stdout",
     "output_type": "stream",
     "text": [
      "Hello world!\n"
     ]
    }
   ],
   "source": [
    "# Let's prepare a simple simple function\n",
    "def a_function():\n",
    "    print(\"Hello world!\")\n",
    "# Calling the function\n",
    "a_function()"
   ]
  },
  {
   "cell_type": "code",
   "execution_count": 24,
   "metadata": {},
   "outputs": [
    {
     "name": "stdout",
     "output_type": "stream",
     "text": [
      "Here is Turkey\n",
      "Here is World\n"
     ]
    }
   ],
   "source": [
    "# A function with a default parameter\n",
    "def b_function(country_name=\"Turkey\"):\n",
    "    print(\"Here is \" + country_name)\n",
    "\n",
    "b_function()\n",
    "b_function(\"World\")"
   ]
  },
  {
   "cell_type": "code",
   "execution_count": 25,
   "metadata": {},
   "outputs": [
    {
     "name": "stdout",
     "output_type": "stream",
     "text": [
      "9\n"
     ]
    }
   ],
   "source": [
    "# A function with a return value\n",
    "def c_function(num = 2):\n",
    "    return num**2\n",
    "\n",
    "ret_val = c_function(3)\n",
    "print(ret_val)"
   ]
  },
  {
   "cell_type": "markdown",
   "metadata": {},
   "source": [
    "**LAMBDA FUNCTIONS** "
   ]
  },
  {
   "cell_type": "markdown",
   "metadata": {},
   "source": [
    "Lambda functions can take more than one parameter bu they have only one expression. <br>The general structure of a lambda function is given below <br>\n",
    "\n",
    "<p style=\"text-align: center;\"> *lambda parametre : ifade* </p>\n"
   ]
  },
  {
   "cell_type": "code",
   "execution_count": 26,
   "metadata": {},
   "outputs": [
    {
     "name": "stdout",
     "output_type": "stream",
     "text": [
      "27\n"
     ]
    }
   ],
   "source": [
    "# A lambda function for taking the third power of a number\n",
    "a_lambda_function = lambda x : x**3\n",
    "print(a_lambda_function(3))"
   ]
  },
  {
   "cell_type": "markdown",
   "metadata": {},
   "source": [
    "Let's say we need to create a generic function family to take the nth power of a number. For this purpose we can use a lambda function inside another function."
   ]
  },
  {
   "cell_type": "code",
   "execution_count": 27,
   "metadata": {},
   "outputs": [
    {
     "name": "stdout",
     "output_type": "stream",
     "text": [
      "4\n",
      "8\n",
      "16\n"
     ]
    }
   ],
   "source": [
    "def power_family(n):\n",
    "    return lambda x:x**n\n",
    "\n",
    "second_power = power_family(2)\n",
    "third_power = power_family(3)\n",
    "fourth_power = power_family(4)\n",
    "\n",
    "print(second_power(2))\n",
    "print(third_power(2))\n",
    "print(fourth_power(2))"
   ]
  },
  {
   "cell_type": "markdown",
   "metadata": {},
   "source": [
    "<div class=\"alert alert-warning\">\n",
    "<b> CLASSES </b> \n",
    "</div>"
   ]
  },
  {
   "cell_type": "markdown",
   "metadata": {},
   "source": [
    "Python is an object oriented language. Virtually everything in python language is composed of objects, properties and methods.<br>"
   ]
  },
  {
   "cell_type": "code",
   "execution_count": 28,
   "metadata": {},
   "outputs": [],
   "source": [
    "# Class definition\n",
    "class a_class:\n",
    "    # Constructor\n",
    "    def __init__(self,name,number):\n",
    "        self.name = name\n",
    "        self.number = number\n",
    "    def print_info(self):\n",
    "        print(\"Name: \" + self.name + \"\\nNumber: \" + str(self.number))"
   ]
  },
  {
   "cell_type": "code",
   "execution_count": 29,
   "metadata": {},
   "outputs": [
    {
     "name": "stdout",
     "output_type": "stream",
     "text": [
      "Name: dataFLOYD\n",
      "Number: 42\n"
     ]
    }
   ],
   "source": [
    "my_name = a_class(\"dataFLOYD\",42)\n",
    "my_name.print_info()"
   ]
  }
 ],
 "metadata": {
  "kernelspec": {
   "display_name": "Python 3",
   "language": "python",
   "name": "python3"
  },
  "language_info": {
   "codemirror_mode": {
    "name": "ipython",
    "version": 3
   },
   "file_extension": ".py",
   "mimetype": "text/x-python",
   "name": "python",
   "nbconvert_exporter": "python",
   "pygments_lexer": "ipython3",
   "version": "3.6.5"
  }
 },
 "nbformat": 4,
 "nbformat_minor": 2
}
