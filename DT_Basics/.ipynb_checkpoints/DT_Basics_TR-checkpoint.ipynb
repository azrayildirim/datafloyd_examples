{
 "cells": [
  {
   "cell_type": "markdown",
   "metadata": {},
   "source": [
    "<div align=\"right\">\n",
    "<table style=\"width:50%\">\n",
    "  <tr>\n",
    "    <th>Hazırlayan</th>\n",
    "    <th>Versiyon</th> \n",
    "    <th>Tarih</th> \n",
    "    <th>Dil</th>\n",
    "  </tr>\n",
    "  <tr>\n",
    "    <td>dataFLOYD</td>\n",
    "    <td>v1.00</td> \n",
    "    <td>01 Eyl 2018</td>\n",
    "    <td>TR </td>\n",
    "  </tr>\n",
    "</table>\n",
    "</div>"
   ]
  },
  {
   "cell_type": "markdown",
   "metadata": {},
   "source": [
    "<div class=\"alert alert-danger\">\n",
    "<br>\n",
    "Karar ağaçlarına bakmadan önce bilgilerinizi gözden geçirmek isterseniz aşağıdaki konulara bakmanızı öneririm:  <br>\n",
    "<br>\n",
    "ÖN KOŞULLAR\n",
    "    <br><a href=\"https://www.datafloyd.com/tr/pyhton-numpy-kutuphanesinin-kullanimi/\">Numpy kütüphanesinin kullanımı</a>\n",
    "    <br><a href=\"\">Temel Python kullanımı</a>\n",
    "</div>"
   ]
  },
  {
   "cell_type": "markdown",
   "metadata": {},
   "source": [
    "<!-- ICONS -->\n",
    "<link rel=\"stylesheet\" href=\"https://cdnjs.cloudflare.com/ajax/libs/font-awesome/4.7.0/css/font-awesome.min.css\">\n",
    "\n",
    "<!-- BOOTSTRAP -->\n",
    "<!-- Latest compiled and minified CSS -->\n",
    "<link rel=\"stylesheet\" href=\"https://maxcdn.bootstrapcdn.com/bootstrap/3.3.7/css/bootstrap.min.css\">\n",
    "\n",
    "<!-- jQuery library -->\n",
    "<script src=\"https://ajax.googleapis.com/ajax/libs/jquery/3.3.1/jquery.min.js\"></script>\n",
    "\n",
    "<!-- Latest compiled JavaScript -->\n",
    "<script src=\"https://maxcdn.bootstrapcdn.com/bootstrap/3.3.7/js/bootstrap.min.js\"></script>"
   ]
  },
  {
   "cell_type": "markdown",
   "metadata": {},
   "source": [
    "# Veri Biliminin Temelleri - Karar ağaçlarına giriş "
   ]
  },
  {
   "cell_type": "markdown",
   "metadata": {},
   "source": [
    "<a id=\"ret_main\"></a>\n",
    "<i class=\"fa fa-home\" style=\"font-size:24px;color:Tomato\"></i>\n",
    "##  İÇİNDEKİLER \n",
    "Sorular\n",
    "* [Karar Ağaçları neden bu kadar önemli ve özel?](#neden_dt)\n",
    "* [\"Stump\" yapıları](#stump)\n",
    "* [Tanımlamalar](#temel_tanimlar)\n",
    "* [Karar ağacı tipleri](#dt_tip)\n",
    "* [Temel konseptler](#temel_konseptler)\n",
    "* [Python örneği](#python_kod)"
   ]
  },
  {
   "cell_type": "markdown",
   "metadata": {},
   "source": [
    "Dikkat size çok önemli bir sır vereceğim: Karar ağaçları çok önemli ve temel bir algoritmadır :)  <br> Makine öğrenmesinin yanısıra, ağaç yapısı bilgisayar bilimcilerin \"olmazsa olmaz\" türünde her zaman başvurdukları bir veri yapısıdır."
   ]
  },
  {
   "cell_type": "markdown",
   "metadata": {},
   "source": [
    "![dt_tolkien](dt_tolkien.jpg)\n",
    "<p style=\"text-align: center;\"> <i>JRR Tolkien'ın entler için ilham aldığı söylenen Oxford'daki ağaç<i> </p>"
   ]
  },
  {
   "cell_type": "markdown",
   "metadata": {},
   "source": [
    "<i class=\"fa fa-home\" style=\"font-size:18px;color:Tomato\"></i>[İÇİNDEKİLERE GERİ DÖN](#ret_main)<br>\n",
    "<a id=\"neden_dt\"></a>"
   ]
  },
  {
   "cell_type": "markdown",
   "metadata": {},
   "source": [
    "<div class=\"alert alert-info\">\n",
    "<b>Soru :</b> Karar ağaçlarını çok önemli kılan özellikler nelerdir? Anlat bakalım! <br>\n",
    "</div>\n",
    "\n",
    "<div class=\"alert alert-success\">\n",
    "<b>Cevap :</b> <br>Bakın şimdi önceklikle karar ağaçları genel olarak \"anlaşılabilir\" (interpretable) yapılardır.<br> Sonuçta herşey insan için insan alayacak bunu... Yani bir ağaca baktığınızda neden belirli bir kararı verdiğini anlamanız \"teoride\" mümkün. Hepinizin tahmin edebileceği gibi bu bir reklam cümlesiydi, tabii ki de pratikte yüzlerce özniteliğe ve binlerce karar düğümüne sahip bir ağacı anlamak çok olası değildir ama olsun yapıları çok güzel ne yapalım, ağaç ne kadar anlaşılmaz olabilir ki :) <br><br>\n",
    "\n",
    "</div>"
   ]
  },
  {
   "cell_type": "markdown",
   "metadata": {},
   "source": [
    "<i class=\"fa fa-home\" style=\"font-size:18px;color:Tomato\"></i>[İÇİNDEKİLERE GERİ DÖN](#ret_main)<br>\n",
    "<a id=\"stump\"></a>"
   ]
  },
  {
   "cell_type": "markdown",
   "metadata": {},
   "source": [
    "<div class=\"alert alert-info\">\n",
    "<b>Soru :</b> Kütük (Stump) diye bir şey duydum, bu ne ola ki?<br>\n",
    "</div>\n",
    "\n",
    "<div class=\"alert alert-success\">\n",
    "<b>Cevap :</b> <br> Bana bakarak kütük demezseniz sevirim... Ama karar ağaçlarına en güzel başlangıç noktası kütüktür bence, iyi duymuşsunuz, kütük candır.<br>\n",
    "Stump'ları anlatmadan önce ve daha derine inmeden önce biraz kitabi bilgi ve tanımlama vermenin tam zamanı, başka türlü ilerlemek hepimizi kastırır, baştan söyleyeyim\n",
    "\n",
    "</div>"
   ]
  },
  {
   "cell_type": "markdown",
   "metadata": {},
   "source": [
    "<a id=\"temel_tanimlar\"></a>"
   ]
  },
  {
   "cell_type": "markdown",
   "metadata": {},
   "source": [
    "<div class=\"well\">\n",
    "Karar ağaçları ile ilgili temel tanımlamalar aşağıdaki şekilde (ikili ve sınıflandırma yapan bir ağaç için) verilmektedir.\n",
    "    <ul>\n",
    "        <li>Kök düğüm: Ağacın başlangıç düğümüdür. İlk değerlendirme burada yapılır </li>\n",
    "        <li>Dallar: Her düğümden çıkan karar kollarıdır. Düğümdeki değerlendirme kriterine göre sağa veya sola ayrım gerçekleşir</li>\n",
    "        <li>Yapraklar: Ağacın sonladırılarak kararın verildiği veya skor değerinin oluşturulduğu düğümlerdir. </li>\n",
    "        <li>Karar kriteri: Karşılaştırılacak kriterin ne olduğu bu düğümlerde belirtilir. </li>\n",
    "    </ul>\n",
    "</div>"
   ]
  },
  {
   "cell_type": "markdown",
   "metadata": {},
   "source": [
    "![dt_tanim.PNG](dt_tanim.PNG)"
   ]
  },
  {
   "cell_type": "markdown",
   "metadata": {},
   "source": [
    "<div class=\"alert alert-success\">\n",
    "\"Stump\" yani kütük diye tabir ettiğimiz yapı sadece kök düğüm, buna bağlı iki dal ve sonunda iki yapraktan oluşur. Yani gövdesi kesilmiş bir ağaç gibidir. Kütük gibi durduğuna bakmayın bunlarında sınıflandırıcı birleştirme ile çok başarılı sonuçlar verdiğini bilmenizde fayda var.\n",
    "</div>"
   ]
  },
  {
   "cell_type": "markdown",
   "metadata": {},
   "source": [
    "<i class=\"fa fa-home\" style=\"font-size:18px;color:Tomato\"></i>[İÇİNDEKİLERE GERİ DÖN](#ret_main)<br>\n",
    "<a id=\"dt_tip\"></a>"
   ]
  },
  {
   "cell_type": "markdown",
   "metadata": {},
   "source": [
    "<div class=\"alert alert-info\">\n",
    "<b>Soru :</b> Biliyorsunuz doğada farklı farklı ağaçlar var burada da farklı farklı karar ağaçları var mıdır?<br>\n",
    "</div>\n",
    "<div class=\"alert alert-success\">\n",
    "<b>Cevap :</b> Analoji yapmanıza bayıldım doğrusu evet farklı ağaçtipleri mevcut. Temelde verdiği çıktıya göre ikiye ayrılıyor ağaçlar. <br>\n",
    "<ul>\n",
    "    <li>Sınıflandırma ağaçları (classification trees)</li>\n",
    "        <ul>\n",
    "            <li>Çıktısı kategorik bir değişkendir</li>\n",
    "        </ul>\n",
    "    <li>Regresyon ağaçları (regression trees)</li>\n",
    "        <ul>\n",
    "            <li>Çıktısı sürekli (continous) bir değişkendir</li>\n",
    "        </ul>\n",
    "</ul>\n",
    "Aynı düğümden eğer iki adet dal çıkıyorsa buna ikili ağaç (binary tree) denilmektedir. Ne yalan söyleyeyim düğümlerinden üç tane dal çıkan ağacı ben kitaplar dışında görmedim kullanmadım. \n",
    "</div>"
   ]
  },
  {
   "cell_type": "markdown",
   "metadata": {},
   "source": [
    "<i class=\"fa fa-home\" style=\"font-size:18px;color:Tomato\"></i>[İÇİNDEKİLERE GERİ DÖN](#ret_main)<br>\n",
    "<a id=\"temel_konseptler\"></a>"
   ]
  },
  {
   "cell_type": "markdown",
   "metadata": {},
   "source": [
    "<div class=\"alert alert-info\">\n",
    "<b>Soru :</b> Başka ne tür anahtar kelimeleri / konseptleri bilmemiz gerekiyor?<br>\n",
    "</div>\n",
    "<div class=\"alert alert-success\">\n",
    "<b>Cevap :</b>  Özetlemeye çalışayım\n",
    "</div>"
   ]
  },
  {
   "cell_type": "markdown",
   "metadata": {},
   "source": [
    "1. **Bölünme sayısı (number of splits):** Ağaçlardaki her bölünme bir karara karşılık gelmektedir. Yani bir veri seti düğümlerdeki kriterlere geldiği zaman oradaki karar kriteri uyarınca ikiye bölünür. Bazı durumlarda en fazla bölünme sayısını limitlemek isteyebiliriz.\n",
    "2. **Düğüm kirliliğinin (impurity) ölçülmesi ve bri düğüm için en iyi özniteliğin seçilmesi:** Ağaçların eğitim aşamasında her düğüm için uygun bir öznitelik seççilmeli ve bu öznitelik için bir eşik seviyesi belirlenmelidir. Bunu yaparken bazı ölçütler kullanılabilir. En önemlileri \"entropy\", \"variance\", \"gini\" ve \"misclassification\", \"impurity\"leridir.\n",
    "3. **Ağacın bölünmesinin durdurulması:\"** Ağacın büyümesi aşağıdaki kriterler kullanılarak kontrol altında tutulabilir:\n",
    "    1. Validasyon setinde hata artmaya başladığında\n",
    "    2. Bir alt düğümde \"impurity\" kazancı belirli bir eşik seviyesinin altındaysa\n",
    "    3. Bir düğümde eğitim için belirli sayının altında örnek varsa.\n",
    "    4. Ağacın kompleksliği belirli bir ölçütün üzerindeyse\n",
    "    5. Daha fazla büyümek kazanç sağlamıyorsa\n",
    "4. **Ağacın budanması (prune):** Bazı durumlarda bir durdurma kriteri yerine önce büyütülen ağacın sonradan budanması daha faydalı olabilmektedir. Bu literatürde ufuk etkisi (horizon effect) denilen olayın engellenmesi için yapılmaktadır. Ufuk etkisi, ağacın büyümesinin engellenmesi sonucu faydalı bölütlemeleri elde edememe durumu olarak tanımlanmaktadır.\n",
    "5. **Yaprak düğümlere bir sınıf etiketi yapıştırılması (sınıflandırma problemleri için):** Yaprak düğümüne kadar gelen örneğe  bir sınıf atanması gerektiğinde bunu yapmanın en basit yollarından biri eğitim sırasında bu yaprak düğüme atanan çoğunluk örneklerin etiketlerinin atanmasıdır.\n",
    "6. **Ağacın derinliği (Tree Depth):** Kök düğümden yaprak düğüme kadar en fazla kaç adet atlama ile gelineceğinin ölçüsüdür.\n",
    "7. **\"Child\"(çocuk),\"Parent\"(ebeveyn) düğüm kavramları:** Bir düğümün altındaki diğer düğüm o düğümün \"child\"'ı olur. Tahmin edeceğiniz üzere her \"child\"ın da \"parent\"ı onun bağlı olduğu düğümdür.  "
   ]
  },
  {
   "cell_type": "markdown",
   "metadata": {},
   "source": [
    "</div>\n",
    "<div class=\"alert alert-success\">\n",
    "Kitabi bilgiyi biraz fazla kaçırdım sanırım, silmeye de kıyamadım neyse dursun şimdilik. Sorunuz olursa bana mesaj atın değerlendirelim birlikte. \n",
    "</div>"
   ]
  },
  {
   "cell_type": "markdown",
   "metadata": {},
   "source": [
    "<i class=\"fa fa-home\" style=\"font-size:18px;color:Tomato\"></i>[İÇİNDEKİLERE GERİ DÖN](#ret_main)<br>\n",
    "<a id=\"python_kod\"></a>"
   ]
  },
  {
   "cell_type": "markdown",
   "metadata": {},
   "source": [
    "<div class=\"alert alert-info\">\n",
    "<b>Soru :</b> Kodlama zamanı gelmedi mi hala?<br>\n",
    "</div>\n",
    "<div class=\"alert alert-success\">\n",
    "<b>Cevap :</b>  Geldi, geldi tamam kodlamaya başlayalım artık. <br> İris veri setini sürekli kullanıyoruz gına geldi biliyorum ama çok standart bir örnek ve anlaması kolay. Onunla bir başlayalım, ilerleyen sürümlerde söz başka veri seti de kullanacağım\n",
    "</div>"
   ]
  },
  {
   "cell_type": "code",
   "execution_count": 30,
   "metadata": {},
   "outputs": [
    {
     "name": "stdout",
     "output_type": "stream",
     "text": [
      "Accuracy score: 0.98\n"
     ]
    }
   ],
   "source": [
    "# iris veri setini yüklüyoruz\n",
    "from sklearn import datasets\n",
    "iris = datasets.load_iris()\n",
    "\n",
    "# veri setini bölebilmek için gerekli eklemeleri de yapalım\n",
    "from sklearn.model_selection import train_test_split\n",
    "\n",
    "# scikit learn kullanarak karar ağaçları sınıflandırıcısını çağırıyoruz.\n",
    "from sklearn.tree import DecisionTreeClassifier\n",
    "\n",
    "# şimdi bir sınıflandırıcı oluşturalım\n",
    "dt = DecisionTreeClassifier(criterion=\"gini\", \n",
    "                            # düğüm noktasında impurity nasıl ölçülecek\n",
    "                           max_depth = 3)\n",
    "                            # Ağacın maksimum derinliği\n",
    "    \n",
    "\n",
    "# iris verisini bölelim .33 test olsun geri kalan train olsun\n",
    "X_train, X_test, y_train, y_test = train_test_split(iris.data, iris.target,\n",
    "                                                    test_size=0.33,\n",
    "                                                   random_state=42)\n",
    "\n",
    "# şimdi karar ağacını eğitelim\n",
    "dt.fit(X_train,y_train)\n",
    "\n",
    "# hata hesaplayalım\n",
    "y_pred = dt.predict(X_test)\n",
    "from sklearn.metrics import accuracy_score\n",
    "print(\"Accuracy score: \" + str(accuracy_score(y_test,y_pred)))"
   ]
  },
  {
   "cell_type": "markdown",
   "metadata": {},
   "source": [
    "Gördüğünüz gibi bu derece basit bir yapı ile bile %98 \"accuracy\" elde ettik."
   ]
  },
  {
   "cell_type": "markdown",
   "metadata": {},
   "source": [
    "<div class=\"alert alert-info\">\n",
    "<b>Soru :</b> Bu nasıl karar ağacı hiçbir şey anlamadım doğrusu... <br>\n",
    "</div>\n",
    "<div class=\"alert alert-success\">\n",
    "<b>Cevap :</b> Ben de bu yorumu bekliyordum :) Görselleştirme olmadan tam anlamıyla anlamış sayılmayız. Bu karar ağacını görselleştirmek için ayrı bir araç kullanmamız gerekecek. <br><br>\n",
    "Burada yeni başlayanlar biraz kafa karışıklığı yaşabilir. Yaptığımız şey şu: Scikit-learn ağaç yapısını \".dot\" formatında kaydediyor, biz de bunu pydotplus paketini kullanarak png'ye çeviriyoruz ve gösteriyoruz bu kadar.\n",
    "</div>"
   ]
  },
  {
   "cell_type": "code",
   "execution_count": 31,
   "metadata": {},
   "outputs": [],
   "source": [
    "from sklearn.tree import export_graphviz\n",
    "export_graphviz(dt, out_file='dt.dot')"
   ]
  },
  {
   "cell_type": "code",
   "execution_count": null,
   "metadata": {},
   "outputs": [],
   "source": []
  }
 ],
 "metadata": {
  "kernelspec": {
   "display_name": "Python 3",
   "language": "python",
   "name": "python3"
  },
  "language_info": {
   "codemirror_mode": {
    "name": "ipython",
    "version": 3
   },
   "file_extension": ".py",
   "mimetype": "text/x-python",
   "name": "python",
   "nbconvert_exporter": "python",
   "pygments_lexer": "ipython3",
   "version": "3.6.5"
  }
 },
 "nbformat": 4,
 "nbformat_minor": 2
}
