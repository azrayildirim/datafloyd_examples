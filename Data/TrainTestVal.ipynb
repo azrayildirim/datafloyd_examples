{
 "cells": [
  {
   "cell_type": "markdown",
   "metadata": {},
   "source": [
    "<div align=\"right\">\n",
    "<table style=\"width:50%\">\n",
    "  <tr>\n",
    "    <th>Hazırlayan</th>\n",
    "    <th>Versiyon</th> \n",
    "    <th>Tarih</th> \n",
    "    <th>Dil</th>\n",
    "  </tr>\n",
    "  <tr>\n",
    "    <td>dataFLOYD</td>\n",
    "    <td>v1.00</td> \n",
    "    <td>29 Eyl 2018</td>\n",
    "    <td>TR </td>\n",
    "  </tr>\n",
    "</table>\n",
    "</div>"
   ]
  },
  {
   "cell_type": "markdown",
   "metadata": {
    "toc": true
   },
   "source": [
    "<h1>İçindekiler<span class=\"tocSkip\"></span></h1>\n",
    "<div class=\"toc\"><ul class=\"toc-item\"><li><span><a href=\"#&quot;Response-variables&quot;-ve-&quot;Predictors&quot;-kavramları\" data-toc-modified-id=\"&quot;Response-variables&quot;-ve-&quot;Predictors&quot;-kavramları-1\"><span class=\"toc-item-num\">1&nbsp;&nbsp;</span>\"Response variables\" ve \"Predictors\" kavramları</a></span></li><li><span><a href=\"#Makine-öğrenmesinin-tek-bir-fonksiyon-olarak-ifade-edilmesi\" data-toc-modified-id=\"Makine-öğrenmesinin-tek-bir-fonksiyon-olarak-ifade-edilmesi-2\"><span class=\"toc-item-num\">2&nbsp;&nbsp;</span>Makine öğrenmesinin tek bir fonksiyon olarak ifade edilmesi</a></span></li><li><span><a href=\"#Eğitim-Seti,-Test-Seti-ve-Validasyon-Seti\" data-toc-modified-id=\"Eğitim-Seti,-Test-Seti-ve-Validasyon-Seti-3\"><span class=\"toc-item-num\">3&nbsp;&nbsp;</span>Eğitim Seti, Test Seti ve Validasyon Seti</a></span></li><li><span><a href=\"#&quot;k-fold-cross-validation&quot;-(k-katmanlı-çapraz-validasyon)\" data-toc-modified-id=\"&quot;k-fold-cross-validation&quot;-(k-katmanlı-çapraz-validasyon)-4\"><span class=\"toc-item-num\">4&nbsp;&nbsp;</span>\"k-fold cross validation\" (k-katmanlı çapraz validasyon)</a></span></li><li><span><a href=\"#Neden-bu-kadar-zahmete-girip-veriyi-&quot;parça-pinçik&quot;-ediyoruz?\" data-toc-modified-id=\"Neden-bu-kadar-zahmete-girip-veriyi-&quot;parça-pinçik&quot;-ediyoruz?-5\"><span class=\"toc-item-num\">5&nbsp;&nbsp;</span>Neden bu kadar zahmete girip veriyi \"parça pinçik\" ediyoruz?</a></span></li></ul></div>"
   ]
  },
  {
   "cell_type": "markdown",
   "metadata": {},
   "source": [
    "# MAKİNE ÖĞRENMESİ PROBLEMLERİNDE VERİ KULLANIMI "
   ]
  },
  {
   "cell_type": "markdown",
   "metadata": {},
   "source": [
    "Bu yazıyı okuduğunuza göre hepiniz bir makine öğrenmesi sistemi tasarlamaya çalışmışsınızdır veya en azından bir \"tutorial\" vasıtası ile bu tip bir problemin nasıl çözüldüğünü incelemişsinizdir. Bu yazımızda bu tasarım sürecinin belki de en önemli unsuru olan **veri kullanımına** giriş yapacağız. "
   ]
  },
  {
   "cell_type": "markdown",
   "metadata": {},
   "source": [
    "## \"Response variables\" ve \"Predictors\" kavramları"
   ]
  },
  {
   "cell_type": "markdown",
   "metadata": {},
   "source": [
    "Makine öğrenmesi algoritmalarını incelediğimiz zaman büyük çoğunluğunun optimizasyon tabanlı algoritmalar olduğunu görürüz. Bu problemlerin özünde ***bir fonksiyon*** oluşturmaya çalışırız. Bu fonksiyon **\"response variable\"** (tepki değişkeni) ile **\"predictors\"** (tahmin ediciler) arasında bir bağlantı kurar."
   ]
  },
  {
   "cell_type": "markdown",
   "metadata": {},
   "source": [
    "\"Predictor\" ve \"response variable\" kavramlarını biraz daha açıklayabilmek için örnekler verelim.\n",
    "* Ürünün satışlarının (response variable) radyo, televizyon ve gazete reklamlarına (predictors) bağlı olarak artışı\n",
    "* Bir kişinin gelirinin (response variable) eğitim seviyesine (predictor) bağlı olarak nasıl arttığı\n",
    "* Ev fiyatlarının (response variable) evin özelliklerine bağlı olarak (predictor) nasıl arttığı"
   ]
  },
  {
   "cell_type": "markdown",
   "metadata": {},
   "source": [
    "## Makine öğrenmesinin tek bir fonksiyon olarak ifade edilmesi"
   ]
  },
  {
   "cell_type": "markdown",
   "metadata": {},
   "source": [
    "\"Predictor\"lar ve \"response variable\"lar arasında aşağıdaki gibi bir genelleme kurabiliriz. "
   ]
  },
  {
   "cell_type": "markdown",
   "metadata": {},
   "source": [
    "$Y$  \"response variable\" ve $X = [X_1, X_2, ..., X_p]$ \"predictor\"larımız olsun. Rasgele hataları da temsil edebilmesi adına denklemin sağ tarafına $\\epsilon$ terimini de ekleyelim. "
   ]
  },
  {
   "cell_type": "markdown",
   "metadata": {},
   "source": [
    "$$Y=f(X)+\\epsilon$$"
   ]
  },
  {
   "cell_type": "markdown",
   "metadata": {},
   "source": [
    "Bu fonksiyonu *sınıflandırıcı* olarak adlandırmak pek yanlış olmaz. "
   ]
  },
  {
   "cell_type": "markdown",
   "metadata": {},
   "source": [
    "Peki bu sınıflandırıcıyı elimizdeki veriyi temsil eder hale nasıl getiririz? Bunun için genellikle elimizde bir \"maliyet fonksiyonu\" (cost function) vardır. "
   ]
  },
  {
   "cell_type": "markdown",
   "metadata": {},
   "source": [
    "Bu maliyet fonksiyonunu, çeşitli nümerik optimizasyon metotlarını kullanarak elimizdeki veri setine göre minimize etmeye, tüm veri setine göre hatanın en düşük olduğu yeri bulmaya çalışırız. Bu aşamayı ***sınıflandırıcının eğitimi*** olarak tanımlayabiiriz."
   ]
  },
  {
   "cell_type": "markdown",
   "metadata": {},
   "source": [
    "*\\*Konu ile ilgili daha ayrıntılı bilgi için An Introduction to Statistical Learning kitabına bakmanızı tavsiye ederim.*"
   ]
  },
  {
   "cell_type": "markdown",
   "metadata": {},
   "source": [
    "Tabi gerçek yaşam problemlerinde en düşük hatayı veren fonksiyon her zaman en iyi fonksiyon olmayabilir. Ortaya çıkaracağımız sınıflandırıcının performansını ölçebilmek için genellikle **veri setini \"akıllı\" bir şekilde parçalamak önerilir.** "
   ]
  },
  {
   "cell_type": "markdown",
   "metadata": {},
   "source": [
    "## Eğitim Seti, Test Seti ve Validasyon Seti "
   ]
  },
  {
   "cell_type": "markdown",
   "metadata": {},
   "source": [
    "İyi bir makine öğrenmesi modeli hazırlamak istiyorsak aşağıdaki noktalara çok dikkat etmek gerekir:\n",
    "* Modelin parametrelerini düzgün bir şekilde ayarlamak (hyper parameter tuning)\n",
    "* Modelin hiç görmediği veriler üzerinde iyi bir performans sergilemesini sağlamak"
   ]
  },
  {
   "cell_type": "markdown",
   "metadata": {},
   "source": [
    "Bu temel uyarıları göz önünde bulundurduğumuzda en iyi stratejinin **veri setini bölmek** olduğu ortaya çıkmaktadır. Veri setinin bölümleri genellikle aşağıdaki şekilde tanımlanır."
   ]
  },
  {
   "cell_type": "markdown",
   "metadata": {},
   "source": [
    "* **Eğitim Seti (Train Set):** Makine öğrenmesi algoritmasını eğitmek için kullandığımız set olarak tanımlanabilir. \n",
    "* **Validasyon Seti (Validation Set):** Bu seti makine öğrenmesi algoritmasının parametrelerini ayarlamak, özniteliklerini seçmek, özetle algoritma hakkında vereceğimiz kararlar hakkında kullanabiliriz. Bu sete bazı kaynaklar yakın zamanda geliştirme seti (development set) de demeye başladılar.  \n",
    "* **Test Seti (Test Set):** Bu set, makine öğrenmesi modelimizin performansının ölçüleceği settir. Bu sete algoritmanın eğitimi ve parametrelerinin ayarlanması sırasında *hiçbir şekilde dokunmamak* gerekir."
   ]
  },
  {
   "cell_type": "markdown",
   "metadata": {},
   "source": [
    "Test seti ve validasyon seti ile ilgili olarak Andrew N.G.'nin çok güzel bir görüşü mevcut. Kendisi diyor ki: \"Test ve validasyon setini gelecekte sistemin maruz kalması muhtemel verileri kullanarak oluşturun\". Yani bu setleri hazırlarken biraz dikkatli davranmak gerekiyor. "
   ]
  },
  {
   "cell_type": "markdown",
   "metadata": {},
   "source": [
    "Eğer ticari olarak faaliyet gösterecek bir makine öğrenmesi sistemi tasarlıyorsanız sistemin kullanacağı olası gerçek verileri de bu setlerin içine dahil etmekte fayda var. Bir başka deyişle bu setleri rasgele bölerek hazırlamak her zaman için en iyi strateji olmayabilir, biraz işin içine veri mühendisliğini de katmanız gerekebilir."
   ]
  },
  {
   "cell_type": "markdown",
   "metadata": {},
   "source": [
    "-------------------"
   ]
  },
  {
   "cell_type": "markdown",
   "metadata": {},
   "source": [
    "Bazı problemlerde sadece eğitim ve test seti olarak ayrım yapıldığına rastlamanız mümkündür. Bu metota dışarıda bırakma \"hold-out\" metodu denilmektedir. Metot oldukça basittir, modelin eğitimi için eğitim seti kullanılır, modelin performansı test seti üzerinde ölçülür. Fakat bu yöntem model parametrelerinin ayarlanması aşamasında sıkıntı yaratabilir. Yani model parametrelerini istemeden de olsa test setini iyileştirecek şekilde ayarlamaya başlayabiliriz. Bu sebeple daha gürbüz olan **\"k-fold cross validation\"** metodu önerilmektedir."
   ]
  },
  {
   "cell_type": "markdown",
   "metadata": {},
   "source": [
    "## \"k-fold cross validation\" (k-katmanlı çapraz validasyon)"
   ]
  },
  {
   "cell_type": "markdown",
   "metadata": {},
   "source": [
    "Yukarıda bahsettiğimiz setleri ilk önce bir şekil haline getirelim."
   ]
  },
  {
   "cell_type": "markdown",
   "metadata": {},
   "source": [
    "![k-fold](k-fold.png)"
   ]
  },
  {
   "cell_type": "markdown",
   "metadata": {},
   "source": [
    "Şekilde aslında anlatılmak istenen şu:\n",
    "* Elimizde bir veri seti mevcut.\n",
    "* Biz bu veri setinin bir kısmını **test seti** olarak ayırıyoruz ve buna en son değerlendirme aşamasına kadar hiç bakmıyoruz.\n",
    "* Geriye kalan kısmı k sayısı kadar eşit parçaya bölüyoruz. (Şekilde k=4 olarak alınmıştır.) \n",
    "    * Bu parçaladığımız k parçanın her seferinde 1 parçasını dışarıda bırakıyoruz (**validasyon seti**) ve kalan k-1 parça (**test seti**) ile modelimizi eğitiriyoruz.\n",
    "    * Dışarda bıraktığımız parça (**validasyon seti**) ile eğittimiz modelin performansını değerlendiriyoruz. \n",
    "    * Her adımda oluşturduğumuz performans değerlerinin ortalamasını alarak yeni bir hata değeri oluşturuyoruz. \n",
    "* Eğer sonuçtan memnun değilsek hiper-parametreleri yani makine öğrenmesi algoritmasının parametrelerini değiştirerek bu işlemi tekrar ediyoruz.\n",
    "* k-fold sonucundan memnun olduğumuzda **test setinde** nihai modelimizin performansını ölçüyoruz ve bu bize modelin genelleştirmesi ile ilgili bir metrik vermiş oluyor."
   ]
  },
  {
   "cell_type": "markdown",
   "metadata": {},
   "source": [
    "-------------------"
   ]
  },
  {
   "cell_type": "markdown",
   "metadata": {},
   "source": [
    "Çok küçük veri setlerinde k saysını arttırmak daha iyi sonuçlar elde etmemize fayda sağlayabilir. Bunun en uç örneği \"leave one out cross validation\" metodudur. Bu metotta k-fold validasyon sırasında her seferde bir örnek dışarıda bırakılarak işlem tekrarlanır."
   ]
  },
  {
   "cell_type": "markdown",
   "metadata": {},
   "source": [
    "## Neden bu kadar zahmete girip veriyi \"parça pinçik\" ediyoruz?"
   ]
  },
  {
   "cell_type": "markdown",
   "metadata": {},
   "source": [
    "Gerçekten çok yerinde bir soru, ben de çoğu zaman sorgulamıyor değilim bu konuyu :) Gerekçelerini aşağıya yazayım belki sizi ikna ederim:\n",
    "* Hazırladığımız sınıflandırıcının / modelin genelleştirme performansı hakkında güvenilir bir tahmin elde edebilmek\n",
    "    * Genelleştirme bir sınıflandırıcının daha önce görmediği veriler üzerinde iyi bir performans sergilemesi olarak tanımlanmaktadır. \n",
    "    * Binbir zorlukla hazırladığımız modelimizin gerçek yaşam problemleri karşısında çuvallamasını istemeyiz\n",
    "* Modelin hiper-parametrelerini ayarlayabilmek\n",
    "* Eğitim sırasında modeli birden fazla kez eğiterek modeldeki varyansı azaltmak\n",
    "* Modeli ve parametrelerini değerlendirebilmek için sistematik bir yöntem kullanmak"
   ]
  },
  {
   "cell_type": "markdown",
   "metadata": {},
   "source": [
    "---------------"
   ]
  },
  {
   "cell_type": "markdown",
   "metadata": {},
   "source": [
    "Buraya kadar okuduğunuz için çok teşekkür ederim, şimdilik noktayı koyalım. Ama veri kullanımı konusu devam edecek haberiniz olsun :)"
   ]
  }
 ],
 "metadata": {
  "hide_input": false,
  "kernelspec": {
   "display_name": "Python 3",
   "language": "python",
   "name": "python3"
  },
  "language_info": {
   "codemirror_mode": {
    "name": "ipython",
    "version": 3
   },
   "file_extension": ".py",
   "mimetype": "text/x-python",
   "name": "python",
   "nbconvert_exporter": "python",
   "pygments_lexer": "ipython3",
   "version": "3.6.6"
  },
  "toc": {
   "base_numbering": 1,
   "nav_menu": {},
   "number_sections": true,
   "sideBar": true,
   "skip_h1_title": true,
   "title_cell": "İçindekiler",
   "title_sidebar": "Contents",
   "toc_cell": true,
   "toc_position": {
    "height": "100px",
    "left": "10px",
    "top": "150px",
    "width": "165px"
   },
   "toc_section_display": true,
   "toc_window_display": true
  },
  "varInspector": {
   "cols": {
    "lenName": 16,
    "lenType": 16,
    "lenVar": 40
   },
   "kernels_config": {
    "python": {
     "delete_cmd_postfix": "",
     "delete_cmd_prefix": "del ",
     "library": "var_list.py",
     "varRefreshCmd": "print(var_dic_list())"
    },
    "r": {
     "delete_cmd_postfix": ") ",
     "delete_cmd_prefix": "rm(",
     "library": "var_list.r",
     "varRefreshCmd": "cat(var_dic_list()) "
    }
   },
   "types_to_exclude": [
    "module",
    "function",
    "builtin_function_or_method",
    "instance",
    "_Feature"
   ],
   "window_display": false
  }
 },
 "nbformat": 4,
 "nbformat_minor": 2
}
