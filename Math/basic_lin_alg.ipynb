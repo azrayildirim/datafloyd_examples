{
 "cells": [
  {
   "cell_type": "markdown",
   "metadata": {},
   "source": [
    "# Makine Öğrenmesi için Temel Lineer Cebir Kavramları"
   ]
  },
  {
   "cell_type": "markdown",
   "metadata": {},
   "source": [
    "## \"What is matrix?\""
   ]
  },
  {
   "cell_type": "markdown",
   "metadata": {},
   "source": [
    "* Matris dikdörtgen veya kare biçiminde bulunan sayılar bütünüdür."
   ]
  },
  {
   "cell_type": "markdown",
   "metadata": {},
   "source": [
    "\\begin{equation*}\n",
    "A=\n",
    "\\begin{bmatrix}\n",
    "1 \\ 2 \\ 3 \\\\ \n",
    "4 \\ 5 \\ 6\n",
    "\\end{bmatrix}\n",
    "\\ \\ \n",
    "B=\n",
    "\\begin{bmatrix}\n",
    "10 \\ 20 \\\\ \n",
    "30 \\ 40 \\\\\n",
    "50 \\ 60 \\\\\n",
    "\\end{bmatrix}\n",
    "\\end{equation*}"
   ]
  },
  {
   "cell_type": "markdown",
   "metadata": {},
   "source": [
    "* Her matrisin boyutu vardır. Boyut satır *sayısı x sütun sayısı*  şeklinde ifade edilir. "
   ]
  },
  {
   "cell_type": "markdown",
   "metadata": {},
   "source": [
    "Örneğin $A$ matrisi $2 \\times 3$, $B$ matrisi $3 \\times 2$ boyutuna sahiptir deriz. Bunları 2'ye 3'lük ve 3'e 2'lik matris olarak söylemek de mümkündür."
   ]
  },
  {
   "cell_type": "markdown",
   "metadata": {},
   "source": [
    "* Matrisin elemanlarına erişmek için aşağıdaki notasyon kullanılır"
   ]
  },
  {
   "cell_type": "markdown",
   "metadata": {},
   "source": [
    "$A_{ij}=$ ***Satır i ve sütun j'nin kesişimindeki elemanı ifade etmektedir.*** "
   ]
  },
  {
   "cell_type": "markdown",
   "metadata": {},
   "source": [
    "Örnek: $A_{22}=5 \\\\ B_{12}=20$"
   ]
  },
  {
   "cell_type": "markdown",
   "metadata": {},
   "source": [
    "* *Vektör* matrisin özel bir türüdür. Bir matrisin sütunu 1 olduğu zaman bu matrise vektör diyebiliriz."
   ]
  },
  {
   "cell_type": "markdown",
   "metadata": {},
   "source": [
    "\\begin{equation*}\n",
    "v=\n",
    "\\begin{bmatrix}\n",
    "11 \\\\\n",
    "22 \\\\\n",
    "33 \\\\\n",
    "44\n",
    "\\end{bmatrix}\n",
    "\\end{equation*}"
   ]
  },
  {
   "cell_type": "markdown",
   "metadata": {},
   "source": [
    "$v$'nin boyutu $4 \\times 1$ <br>\n",
    "$v_2=22$ (ilk elemanın indeksi 1'den başlatılırsa)"
   ]
  },
  {
   "cell_type": "markdown",
   "metadata": {},
   "source": [
    "* Vektörlerin veya matrislerin ilk elemanları 0'dan veya 1'den başlatılarak indekslenebilir. Bu duruma özellikle programlama dillerinde dikkat etmek gerekir. *Örneğin Python programlama dilinde ilk eleman 0'dan başlarken C++ dilinde 1'den başlamaktadır.*"
   ]
  },
  {
   "cell_type": "markdown",
   "metadata": {},
   "source": [
    "## Matris operasyoları"
   ]
  },
  {
   "cell_type": "markdown",
   "metadata": {},
   "source": [
    "### Toplama"
   ]
  },
  {
   "cell_type": "markdown",
   "metadata": {},
   "source": [
    "İki matrisin toplanabilmesi için boyutlarının aynı olması gerekmektedir."
   ]
  },
  {
   "cell_type": "markdown",
   "metadata": {},
   "source": [
    "Toplama işlemi eleman bazında yapılmaktadır. "
   ]
  },
  {
   "cell_type": "markdown",
   "metadata": {},
   "source": [
    "\\begin{equation*}\n",
    "\\begin{bmatrix}\n",
    "1 \\ 2 \\ 3 \\\\ \n",
    "4 \\ 5 \\ 6\n",
    "\\end{bmatrix}\n",
    "\\ + \\ \n",
    "\\begin{bmatrix}\n",
    "0.1 \\ 0.2 \\ 0.3 \\\\ \n",
    "0.4 \\ 0.5 \\ 0.6 \n",
    "\\end{bmatrix}\n",
    "\\ = \\ \n",
    "\\begin{bmatrix}\n",
    "1.1 \\ 2.2 \\ 3.3 \\\\ \n",
    "4.4 \\ 5.5 \\ 6.6 \n",
    "\\end{bmatrix}\n",
    "\\end{equation*}"
   ]
  }
 ],
 "metadata": {
  "hide_input": false,
  "kernelspec": {
   "display_name": "Python 3",
   "language": "python",
   "name": "python3"
  },
  "language_info": {
   "codemirror_mode": {
    "name": "ipython",
    "version": 3
   },
   "file_extension": ".py",
   "mimetype": "text/x-python",
   "name": "python",
   "nbconvert_exporter": "python",
   "pygments_lexer": "ipython3",
   "version": "3.6.6"
  },
  "toc": {
   "base_numbering": 1,
   "nav_menu": {},
   "number_sections": true,
   "sideBar": true,
   "skip_h1_title": true,
   "title_cell": "Table of Contents",
   "title_sidebar": "Contents",
   "toc_cell": false,
   "toc_position": {
    "height": "calc(100% - 180px)",
    "left": "10px",
    "top": "150px",
    "width": "191.594px"
   },
   "toc_section_display": true,
   "toc_window_display": true
  },
  "varInspector": {
   "cols": {
    "lenName": 16,
    "lenType": 16,
    "lenVar": 40
   },
   "kernels_config": {
    "python": {
     "delete_cmd_postfix": "",
     "delete_cmd_prefix": "del ",
     "library": "var_list.py",
     "varRefreshCmd": "print(var_dic_list())"
    },
    "r": {
     "delete_cmd_postfix": ") ",
     "delete_cmd_prefix": "rm(",
     "library": "var_list.r",
     "varRefreshCmd": "cat(var_dic_list()) "
    }
   },
   "types_to_exclude": [
    "module",
    "function",
    "builtin_function_or_method",
    "instance",
    "_Feature"
   ],
   "window_display": false
  }
 },
 "nbformat": 4,
 "nbformat_minor": 2
}
