{
  "nbformat": 4,
  "nbformat_minor": 0,
  "metadata": {
    "colab": {
      "name": "VBT-Dogrusal_Regresyon.ipynb",
      "version": "0.3.2",
      "provenance": [],
      "collapsed_sections": [],
      "include_colab_link": true
    },
    "kernelspec": {
      "name": "python3",
      "display_name": "Python 3"
    }
  },
  "cells": [
    {
      "cell_type": "markdown",
      "metadata": {
        "id": "view-in-github",
        "colab_type": "text"
      },
      "source": [
        "[View in Colaboratory](https://colab.research.google.com/github/datafloyd/datafloyd_examples/blob/master/VBT_Dogrusal_Regresyon.ipynb)"
      ]
    },
    {
      "metadata": {
        "id": "nRk9d8Lrnm3w",
        "colab_type": "text"
      },
      "cell_type": "markdown",
      "source": [
        "# DOĞRUSAL REGRESYON = LINEAR REGRESSION nedir? Bu bilgi ile neler yapabiliriz?\n",
        "\n",
        "Bu yazımda sizlere doğrusal regresyon nedir onu en basit haliyle ve uygulamalı olarak anlatmaya çalışacağım. "
      ]
    }
  ]
}