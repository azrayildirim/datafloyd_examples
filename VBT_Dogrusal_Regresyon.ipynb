{
  "nbformat": 4,
  "nbformat_minor": 0,
  "metadata": {
    "colab": {
      "name": "VBT-Dogrusal_Regresyon.ipynb",
      "version": "0.3.2",
      "provenance": [],
      "collapsed_sections": [],
      "include_colab_link": true
    },
    "kernelspec": {
      "name": "python3",
      "display_name": "Python 3"
    }
  },
  "cells": [
    {
      "cell_type": "markdown",
      "metadata": {
        "id": "view-in-github",
        "colab_type": "text"
      },
      "source": [
        "[View in Colaboratory](https://colab.research.google.com/github/datafloyd/datafloyd_examples/blob/master/VBT_Dogrusal_Regresyon.ipynb)"
      ]
    },
    {
      "metadata": {
        "id": "nRk9d8Lrnm3w",
        "colab_type": "text"
      },
      "cell_type": "markdown",
      "source": [
        "# DOĞRUSAL REGRESYON = LINEAR REGRESSION nedir? Bu bilgi ile neler yapabiliriz?\n",
        "\n",
        "Bu yazımda sizlere doğrusal regresyon nedir onu en basit haliyle ve uygulamalı olarak anlatmaya çalışacağım. \n",
        "\n",
        "Bir değişken ve çıktının açıklanması için kullanılır.\n",
        "\n"
      ]
    },
    {
      "metadata": {
        "id": "0nxYoEOhpD5Y",
        "colab_type": "code",
        "colab": {}
      },
      "cell_type": "code",
      "source": [
        "import numpy as np\n",
        "import matplotlib.pyplot as plt"
      ],
      "execution_count": 0,
      "outputs": []
    },
    {
      "metadata": {
        "id": "eRkw2ymGpJpP",
        "colab_type": "code",
        "colab": {}
      },
      "cell_type": "code",
      "source": [
        ""
      ],
      "execution_count": 0,
      "outputs": []
    },
    {
      "metadata": {
        "id": "1CnDASdupWvt",
        "colab_type": "text"
      },
      "cell_type": "markdown",
      "source": [
        "Evet değişim oldu mu acaba github'da"
      ]
    }
  ]
}