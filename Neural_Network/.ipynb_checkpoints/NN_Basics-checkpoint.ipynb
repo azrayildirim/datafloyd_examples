{
 "cells": [
  {
   "cell_type": "markdown",
   "metadata": {},
   "source": [
    "<div align=\"right\">\n",
    "<table style=\"width:50%\">\n",
    "  <tr>\n",
    "    <th>Hazırlayan</th>\n",
    "    <th>Versiyon</th> \n",
    "    <th>Tarih</th> \n",
    "    <th>Dil</th>\n",
    "  </tr>\n",
    "  <tr>\n",
    "    <td>dataFLOYD</td>\n",
    "    <td>v1.00</td> \n",
    "    <td>13 Eyl 2018</td>\n",
    "    <td>TR </td>\n",
    "  </tr>\n",
    "</table>\n",
    "</div>"
   ]
  },
  {
   "cell_type": "markdown",
   "metadata": {},
   "source": [
    "<div class=\"alert alert-danger\">\n",
    "<br>\n",
    "Başlamadan önce henüz bakmadıysanız aşağıdaki yazıları gözden geçirmenizi öneririm <br>\n",
    "<br>\n",
    "ÖN KOŞULLAR\n",
    "    <br><a href=\"https://www.datafloyd.com/tr/python-pandas-kutuphanesine-giris/\">Python “pandas” kütüphanesine giriş</a>\n",
    "    <br><a href=\"https://www.datafloyd.com/tr/veri-bilimi-icin-temel-python-kullanimi/\">Temel Python kullanımı</a>\n",
    "    <br><a href=\"https://www.datafloyd.com/tr/pyhton-numpy-kutuphanesinin-kullanimi/\">Numpy kütüphanesi kullanımı</a>\n",
    "        <br><a href=\"https://www.datafloyd.com/tr/pyhton-matplotlib-kutuphanesini-kullanarak-veri-gorsellestirme-temel-grafikler%C2%B6/\">Python “matplotlib” kütüphanesini kullanarak temel görselleştirme</a>\n",
    "</div>"
   ]
  },
  {
   "cell_type": "markdown",
   "metadata": {},
   "source": [
    "# YAPAY SİNİR AĞLARINA (NEURAL NETWORKS) GİRİŞ"
   ]
  },
  {
   "cell_type": "markdown",
   "metadata": {},
   "source": [
    "<div class=\"well\">\n",
    "Birbirimizi kandırmayalım internette \"zibilyon\" tane yapay sinir ağları yazısı mevcut, bunu siz de biliyorsunuz. Birçoğuna bakmışsınızdır zaten. Bunların en önemli ortak noktası hepsinin de yakışıklı (!) bir nöron resmi ile başlaması ve NN ile analoji kurmaya çalışmasıdır. <br><br>Nöron ile başlamak kötüdür demek istemiyorum, sonuçta meşhur <a href=\"https://www.youtube.com/watch?v=Ze9-wg9k7AU\">\"Fight Club\"</a> filmi bile nöronlarla başlıyor! <b>David Fincher</b> abimiz bile bu yolu seçtiyse vardır bir bildiği... Bu sebeple başlığa bu meşhur filmin bir posterini koydum :) İzlemeyenler mutlaka izlesin bu filmi, her ne kadar şiddete karşı olsam da \"şiddet ile\" tavsiye ediyorum bu  filmi. Neyse konumuza dönelim şimdi.\n",
    "</div>"
   ]
  },
  {
   "cell_type": "markdown",
   "metadata": {},
   "source": [
    "<div class=\"alert alert-info\">\n",
    "<b>Soru :</b> Nereden başlasak bilemedim ki? Siz yönlendirin bari.. <br>\n",
    "</div>\n",
    "\n",
    "<div class=\"alert alert-success\">\n",
    "<b>Cevap :</b> Bence başlamadan önce \"ihtiyacımız olacak kadar\" matrislere bakalım. Çünkü bunların grafiksel gösterimleri önem kazanacak birazdan<br>\n",
    "$W$, $x$ ve $b$ adında üç tane sütun matrisimiz olsun.\n",
    "</div>"
   ]
  },
  {
   "cell_type": "markdown",
   "metadata": {},
   "source": [
    "\\begin{equation*}\n",
    "W=\n",
    "\\begin{bmatrix}\n",
    "w_1 \\\\\n",
    "\\vdots \\\\\n",
    "w_n\n",
    "\\end{bmatrix}\n",
    "\\quad\n",
    "x=\n",
    "\\begin{bmatrix}\n",
    "x_1 \\\\\n",
    "\\vdots \\\\\n",
    "x_n\n",
    "\\end{bmatrix}\n",
    "\\quad\n",
    "b=\n",
    "\\begin{bmatrix}\n",
    "b_1 \\\\\n",
    "\\vdots \\\\\n",
    "b_n\n",
    "\\end{bmatrix}\n",
    "\\end{equation*}"
   ]
  },
  {
   "cell_type": "code",
   "execution_count": null,
   "metadata": {},
   "outputs": [],
   "source": []
  }
 ],
 "metadata": {
  "kernelspec": {
   "display_name": "Python 3",
   "language": "python",
   "name": "python3"
  },
  "language_info": {
   "codemirror_mode": {
    "name": "ipython",
    "version": 3
   },
   "file_extension": ".py",
   "mimetype": "text/x-python",
   "name": "python",
   "nbconvert_exporter": "python",
   "pygments_lexer": "ipython3",
   "version": "3.6.5"
  }
 },
 "nbformat": 4,
 "nbformat_minor": 2
}
