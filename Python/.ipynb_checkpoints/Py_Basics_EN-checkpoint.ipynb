{
 "cells": [
  {
   "cell_type": "markdown",
   "metadata": {},
   "source": [
    "<div align=\"left\">\n",
    "<table style=\"width:50%\">\n",
    "  <tr>\n",
    "    <th>Author</th>\n",
    "    <th>Version</th> \n",
    "    <th>Date </th> \n",
    "    <th>Lang.</th>\n",
    "  </tr>\n",
    "  <tr>\n",
    "    <td>dataFLOYD</td>\n",
    "    <td>v1.00</td> \n",
    "    <td>26 Agu 2018</td>\n",
    "    <td>EN </td>\n",
    "  </tr>\n",
    "</table>\n",
    "</div>\n",
    "\n",
    "# Python basics for Data Science\n",
    "\n",
    "\n",
    "Veri bilimi için kullanılabilecek en önemli dillerden biri Python'dur. Python kolay öğrenilebilen sentaksı (syntax) ve veri bilimine yönelik hazırlanan çok güçlü kütüphaneleri sayesinde istediğiniz işlemleri çok etkin bir şekilde yapabilmenize olanak sağlar. Veri bilimine giriş yapmak isteyenlerin bu dili temel seviyede öğrenmeleri tavsiye edilir. <br>\n",
    "\n",
    "Bu dokümanda dili formal bir şekilde öğretmek yerine veri biliminde lazım olabilecek operasyonlar hakkında ufak kod parçaları vermenin daha iyi olabileceğini düşündüm. \n",
    "\n",
    "------------"
   ]
  },
  {
   "cell_type": "markdown",
   "metadata": {},
   "source": [
    "<div class=\"alert alert-warning\">\n",
    "<b> TEMEL DEĞİŞKENLER </b> \n",
    "</div>"
   ]
  },
  {
   "cell_type": "code",
   "execution_count": 1,
   "metadata": {},
   "outputs": [
    {
     "name": "stdout",
     "output_type": "stream",
     "text": [
      "Kullanılan python sürümü\n",
      "3.6.5 |Anaconda, Inc.| (default, Mar 29 2018, 13:32:41) [MSC v.1900 64 bit (AMD64)]\n",
      "\n",
      "\n",
      "a = 2 / Tipi: int\n",
      "\n",
      "\n",
      "b = 3.000000 / Tipi: float \n",
      "\n",
      "\n",
      "c = True / Tipi: bool \n",
      "\n",
      "\n",
      "d = demo / Tipi: str \n",
      "\n",
      "\n",
      "e = 1j / Tipi: complex \n"
     ]
    }
   ],
   "source": [
    "# Python sürümünü görelim\n",
    "import sys # kütüphane bu şekilde ekleniyor\n",
    "print(\"Kullanılan python sürümü\")\n",
    "print(sys.version)\n",
    "# Bir satır boşluk\n",
    "print(\"\\n\")\n",
    "\n",
    "# Değikenler\n",
    "\n",
    "# integer\n",
    "a = 2\n",
    "print(\"a = %d / Tipi: %s\" % (a,type(a).__name__ ) )\n",
    "print(\"\\n\")\n",
    "\n",
    "# float\n",
    "b = 3.0\n",
    "print(\"b = %f / Tipi: %s \" % (b,type(b).__name__ ) )\n",
    "print(\"\\n\")\n",
    "\n",
    "# boolean\n",
    "c = True\n",
    "print(\"c = %r / Tipi: %s \" % (c,type(c).__name__ ))\n",
    "print(\"\\n\")\n",
    "\n",
    "# string\n",
    "d = \"demo\"\n",
    "print(\"d = %s / Tipi: %s \" % (d,type(d).__name__ ))\n",
    "print(\"\\n\")\n",
    "\n",
    "# kompleks\n",
    "e = 1j\n",
    "print(\"e = %s / Tipi: %s \" % (e,type(e).__name__ ))"
   ]
  },
  {
   "cell_type": "markdown",
   "metadata": {},
   "source": [
    "* **Değişkenleri birbirine dönüştürme**"
   ]
  },
  {
   "cell_type": "code",
   "execution_count": 2,
   "metadata": {},
   "outputs": [
    {
     "name": "stdout",
     "output_type": "stream",
     "text": [
      "a = 1.345000 / Tipi: float\n",
      "a = 1 / Tipi: int\n",
      "\n",
      "\n",
      "a = 1.345000 / Tipi: float\n",
      "a = 1.345 / Tipi: str\n"
     ]
    }
   ],
   "source": [
    "# Örnek olarak float bir değişkeni int'e çevirelim\n",
    "a = 1.345\n",
    "print(\"a = %f / Tipi: %s\" % (a,type(a).__name__ ) )\n",
    "a = int(1.345)\n",
    "print(\"a = %d / Tipi: %s\" % (a,type(a).__name__ ) )\n",
    "print(\"\\n\")\n",
    "\n",
    "\n",
    "# Örnek olarak float bir değişkeni str'e çevirelim\n",
    "a = 1.345\n",
    "print(\"a = %f / Tipi: %s\" % (a,type(a).__name__ ) )\n",
    "a = str(1.345)\n",
    "print(\"a = %s / Tipi: %s\" % (a,type(a).__name__ ) )\n"
   ]
  },
  {
   "cell_type": "markdown",
   "metadata": {},
   "source": [
    "--------------"
   ]
  },
  {
   "cell_type": "markdown",
   "metadata": {},
   "source": [
    "<div class=\"alert alert-warning\">\n",
    "<b> VERİ YAPILARI (DATA STRUCTURES) </b> \n",
    "</div>"
   ]
  },
  {
   "cell_type": "markdown",
   "metadata": {},
   "source": [
    "**LIST**"
   ]
  },
  {
   "cell_type": "code",
   "execution_count": 3,
   "metadata": {},
   "outputs": [],
   "source": [
    "# Bir list yaratalım\n",
    "a_list = [1,2,3,4,5]"
   ]
  },
  {
   "cell_type": "code",
   "execution_count": 4,
   "metadata": {},
   "outputs": [
    {
     "name": "stdout",
     "output_type": "stream",
     "text": [
      "1\n",
      "[1, 2]\n",
      "[3, 4, 5]\n",
      "[3]\n",
      "5\n"
     ]
    }
   ],
   "source": [
    "# Belirli elemanına erişim\n",
    "print(a_list[0])\n",
    "\n",
    "# Listenin başlangıcından 2. elemanına kadar kesit alalım\n",
    "# Bu operasyon liste döndürür\n",
    "print(a_list[:2])\n",
    "\n",
    "# Listenin 2. elemanından sonuncu elemanına kadar kesit alalım\n",
    "print(a_list[2:])\n",
    "\n",
    "# Listenin 2. elemanından 3. elemanına kadar kesit alalım\n",
    "print(a_list[2:3])\n",
    "\n",
    "# Listenin son elemanına erişim\n",
    "print(a_list[-1])"
   ]
  },
  {
   "cell_type": "markdown",
   "metadata": {},
   "source": [
    "Listenin elemanları farklı veri yapıları, hatta başka listeler olabilir. Yukarıda erişim operasyonları bunun için de geçerlidir."
   ]
  },
  {
   "cell_type": "code",
   "execution_count": 5,
   "metadata": {},
   "outputs": [
    {
     "name": "stdout",
     "output_type": "stream",
     "text": [
      "[1, 'merhaba', True, [1, 2, 3, 4], 3.14, ['hoşçakal', 1234]]\n",
      "[True, [1, 2, 3, 4]]\n"
     ]
    }
   ],
   "source": [
    "b_list = [1, \"merhaba\", True, [1,2,3,4], 3.14,[\"hoşçakal\",1234]]\n",
    "print(b_list)\n",
    "print(b_list[2:4])"
   ]
  },
  {
   "cell_type": "markdown",
   "metadata": {},
   "source": [
    "Listenin içindeki listelere erişim sağlarken ikili indeksleme kullanmamız gerekir."
   ]
  },
  {
   "cell_type": "code",
   "execution_count": 6,
   "metadata": {},
   "outputs": [
    {
     "data": {
      "text/plain": [
       "'hoşçakal'"
      ]
     },
     "execution_count": 6,
     "metadata": {},
     "output_type": "execute_result"
    }
   ],
   "source": [
    "b_list[-1][0]"
   ]
  },
  {
   "cell_type": "markdown",
   "metadata": {},
   "source": [
    " * ** List Comprehensions ** <br>\n",
    "Bu işlem tek satırda listelerden başka listeler elde etmeye yarar. Aslında işlev olarak for döngüsü ile birebir aynıdır fakat daha havalı görünür :) Çok kompleks şeyler yazılabilir, şimdilik basit bir örnek vererek giriş yapmış olalım. Örneğimiz bir listenin her bir elemanının karesini alarak yeni bir liste oluşturmak olsun."
   ]
  },
  {
   "cell_type": "code",
   "execution_count": 7,
   "metadata": {},
   "outputs": [
    {
     "name": "stdout",
     "output_type": "stream",
     "text": [
      "[1, 4, 9, 16, 25, 36]\n"
     ]
    }
   ],
   "source": [
    "a_list = [1,2,3,4,5,6]\n",
    "b_list = [x**2 for x in a_list]\n",
    "print(b_list)"
   ]
  },
  {
   "cell_type": "markdown",
   "metadata": {},
   "source": [
    "**TUPLES** <br>\n",
    "Tuple tanımlanırken köşeli parantez yerine yuvarlak parantez kullanılır. <br>\n",
    "*Tuple veri tipinin en önemli özelliği \"immutable\" olmasıdır. Yani \"tuple\"ı bir kere tanımladıktan sonra değiştirmeniz mümkün değildir.* <br>Aşağıdaki örnekte ilk elemanı değiştirmeye çalıştığımızda bir hata mesajı çıkacak. ('tuple' object does not support item assignment)"
   ]
  },
  {
   "cell_type": "code",
   "execution_count": 8,
   "metadata": {},
   "outputs": [
    {
     "name": "stdout",
     "output_type": "stream",
     "text": [
      "1\n",
      "bir\n",
      "'tuple' object does not support item assignment\n"
     ]
    }
   ],
   "source": [
    "a_tuple = (1,\"bir\")\n",
    "print(a_tuple[0])\n",
    "print(a_tuple[1])\n",
    "# tuple elemanını değiştirmeye çalışalım\n",
    "try:\n",
    "    a_tuple[0] = \"değişir mi?\"\n",
    "except Exception as e:\n",
    "    print(e)\n",
    "    "
   ]
  },
  {
   "cell_type": "markdown",
   "metadata": {},
   "source": [
    "**DICTIONARY** <br>\n",
    "En faydalı veri tiplerinden biri de \"dictionary\"lerdir, sıklıkla kullanılır. <br> Anahtar - Değer (Key -Value) eşlerinden oluşur "
   ]
  },
  {
   "cell_type": "code",
   "execution_count": 9,
   "metadata": {},
   "outputs": [
    {
     "data": {
      "text/plain": [
       "{'liste': [1, 2, 3, 4],\n",
       " 'metin': 'dictionary örneği',\n",
       " 'dict_icinde_dict': {'a': [1, 2], 'b': [3, 4]},\n",
       " 'my_favorite_bands': ['Pink Floyd', 'Queen'],\n",
       " 'my_favorite_songs': ['Time', 'Bohemian Rhapsody']}"
      ]
     },
     "execution_count": 9,
     "metadata": {},
     "output_type": "execute_result"
    }
   ],
   "source": [
    "dict_a = {\"liste\":[1,2,3,4],\"metin\":\"dictionary örneği\",\n",
    "          \"dict_icinde_dict\": {\"a\":[1,2],\"b\":[3,4]},\n",
    "          \"my_favorite_bands\":[\"Pink Floyd\",\"Queen\"],\n",
    "         \"my_favorite_songs\":[\"Time\",\"Bohemian Rhapsody\"]}\n",
    "dict_a"
   ]
  },
  {
   "cell_type": "code",
   "execution_count": 10,
   "metadata": {},
   "outputs": [
    {
     "data": {
      "text/plain": [
       "{'a': [1, 2], 'b': [3, 4]}"
      ]
     },
     "execution_count": 10,
     "metadata": {},
     "output_type": "execute_result"
    }
   ],
   "source": [
    "# İçindeki elemanlara erişim\n",
    "dict_a[\"dict_icinde_dict\"]"
   ]
  },
  {
   "cell_type": "code",
   "execution_count": 11,
   "metadata": {},
   "outputs": [
    {
     "data": {
      "text/plain": [
       "2"
      ]
     },
     "execution_count": 11,
     "metadata": {},
     "output_type": "execute_result"
    }
   ],
   "source": [
    "# İkinci seviyeye de erişim istersek\n",
    "dict_a[\"dict_icinde_dict\"][\"a\"][-1]"
   ]
  },
  {
   "cell_type": "markdown",
   "metadata": {},
   "source": [
    "**SET** <br>\n",
    "Sıralanmamış ve indekslenmemiş elemanlar bütünüdür. Birleşim, kesişim, fark gibi operasyonları kolaylıkla set kullanarak yapabiliriz "
   ]
  },
  {
   "cell_type": "code",
   "execution_count": 12,
   "metadata": {},
   "outputs": [
    {
     "name": "stdout",
     "output_type": "stream",
     "text": [
      "   Birleşim\n",
      "{1, 2, 3, 4, 5, 6, 7, 8}\n",
      "{1, 2, 3, 4, 5, 6, 7, 8}\n",
      "   Kesişim\n",
      "{4, 5}\n",
      "{4, 5}\n",
      "   a_set'in b_set'ten farkı\n",
      "{1, 2, 3}\n",
      "{1, 2, 3}\n",
      "   Simetrik fark\n",
      "{1, 2, 3, 6, 7, 8}\n"
     ]
    }
   ],
   "source": [
    "a_set = {1,2,3,4,5}\n",
    "b_set = {4,5,6,7,8}\n",
    "# Birleşim\n",
    "print(\"   Birleşim\")\n",
    "print(a_set.union(b_set))\n",
    "#veya\n",
    "print(a_set | b_set)\n",
    "\n",
    "# Kesişim\n",
    "print(\"   Kesişim\")\n",
    "print(a_set.intersection(b_set))\n",
    "#veya\n",
    "print(a_set & b_set)\n",
    "\n",
    "# Fark\n",
    "print(\"   a_set'in b_set'ten farkı\")\n",
    "print(a_set.difference(b_set))\n",
    "# veya\n",
    "print(a_set-b_set)\n",
    "\n",
    "# Simetrik fark\n",
    "print(\"   Simetrik fark\")\n",
    "print(a_set ^ b_set)\n"
   ]
  },
  {
   "cell_type": "markdown",
   "metadata": {},
   "source": [
    "--------------"
   ]
  },
  {
   "cell_type": "markdown",
   "metadata": {},
   "source": [
    "<div class=\"alert alert-warning\">\n",
    "<b> TEMEL MATEMATİKSEL İŞLEMLER </b> \n",
    "</div>"
   ]
  },
  {
   "cell_type": "markdown",
   "metadata": {},
   "source": [
    "Numerik basit değişkenler için"
   ]
  },
  {
   "cell_type": "code",
   "execution_count": 13,
   "metadata": {},
   "outputs": [
    {
     "name": "stdout",
     "output_type": "stream",
     "text": [
      "a = 6 \n",
      "b = 3.000000 \n",
      "   Toplama a+b \n",
      "9.0\n",
      "   Çıkarma a-b \n",
      "3.0\n",
      "   Değişken eşitleme c=a+b \n",
      "9.0\n",
      "   Bölme a/b \n",
      "2.0\n",
      "   Çarpma a*b \n",
      "18.0\n",
      "   Kuvvetini alma a**b \n",
      "216.0\n",
      "   Modunu alma a%(b+1) \n",
      "2.0\n"
     ]
    }
   ],
   "source": [
    "a = 6\n",
    "b = 3.0\n",
    "print(\"a = %d \" % a)\n",
    "print(\"b = %f \" % b)\n",
    "print(\"   Toplama a+b \")\n",
    "print(a + b)\n",
    "print(\"   Çıkarma a-b \")\n",
    "print(a-b)\n",
    "print(\"   Değişken eşitleme c=a+b \")\n",
    "c=a+b\n",
    "print(c)\n",
    "print(\"   Bölme a/b \")\n",
    "print(a/b)\n",
    "print(\"   Çarpma a*b \")\n",
    "print(a*b)\n",
    "print(\"   Kuvvetini alma a**b \")\n",
    "print(a**b)\n",
    "print(\"   Modunu alma a%(b+1) \")\n",
    "print(a%(b+1))"
   ]
  },
  {
   "cell_type": "markdown",
   "metadata": {},
   "source": [
    "** Listeler için **"
   ]
  },
  {
   "cell_type": "code",
   "execution_count": 14,
   "metadata": {},
   "outputs": [
    {
     "name": "stdout",
     "output_type": "stream",
     "text": [
      "[1, 2, 3, 4, 5]\n",
      "[1, 2, 1, 2, 1, 2, 1, 2]\n"
     ]
    }
   ],
   "source": [
    "a_list = [1,2]\n",
    "b_list = [3,4,5]\n",
    "# iki listeyi ard arda ekler\n",
    "print(a_list+b_list)\n",
    "# Listeyi tekrar ederek ekler\n",
    "print(a_list*4)"
   ]
  },
  {
   "cell_type": "markdown",
   "metadata": {},
   "source": [
    "** String'ler için **"
   ]
  },
  {
   "cell_type": "code",
   "execution_count": 15,
   "metadata": {},
   "outputs": [
    {
     "name": "stdout",
     "output_type": "stream",
     "text": [
      "asdqwerty\n",
      "asdasdasdasd\n"
     ]
    }
   ],
   "source": [
    "a_str = \"asd\"\n",
    "b_str = \"qwerty\"\n",
    "# İki stringi ard arda ekler\n",
    "print(a_str+b_str)\n",
    "# String'i tekrar eder\n",
    "print(a_str*4)"
   ]
  },
  {
   "cell_type": "markdown",
   "metadata": {},
   "source": [
    "<div class=\"alert alert-warning\">\n",
    "<b> AKIŞ KONTROLÜ </b> \n",
    "</div>"
   ]
  },
  {
   "cell_type": "markdown",
   "metadata": {},
   "source": [
    "**\"if / else\" ifadeleri ve matıksal operatörler**"
   ]
  },
  {
   "cell_type": "code",
   "execution_count": 16,
   "metadata": {},
   "outputs": [
    {
     "name": "stdout",
     "output_type": "stream",
     "text": [
      "k==5 doğru\n",
      "Else kısmına geldi\n",
      "k, 3'ten büyüktür\n",
      "k, 5'e küçük veya eşittir\n",
      "k, 5'e ve l, 10'a eşittir\n",
      "k, 5'e veya l, 20'a eşittir\n",
      "elif ifadesinin sonu\n"
     ]
    }
   ],
   "source": [
    "# İki değişken yaratalım\n",
    "k=5\n",
    "l=10\n",
    "\n",
    "# Eşittir operatörü\n",
    "if k==5: \n",
    "    print(\"k==5 doğru\")\n",
    "\n",
    "# Eşit değildir operatörü \n",
    "if k!=5:\n",
    "    print(\"hiçbir şey\")\n",
    "else:\n",
    "    print(\"Else kısmına geldi\")\n",
    "    \n",
    "# Büyüktür operatörü\n",
    "if k>3:\n",
    "    print(\"k, 3'ten büyüktür\")\n",
    "\n",
    "# Küçüktür \n",
    "if k<=5:\n",
    "    print(\"k, 5'e küçük veya eşittir\")\n",
    "\n",
    "# Mantıksal \"ve(and)\"\n",
    "if (k==5) and (l==10):\n",
    "    print(\"k, 5'e ve l, 10'a eşittir\")\n",
    "\n",
    "# Mantıksal \"veya(or)\"\n",
    "if (k==5) or (l==20):\n",
    "    print(\"k, 5'e veya l, 20'a eşittir\")\n",
    "\n",
    "# elif ifadesi\n",
    "if k>5:\n",
    "    print(\"hiçbir şey\")\n",
    "elif k<5:\n",
    "    print(\"hiçbir şey\")\n",
    "elif k==5:\n",
    "    print(\"elif ifadesinin sonu\")"
   ]
  },
  {
   "cell_type": "markdown",
   "metadata": {},
   "source": [
    " * **if / else tek satırda kullanım **"
   ]
  },
  {
   "cell_type": "code",
   "execution_count": 17,
   "metadata": {},
   "outputs": [
    {
     "name": "stdout",
     "output_type": "stream",
     "text": [
      "5, 3'ten büyüktür\n"
     ]
    }
   ],
   "source": [
    "if 5 > 3: print(\"5, 3'ten büyüktür\")"
   ]
  },
  {
   "cell_type": "code",
   "execution_count": 18,
   "metadata": {},
   "outputs": [
    {
     "name": "stdout",
     "output_type": "stream",
     "text": [
      "Yanlış önerme\n"
     ]
    }
   ],
   "source": [
    "print(\"hiçbir şey\") if 5 < 3 else print(\"Yanlış önerme\")"
   ]
  },
  {
   "cell_type": "markdown",
   "metadata": {},
   "source": [
    "**\"for\" döngüsü**"
   ]
  },
  {
   "cell_type": "code",
   "execution_count": 19,
   "metadata": {},
   "outputs": [
    {
     "name": "stdout",
     "output_type": "stream",
     "text": [
      "1\n",
      "2\n",
      "3\n",
      "4\n"
     ]
    }
   ],
   "source": [
    "for i in [1,2,3,4]:\n",
    "    print(i)"
   ]
  },
  {
   "cell_type": "markdown",
   "metadata": {},
   "source": [
    "**\"while\" döngüsü**"
   ]
  },
  {
   "cell_type": "code",
   "execution_count": 20,
   "metadata": {},
   "outputs": [
    {
     "name": "stdout",
     "output_type": "stream",
     "text": [
      "0\n",
      "1\n",
      "2\n",
      "3\n",
      "4\n"
     ]
    }
   ],
   "source": [
    "i=0\n",
    "while i < 5:\n",
    "    print(i)\n",
    "    i=i+1"
   ]
  },
  {
   "cell_type": "markdown",
   "metadata": {},
   "source": [
    "**\"break\",\"continue\",\"pass\" ifadeleri**\n",
    "- break: Döngüyü sonlandırır.\n",
    "- continue: Döngünün mevcut elemanını atlar\n",
    "- pass: Döngüye devam eder birşey yapmaz. Genelleştirme maksadıyla kullanılır."
   ]
  },
  {
   "cell_type": "code",
   "execution_count": 21,
   "metadata": {},
   "outputs": [
    {
     "name": "stdout",
     "output_type": "stream",
     "text": [
      "continue: En zor gün Pazartesi :( bunu atlayalım lütfen. Tekrar yazılmayacak\n",
      "pass: Bunun etkisi olmayacak Salı tekrar yazılacak\n",
      " Bugün Salı\n",
      " Bugün Çarşamba\n",
      " Bugün Perşembe\n",
      "break: Cumartesi'ye gelmeden Cuma'da bitirelim. Cumartesi ve Pazar yazılmayacak\n"
     ]
    }
   ],
   "source": [
    "gunler = [\"Pazartesi\",\"Salı\",\"Çarşamba\",\"Perşembe\",\"Cuma\",\"Cumartesi\",\"Pazar\"]\n",
    "\n",
    "for gun in gunler:\n",
    "    if gun == \"Pazartesi\":\n",
    "        print(\"continue: En zor gün \" + gun + \" :( bunu atlayalım lütfen. Tekrar yazılmayacak\")\n",
    "        continue\n",
    "    if gun == \"Salı\":\n",
    "        print(\"pass: Bunun etkisi olmayacak \" + gun + \" tekrar yazılacak\")\n",
    "        pass\n",
    "    if gun == \"Cuma\":\n",
    "        print(\"break: Cumartesi'ye gelmeden \" + gun + \"'da bitirelim. Cumartesi ve Pazar yazılmayacak\")\n",
    "        break\n",
    "    else:\n",
    "        print(\" Bugün \" + gun)"
   ]
  },
  {
   "cell_type": "markdown",
   "metadata": {},
   "source": [
    "** try and except ifadeleri ** <br>\n",
    "Çoğu zaman programda bir hata olduğunda bunu yakalayıp ona göre programın işleyişini değiştirmek veya hata mesajları çıkarmak gerekebilir. Bu sebeple try ve except yapısını kullanabilir. except ifadesinden sonra \"Exception as e\" diyerek hata mesajını da yakalayabilmek mümkündür."
   ]
  },
  {
   "cell_type": "code",
   "execution_count": 22,
   "metadata": {},
   "outputs": [
    {
     "name": "stdout",
     "output_type": "stream",
     "text": [
      "'tuple' object does not support item assignment\n"
     ]
    }
   ],
   "source": [
    "a_tuple = (1,\"bir\")\n",
    "# tuple elemanını değiştirmeye çalışalım\n",
    "try:\n",
    "    a_tuple[0] = \"değişir mi?\"\n",
    "except Exception as e:\n",
    "    print(e)"
   ]
  },
  {
   "cell_type": "markdown",
   "metadata": {},
   "source": [
    "<div class=\"alert alert-warning\">\n",
    "<b> FONKSİYONLAR (FUNCTIONS) </b> \n",
    "</div>"
   ]
  },
  {
   "cell_type": "markdown",
   "metadata": {},
   "source": [
    "Fonksiyonlar çağrıldığı zaman koşan kod parçalarıdır. Fonksiyonlara parametre gönderebiliriz. Fonksiyonlardan çıktı alabiliriz."
   ]
  },
  {
   "cell_type": "code",
   "execution_count": 23,
   "metadata": {},
   "outputs": [
    {
     "name": "stdout",
     "output_type": "stream",
     "text": [
      "Merhaba dünya!\n"
     ]
    }
   ],
   "source": [
    "# En basit şekilde bir fonksiyon hazırlayalım\n",
    "def a_function():\n",
    "    print(\"Merhaba dünya!\")\n",
    "# Hazırladığımız fonksiyonu çağırıyoruz.\n",
    "a_function()"
   ]
  },
  {
   "cell_type": "code",
   "execution_count": 24,
   "metadata": {},
   "outputs": [
    {
     "name": "stdout",
     "output_type": "stream",
     "text": [
      "Burası Türkiye\n",
      "Burası dünya\n"
     ]
    }
   ],
   "source": [
    "# Varsayılan parametresi olan bir fonksiyon yazalım\n",
    "def b_function(country_name=\"Türkiye\"):\n",
    "    print(\"Burası \" + country_name)\n",
    "\n",
    "b_function()\n",
    "b_function(\"dünya\")"
   ]
  },
  {
   "cell_type": "code",
   "execution_count": 25,
   "metadata": {},
   "outputs": [
    {
     "name": "stdout",
     "output_type": "stream",
     "text": [
      "9\n"
     ]
    }
   ],
   "source": [
    "# Değer döndüren bir fonksyion yazalım\n",
    "def c_function(num = 2):\n",
    "    return num**2\n",
    "\n",
    "ret_val = c_function(3)\n",
    "print(ret_val)"
   ]
  },
  {
   "cell_type": "markdown",
   "metadata": {},
   "source": [
    "**LAMBDA FONKSİYONLAR** "
   ]
  },
  {
   "cell_type": "markdown",
   "metadata": {},
   "source": [
    "Lambda fonksiyonlar birden fazla parametre alabilen fakat tek bir ifadeye sahip fonksiyonlardır. <br> Genel yapıları aşağıdaki gibidir<br>\n",
    "<p style=\"text-align: center;\"> *lambda parametre : ifade* </p>\n"
   ]
  },
  {
   "cell_type": "code",
   "execution_count": 26,
   "metadata": {},
   "outputs": [
    {
     "name": "stdout",
     "output_type": "stream",
     "text": [
      "27\n"
     ]
    }
   ],
   "source": [
    "# Sayının kübünü alan bir fonksiyon\n",
    "a_lambda_function = lambda x : x**3\n",
    "print(a_lambda_function(3))"
   ]
  },
  {
   "cell_type": "markdown",
   "metadata": {},
   "source": [
    "Diyelim ki sayının n. kuvvetini alan jenerik bir fonksiyon ailesi oluşturmak istiyoruz. Bu durumda bir başka fonksiyonun içinde lambda kullanabiliriz."
   ]
  },
  {
   "cell_type": "code",
   "execution_count": 27,
   "metadata": {},
   "outputs": [
    {
     "name": "stdout",
     "output_type": "stream",
     "text": [
      "4\n",
      "8\n",
      "16\n"
     ]
    }
   ],
   "source": [
    "def power_family(n):\n",
    "    return lambda x:x**n\n",
    "\n",
    "karesini_al = power_family(2)\n",
    "kubunu_al = power_family(3)\n",
    "dorduncu_kuvvetini_al = power_family(4)\n",
    "\n",
    "print(karesini_al(2))\n",
    "print(kubunu_al(2))\n",
    "print(dorduncu_kuvvetini_al(2))"
   ]
  },
  {
   "cell_type": "markdown",
   "metadata": {},
   "source": [
    "<div class=\"alert alert-warning\">\n",
    "<b> SINIFLAR (CLASSES) </b> \n",
    "</div>"
   ]
  },
  {
   "cell_type": "markdown",
   "metadata": {},
   "source": [
    "Python \"Object Oriented\" bir dildir. Python dilindeki hemen hemen herşey objelerden (objects), özelliklerden (properties) ve metotlardan (methods) oluşmaktadır.<br>"
   ]
  },
  {
   "cell_type": "code",
   "execution_count": 28,
   "metadata": {},
   "outputs": [],
   "source": [
    "# Genel sınıf tanımlası\n",
    "class a_class:\n",
    "    # Onje yaratıldığında çağrılan fonksiyon (aka Constructor)\n",
    "    def __init__(self,name,number):\n",
    "        self.name = name\n",
    "        self.number = number\n",
    "    def print_info(self):\n",
    "        print(\"Name: \" + self.name + \"\\nNumber: \" + str(self.number))"
   ]
  },
  {
   "cell_type": "code",
   "execution_count": 29,
   "metadata": {},
   "outputs": [
    {
     "name": "stdout",
     "output_type": "stream",
     "text": [
      "Name: dataFLOYD\n",
      "Number: 42\n"
     ]
    }
   ],
   "source": [
    "my_name = a_class(\"dataFLOYD\",42)\n",
    "my_name.print_info()"
   ]
  }
 ],
 "metadata": {
  "kernelspec": {
   "display_name": "Python 3",
   "language": "python",
   "name": "python3"
  },
  "language_info": {
   "codemirror_mode": {
    "name": "ipython",
    "version": 3
   },
   "file_extension": ".py",
   "mimetype": "text/x-python",
   "name": "python",
   "nbconvert_exporter": "python",
   "pygments_lexer": "ipython3",
   "version": "3.6.5"
  }
 },
 "nbformat": 4,
 "nbformat_minor": 2
}
