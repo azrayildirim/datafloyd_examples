{
 "cells": [
  {
   "cell_type": "markdown",
   "metadata": {},
   "source": [
    "<div align=\"right\">\n",
    "<table style=\"width:50%\">\n",
    "  <tr>\n",
    "    <th>Hazırlayan</th>\n",
    "    <th>Versiyon</th> \n",
    "    <th>Tarih</th> \n",
    "    <th>Dil</th>\n",
    "  </tr>\n",
    "  <tr>\n",
    "    <td>dataFLOYD</td>\n",
    "    <td>v1.00</td> \n",
    "    <td>08 Eyl 2018</td>\n",
    "    <td>TR </td>\n",
    "  </tr>\n",
    "</table>\n",
    "</div>"
   ]
  },
  {
   "cell_type": "markdown",
   "metadata": {},
   "source": [
    "<div class=\"alert alert-danger\">\n",
    "<br>\n",
    "Ön koşullar ile ilgili bilgi vererek başlanmalı, böylece okuyanlar ilk önce eksiklerini tamamlayabilir. <br>\n",
    "<br>\n",
    "ÖN KOŞULLAR\n",
    "    <br><a href=\"https://www.datafloyd.com/tr/python-pandas-kutuphanesine-giris/\">Python “pandas” kütüphanesine giriş</a>\n",
    "    <br><a href=\"https://www.datafloyd.com/tr/veri-bilimi-icin-temel-python-kullanimi/\">Temel Python kullanımı</a>\n",
    "    <br><a href=\"https://www.datafloyd.com/tr/pyhton-numpy-kutuphanesinin-kullanimi/\">Numpy kütüphanesi kullanımı</a>\n",
    "</div>"
   ]
  },
  {
   "cell_type": "markdown",
   "metadata": {},
   "source": [
    "<!-- ICONS -->\n",
    "<link rel=\"stylesheet\" href=\"https://cdnjs.cloudflare.com/ajax/libs/font-awesome/4.7.0/css/font-awesome.min.css\">\n",
    "\n",
    "<!-- BOOTSTRAP -->\n",
    "<!-- Latest compiled and minified CSS -->\n",
    "<link rel=\"stylesheet\" href=\"https://maxcdn.bootstrapcdn.com/bootstrap/3.3.7/css/bootstrap.min.css\">\n",
    "\n",
    "<!-- jQuery library -->\n",
    "<script src=\"https://ajax.googleapis.com/ajax/libs/jquery/3.3.1/jquery.min.js\"></script>\n",
    "\n",
    "<!-- Latest compiled JavaScript -->\n",
    "<script src=\"https://maxcdn.bootstrapcdn.com/bootstrap/3.3.7/js/bootstrap.min.js\"></script>"
   ]
  },
  {
   "cell_type": "markdown",
   "metadata": {},
   "source": [
    "# Veri Biliminin Temeller - k-NN (Nearest Neighbor: En Yakın Komşuluk) algoritması "
   ]
  },
  {
   "cell_type": "markdown",
   "metadata": {},
   "source": [
    "<div class=\"well\">\n",
    "k-NN (k-Nearest Neighbor: En Yakın Komşuluk) tüm makine öğrenmesi algoritmaları arasında bence öğrenmesi ve uygulaması en kolay algoritmalardan biridir. Çünkü konsept olarak çok basittir. Diğer algoritmalarda olduğu gibi burada çok kompleks fonksiyonlar işin içinde olmadığı için matematiğe çok girmenize gerek yoktur. Makine öğrenmesi hakkında fikri olmayan birine bile bu konsepti çok rahat anlatabilirsiniz. \n",
    "</div>"
   ]
  },
  {
   "cell_type": "markdown",
   "metadata": {},
   "source": [
    "İncelemeye algoritmanın sözde kodunu (pseudo code) yazarak başlayalım isterseniz:"
   ]
  },
  {
   "cell_type": "markdown",
   "metadata": {},
   "source": [
    "<div class=\"alert alert-warning\">\n",
    "k-NN sınıflandırma algoritması<br>\n",
    "1- Bir k değeri ve uzaklık metriği seçelim <br>\n",
    "2- Veri seti içerisinde sınıflandırmak istediğimiz örneğe ait en yakın k adet komşuyu bulalım <br>\n",
    "3- Çoğunluk kararına göre örneğin sınıfı atanır\n",
    "</div>"
   ]
  },
  {
   "cell_type": "markdown",
   "metadata": {},
   "source": [
    "![kNN](kNN.png)"
   ]
  },
  {
   "cell_type": "markdown",
   "metadata": {},
   "source": [
    "Şekilde belirtildiği gibi en fazla sayıdaki sınıfın etiketi örneğimize atanır."
   ]
  },
  {
   "cell_type": "markdown",
   "metadata": {},
   "source": [
    "k-NN bu kadar etkin ve kolay bir algoritma olmasına karşın bazı önemli dezavantajlara sahiptir. \n",
    "* Örnek sayısı arttığında yapmamız gereken karşılaştırma işlemlerinin sayısı da lineer bir şekilde artmaktadır ve bu çok ağır bir işlem yükü getirmektedir.\n",
    "* Özellikle boyut sayısı ve k sayısı arttığında kNN algoritması \"overfitting\" problemi ile karşı karşıya kalmaktadır. "
   ]
  },
  {
   "cell_type": "markdown",
   "metadata": {},
   "source": [
    "Küçük bir kodlama örneği yapalım şimdi. Bu örnek için iris veri setini kullanalım. *(Laf aramızda ben sıkıldım bu iris veri setinden artık :) İlerleyen yazılarımızda daha başka veri setleri kullanmaya çalışacağım)*"
   ]
  },
  {
   "cell_type": "code",
   "execution_count": 10,
   "metadata": {},
   "outputs": [],
   "source": [
    "# pandas yüklemek lazım!\n",
    "import pandas as pd\n",
    "# numpy\n",
    "import numpy as np\n",
    "\n",
    "# matplotlib\n",
    "import matplotlib.pyplot as plt\n",
    "# ggplot stilinde kullanalım\n",
    "plt.style.use('ggplot')\n",
    "%matplotlib inline\n",
    "\n",
    "# Scikit Learn\n",
    "from sklearn import datasets\n",
    "from sklearn.decomposition import PCA\n",
    "from sklearn.neighbors import KNeighborsClassifier"
   ]
  },
  {
   "cell_type": "code",
   "execution_count": 11,
   "metadata": {},
   "outputs": [
    {
     "data": {
      "image/png": "[encoded data removed]",
      "text/plain": [
       "<Figure size 432x288 with 1 Axes>"
      ]
     },
     "metadata": {},
     "output_type": "display_data"
    }
   ],
   "source": [
    "# iris verisetini yukluyoruz\n",
    "iris = datasets.load_iris()\n",
    "\n",
    "# 1. ve 3. özniteliği alalım \n",
    "X = iris.data[:, [0,2]]\n",
    "y = iris.target\n",
    "\n",
    "plt.figure()\n",
    "# Haydi çizdirelim bunu\n",
    "# Setosa için\n",
    "plt.scatter(X[y==0,0],X[y==0,1],c=\"b\")\n",
    "# Versicolor için\n",
    "plt.scatter(X[y==1,0],X[y==1,1],c='r')\n",
    "# Virginica için\n",
    "plt.scatter(X[y==2,0],X[y==2,1],c=\"g\")\n",
    "\n",
    "plt.legend(iris[\"target_names\"])\n",
    "plt.xlabel(iris.feature_names[0]);\n",
    "plt.ylabel(iris.feature_names[2]);"
   ]
  },
  {
   "cell_type": "code",
   "execution_count": 12,
   "metadata": {},
   "outputs": [],
   "source": [
    "# Sınıflandırıcıyı çağırmadan önce karar sınırlarını çizdirmek için fonksiyon hazırlayalım\n",
    "def plot_decision_region(X, y, classifier, legend=[],resolution=0.02):\n",
    "\n",
    "    \n",
    "    # setup marker generator and color map\n",
    "    markers = ('o', 'o', 'o')\n",
    "    colors = ('red', 'blue', 'green')\n",
    "    \n",
    "    # plot the decision surface\n",
    "    x1_min, x1_max = X[:, 0].min() - 1, X[:, 0].max() + 1\n",
    "    x2_min, x2_max = X[:, 1].min() - 1, X[:, 1].max() + 1\n",
    "    xx1, xx2 = np.meshgrid(np.arange(x1_min, x1_max, resolution),\n",
    "    np.arange(x2_min, x2_max, resolution))\n",
    "    \n",
    "    Z = classifier.predict(np.array([xx1.ravel(), xx2.ravel()]).T)\n",
    "    Z = Z.reshape(xx1.shape)\n",
    "    \n",
    "    plt.contourf(xx1, xx2, Z, alpha=0.4, cmap=\"coolwarm\")\n",
    "    plt.xlim(xx1.min(), xx1.max())\n",
    "    plt.ylim(xx2.min(), xx2.max())\n",
    "    \n",
    "    # plot class samples\n",
    "    for idx, cl in enumerate(np.unique(y)):\n",
    "        plt.scatter(x=X[y == cl, 0], y=X[y == cl, 1],\n",
    "                    alpha=0.8, c=colors[idx],\n",
    "                    marker=markers[idx], label=cl)\n",
    "\n",
    "        plt.legend(legend)"
   ]
  },
  {
   "cell_type": "code",
   "execution_count": 13,
   "metadata": {},
   "outputs": [
    {
     "data": {
      "image/png": "[encoded data removed]",
      "text/plain": [
       "<Figure size 432x288 with 1 Axes>"
      ]
     },
     "metadata": {},
     "output_type": "display_data"
    }
   ],
   "source": [
    "# Sınıflandırıcıyı eğitelim ve görselleştirelim\n",
    "kNN = KNeighborsClassifier(n_neighbors=3)\n",
    "kNN.fit(X,y)\n",
    "\n",
    "plt.figure()\n",
    "plot_decision_region(X,y,kNN,legend=iris.target_names)\n",
    "\n",
    "\n",
    "plt.xlabel(iris.feature_names[0]);\n",
    "plt.ylabel(iris.feature_names[2]);"
   ]
  },
  {
   "cell_type": "code",
   "execution_count": null,
   "metadata": {},
   "outputs": [],
   "source": []
  },
  {
   "cell_type": "code",
   "execution_count": null,
   "metadata": {},
   "outputs": [],
   "source": []
  }
 ],
 "metadata": {
  "kernelspec": {
   "display_name": "Python 3",
   "language": "python",
   "name": "python3"
  },
  "language_info": {
   "codemirror_mode": {
    "name": "ipython",
    "version": 3
   },
   "file_extension": ".py",
   "mimetype": "text/x-python",
   "name": "python",
   "nbconvert_exporter": "python",
   "pygments_lexer": "ipython3",
   "version": "3.6.5"
  }
 },
 "nbformat": 4,
 "nbformat_minor": 2
}
