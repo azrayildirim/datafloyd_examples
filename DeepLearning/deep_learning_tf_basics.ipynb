{
 "cells": [
  {
   "cell_type": "markdown",
   "metadata": {},
   "source": [
    "<div align=\"right\">\n",
    "<table style=\"width:50%\">\n",
    "  <tr>\n",
    "    <th>Hazırlayan</th>\n",
    "    <th>Versiyon</th> \n",
    "    <th>Tarih</th> \n",
    "    <th>Dil</th>\n",
    "  </tr>\n",
    "  <tr>\n",
    "    <td>dataFLOYD</td>\n",
    "    <td>v1.00</td> \n",
    "    <td>16 Eyl 2018</td>\n",
    "    <td>TR </td>\n",
    "  </tr>\n",
    "</table>\n",
    "</div>"
   ]
  },
  {
   "cell_type": "markdown",
   "metadata": {
    "toc": true
   },
   "source": [
    "<h1>İçindekiler<span class=\"tocSkip\"></span></h1>\n",
    "<div class=\"toc\"><ul class=\"toc-item\"><li><span><a href=\"#Veri-akışı-(data-flow)-grafiği-ve-tensör-ne-demek?\" data-toc-modified-id=\"Veri-akışı-(data-flow)-grafiği-ve-tensör-ne-demek?-1\"><span class=\"toc-item-num\">1&nbsp;&nbsp;</span>Veri akışı (data flow) grafiği ve tensör ne demek?</a></span></li><li><span><a href=\"#Grafiği-kodlayalım\" data-toc-modified-id=\"Grafiği-kodlayalım-2\"><span class=\"toc-item-num\">2&nbsp;&nbsp;</span>Grafiği kodlayalım</a></span></li><li><span><a href=\"#Session-(Oturum)-oluşturma-ve-grafiğin-koşturulması\" data-toc-modified-id=\"Session-(Oturum)-oluşturma-ve-grafiğin-koşturulması-3\"><span class=\"toc-item-num\">3&nbsp;&nbsp;</span>Session (Oturum) oluşturma ve grafiğin koşturulması</a></span></li></ul></div>"
   ]
  },
  {
   "cell_type": "markdown",
   "metadata": {},
   "source": [
    "# Derin Öğrenme - Tensorflow Kütüphanesini Tanıyalım\n",
    "Derin öğrenme için kullanılabilecek en başta gelen kütüphanelerden birisi Tensorflow'dur. Tensorflow'un arkasında Google gibi dev bir şirket olduğu için bu kütüphane uzun yıllar bu alanda liderliğini sürdürecek gibi görünüyor. Bu yüzden eğer derin öğrenme konusunda ilginiz varsa, hatta bu alanda bir kariyer yapmak istiyorsanız bu kütüphanenin neler yapabileceğini ve arkaplanda nasıl işlediğini bilmeniz de fayda var. "
   ]
  },
  {
   "cell_type": "markdown",
   "metadata": {},
   "source": [
    "Tensorflow aslında çok daha geniş bir problem alanına hitap eden bir eden bir kütüphanedir. Temelde tensorflow \"dataflow\" programlama yapan sembolik bir matematik kütüphanesidir. Çok boyutlu matris operasyonlarını CPU ve GPU üzerinde çok hızlı bir şekilde yapabilecek şekilde tasarlanmıştır. Ayrıca tasarımı gerçekleştirilirken büyük veri setleri üzerinde, dağıtık bir şekilde çalışabilmesi hedeflenmiştir."
   ]
  },
  {
   "cell_type": "markdown",
   "metadata": {},
   "source": [
    "## Veri akışı (data flow) grafiği ve tensör ne demek?"
   ]
  },
  {
   "cell_type": "markdown",
   "metadata": {},
   "source": [
    "Tensorflow kütüphanesinde her işlem bir grafik ile tanımlanmaktadır. Grafikteki düğümler işlemleri, bağlantılar ise veriyi yani tensörleri ifade etmektedir. Bağlantılar bazı durumlarda iki düğüm arasındaki etkileşimi de tanımlayabilirler. Örneğin hangi düğümün önce işlem yapacağı gibi. "
   ]
  },
  {
   "cell_type": "markdown",
   "metadata": {},
   "source": [
    "Konuyu daha iyi anlatabilmek için bir örnek yapalım. Mesela $y=2x+3$ denklemini ele alalım. Bu denklemi grafiksel olarak ele alacak olursak aşağıdaki gibi bir grafikle karşılaşırız."
   ]
  },
  {
   "attachments": {
    "graph_ex.PNG": {
     "image/png": "[encoded data removed]"
    }
   },
   "cell_type": "markdown",
   "metadata": {},
   "source": [
    "![graph_ex.PNG](attachment:graph_ex.PNG)\n",
    "<p style=\"text-align: center\"> <i>$y=2x+3$ denkleminin akış diyagramı olarak ifade edilmiş hali<i> </p>\n"
   ]
  },
  {
   "cell_type": "markdown",
   "metadata": {},
   "source": [
    "Grafiği biraz analiz edelim, grafikte:\n",
    "* iki adet değişken ($x$ ve $y$) mevcut\n",
    "* İki adet sabit mevcut (2 ve 3)\n",
    "* iki adet işlem mevcut (çarpma ve bölme)"
   ]
  },
  {
   "cell_type": "markdown",
   "metadata": {},
   "source": [
    "## Grafiği kodlayalım"
   ]
  },
  {
   "cell_type": "markdown",
   "metadata": {},
   "source": [
    "Şimdi buradaki olayı tensorflow kullanarak nasıl anlatacağımıza bakalım. İşe öncelikle kütüphaneyi ekleyerek başlıyoruz. "
   ]
  },
  {
   "cell_type": "code",
   "execution_count": 2,
   "metadata": {},
   "outputs": [],
   "source": [
    "import tensorflow as tf"
   ]
  },
  {
   "cell_type": "markdown",
   "metadata": {},
   "source": [
    "Denklemde iki adet sabit mevcut, öncelikle bunları ekleyelim. Bunların isimleri a ve b olsun. Ayrıca bu sabitlerin ve diğer değişkenlerin veri tipini de `float32` şeklinde tanımlayalım"
   ]
  },
  {
   "cell_type": "code",
   "execution_count": 3,
   "metadata": {},
   "outputs": [],
   "source": [
    "a = tf.constant(2,name=\"a\",dtype=tf.float32)\n",
    "b = tf.constant(3,name=\"b\",dtype=tf.float32)"
   ]
  },
  {
   "cell_type": "markdown",
   "metadata": {},
   "source": [
    "Şimdi değişkenleri yaratalım ve bu değişkenler arasındaki ilişkiyi tanımlayalım. $x$ değişkenini \"placeholder\" olarak tanımlayacağız. \"Placeholder\" grafiğe dışarıdan girdi sağlamak için kulllanılıyor.  "
   ]
  },
  {
   "cell_type": "code",
   "execution_count": 20,
   "metadata": {},
   "outputs": [],
   "source": [
    "x = tf.placeholder(dtype=tf.float32,name=\"x\")\n",
    "y = tf.add(tf.multiply(a,x),b,name=\"y\")"
   ]
  },
  {
   "cell_type": "markdown",
   "metadata": {},
   "source": [
    "## Session (Oturum) oluşturma ve grafiğin koşturulması"
   ]
  },
  {
   "cell_type": "markdown",
   "metadata": {},
   "source": [
    "Tensorflow dünyasında grafiği hazırlamak hemen sonuç alabileceğiniz anlamına gelmiyor :) Sonuç alabilmek için bir oturum başlatmalı ve koşturmalısınız.  "
   ]
  },
  {
   "cell_type": "code",
   "execution_count": 21,
   "metadata": {},
   "outputs": [
    {
     "name": "stdout",
     "output_type": "stream",
     "text": [
      "13.0\n"
     ]
    }
   ],
   "source": [
    "# Bu satırda sess isminde bir oturum yarattık\n",
    "sess = tf.Session() \n",
    "# ardından y grafiğini x=5 olacak şekilde koşturduk\n",
    "print(sess.run(y,feed_dict={x:5}))"
   ]
  },
  {
   "cell_type": "markdown",
   "metadata": {},
   "source": [
    "Yukarıdaki örnekte girdiyi `feed_dict={x:5}` şeklinde sağladığımıza dikkat etmişsinizdir. Peki eğer buraya bir vektör verirsek ne olur sizce? "
   ]
  },
  {
   "cell_type": "code",
   "execution_count": 22,
   "metadata": {},
   "outputs": [
    {
     "name": "stdout",
     "output_type": "stream",
     "text": [
      "[13. 15.]\n"
     ]
    }
   ],
   "source": [
    "# İki boyutlu bir vektörden iki boyutlu bir çıktı elde ettik\n",
    "print(sess.run(y,feed_dict={x:[5,6]}))\n",
    "# Bu kısım önemli oturumu kapatmayı unutmayın!\n",
    "sess.close()"
   ]
  },
  {
   "cell_type": "markdown",
   "metadata": {},
   "source": [
    "Gördüğünüz gibi iki boyutlu bir çıktı elde ettik. Sonunda başlattığımız oturumu `sess.close()` ile kapattık.\n",
    "\n",
    "`x` değişkeni oluşturulurken `shape` parametresini açıkça belirlediğimiz de verdiğimiz girdi boyutu mutlaka beklenen girdi boyutu ile aynı olmalı, aksi takdirde hata ile karşılaşırız. Bu durumu da örneklendirelim."
   ]
  },
  {
   "cell_type": "code",
   "execution_count": 26,
   "metadata": {},
   "outputs": [
    {
     "ename": "ValueError",
     "evalue": "Cannot feed value of shape (2,) for Tensor 'x_1_11:0', which has shape '(1,)'",
     "output_type": "error",
     "traceback": [
      "\u001b[1;31m---------------------------------------------------------------------------\u001b[0m",
      "\u001b[1;31mValueError\u001b[0m                                Traceback (most recent call last)",
      "\u001b[1;32m<ipython-input-26-cf570e73bb1f>\u001b[0m in \u001b[0;36m<module>\u001b[1;34m\u001b[0m\n\u001b[0;32m      2\u001b[0m \u001b[0my_1\u001b[0m \u001b[1;33m=\u001b[0m \u001b[0mtf\u001b[0m\u001b[1;33m.\u001b[0m\u001b[0madd\u001b[0m\u001b[1;33m(\u001b[0m\u001b[0mtf\u001b[0m\u001b[1;33m.\u001b[0m\u001b[0mmultiply\u001b[0m\u001b[1;33m(\u001b[0m\u001b[0ma\u001b[0m\u001b[1;33m,\u001b[0m\u001b[0mx_1\u001b[0m\u001b[1;33m)\u001b[0m\u001b[1;33m,\u001b[0m\u001b[0mb\u001b[0m\u001b[1;33m,\u001b[0m\u001b[0mname\u001b[0m\u001b[1;33m=\u001b[0m\u001b[1;34m\"y_1\"\u001b[0m\u001b[1;33m)\u001b[0m\u001b[1;33m\u001b[0m\u001b[1;33m\u001b[0m\u001b[0m\n\u001b[0;32m      3\u001b[0m \u001b[0msess\u001b[0m \u001b[1;33m=\u001b[0m \u001b[0mtf\u001b[0m\u001b[1;33m.\u001b[0m\u001b[0mSession\u001b[0m\u001b[1;33m(\u001b[0m\u001b[1;33m)\u001b[0m\u001b[1;33m\u001b[0m\u001b[1;33m\u001b[0m\u001b[0m\n\u001b[1;32m----> 4\u001b[1;33m \u001b[0mprint\u001b[0m\u001b[1;33m(\u001b[0m\u001b[0msess\u001b[0m\u001b[1;33m.\u001b[0m\u001b[0mrun\u001b[0m\u001b[1;33m(\u001b[0m\u001b[0my_1\u001b[0m\u001b[1;33m,\u001b[0m\u001b[0mfeed_dict\u001b[0m\u001b[1;33m=\u001b[0m\u001b[1;33m{\u001b[0m\u001b[0mx_1\u001b[0m\u001b[1;33m:\u001b[0m\u001b[1;33m[\u001b[0m\u001b[1;36m1\u001b[0m\u001b[1;33m,\u001b[0m\u001b[1;36m2\u001b[0m\u001b[1;33m]\u001b[0m\u001b[1;33m}\u001b[0m\u001b[1;33m)\u001b[0m\u001b[1;33m)\u001b[0m\u001b[1;33m\u001b[0m\u001b[1;33m\u001b[0m\u001b[0m\n\u001b[0m\u001b[0;32m      5\u001b[0m \u001b[0msess\u001b[0m\u001b[1;33m.\u001b[0m\u001b[0mclose\u001b[0m\u001b[1;33m(\u001b[0m\u001b[1;33m)\u001b[0m\u001b[1;33m\u001b[0m\u001b[1;33m\u001b[0m\u001b[0m\n",
      "\u001b[1;32mE:\\ProgramData\\Anaconda3\\envs\\dl\\lib\\site-packages\\tensorflow\\python\\client\\session.py\u001b[0m in \u001b[0;36mrun\u001b[1;34m(self, fetches, feed_dict, options, run_metadata)\u001b[0m\n\u001b[0;32m    927\u001b[0m     \u001b[1;32mtry\u001b[0m\u001b[1;33m:\u001b[0m\u001b[1;33m\u001b[0m\u001b[1;33m\u001b[0m\u001b[0m\n\u001b[0;32m    928\u001b[0m       result = self._run(None, fetches, feed_dict, options_ptr,\n\u001b[1;32m--> 929\u001b[1;33m                          run_metadata_ptr)\n\u001b[0m\u001b[0;32m    930\u001b[0m       \u001b[1;32mif\u001b[0m \u001b[0mrun_metadata\u001b[0m\u001b[1;33m:\u001b[0m\u001b[1;33m\u001b[0m\u001b[1;33m\u001b[0m\u001b[0m\n\u001b[0;32m    931\u001b[0m         \u001b[0mproto_data\u001b[0m \u001b[1;33m=\u001b[0m \u001b[0mtf_session\u001b[0m\u001b[1;33m.\u001b[0m\u001b[0mTF_GetBuffer\u001b[0m\u001b[1;33m(\u001b[0m\u001b[0mrun_metadata_ptr\u001b[0m\u001b[1;33m)\u001b[0m\u001b[1;33m\u001b[0m\u001b[1;33m\u001b[0m\u001b[0m\n",
      "\u001b[1;32mE:\\ProgramData\\Anaconda3\\envs\\dl\\lib\\site-packages\\tensorflow\\python\\client\\session.py\u001b[0m in \u001b[0;36m_run\u001b[1;34m(self, handle, fetches, feed_dict, options, run_metadata)\u001b[0m\n\u001b[0;32m   1126\u001b[0m                              \u001b[1;34m'which has shape %r'\u001b[0m \u001b[1;33m%\u001b[0m\u001b[1;33m\u001b[0m\u001b[1;33m\u001b[0m\u001b[0m\n\u001b[0;32m   1127\u001b[0m                              (np_val.shape, subfeed_t.name,\n\u001b[1;32m-> 1128\u001b[1;33m                               str(subfeed_t.get_shape())))\n\u001b[0m\u001b[0;32m   1129\u001b[0m           \u001b[1;32mif\u001b[0m \u001b[1;32mnot\u001b[0m \u001b[0mself\u001b[0m\u001b[1;33m.\u001b[0m\u001b[0mgraph\u001b[0m\u001b[1;33m.\u001b[0m\u001b[0mis_feedable\u001b[0m\u001b[1;33m(\u001b[0m\u001b[0msubfeed_t\u001b[0m\u001b[1;33m)\u001b[0m\u001b[1;33m:\u001b[0m\u001b[1;33m\u001b[0m\u001b[1;33m\u001b[0m\u001b[0m\n\u001b[0;32m   1130\u001b[0m             \u001b[1;32mraise\u001b[0m \u001b[0mValueError\u001b[0m\u001b[1;33m(\u001b[0m\u001b[1;34m'Tensor %s may not be fed.'\u001b[0m \u001b[1;33m%\u001b[0m \u001b[0msubfeed_t\u001b[0m\u001b[1;33m)\u001b[0m\u001b[1;33m\u001b[0m\u001b[1;33m\u001b[0m\u001b[0m\n",
      "\u001b[1;31mValueError\u001b[0m: Cannot feed value of shape (2,) for Tensor 'x_1_11:0', which has shape '(1,)'"
     ]
    }
   ],
   "source": [
    "x_1 = tf.placeholder(dtype=tf.float32,name=\"x_1\",shape=1)\n",
    "y_1 = tf.add(tf.multiply(a,x_1),b,name=\"y_1\")\n",
    "sess = tf.Session() \n",
    "print(sess.run(y_1,feed_dict={x_1:[1,2]}))\n",
    "sess.close()"
   ]
  },
  {
   "cell_type": "markdown",
   "metadata": {},
   "source": [
    "1 boyutlu bir tensor bekleyen grafiğe 2 boyutlu tensor vererek hatamızı aldık ve rahatladık:) `ValueError: Cannot feed value of shape (2,) for Tensor 'x_1_11:0', which has shape '(1,)'`"
   ]
  },
  {
   "cell_type": "markdown",
   "metadata": {},
   "source": [
    "Yukarıda bahsettiğimiz gibi her oturum sonunda mutlaka oturumu kapatmak gerekiyor. Çoğu zaman oturumu kapatmayı unutmayı engellemek adına `with` kalıbı kullanılarak bu kalıbın içinde tensorflow işlemleri yapılır. Yani aşağıdaki gibi bir kullanım oldukça sık karşılacaksınız."
   ]
  },
  {
   "cell_type": "code",
   "execution_count": 27,
   "metadata": {},
   "outputs": [
    {
     "name": "stdout",
     "output_type": "stream",
     "text": [
      "[ 5.  5.  7.  9. 13. 19.]\n"
     ]
    }
   ],
   "source": [
    "with tf.Session() as sess:\n",
    "    print(sess.run(y,feed_dict={x:[1,1,2,3,5,8]}))"
   ]
  },
  {
   "cell_type": "code",
   "execution_count": null,
   "metadata": {},
   "outputs": [],
   "source": []
  }
 ],
 "metadata": {
  "hide_input": false,
  "kernelspec": {
   "display_name": "deep_learning",
   "language": "python",
   "name": "dl"
  },
  "language_info": {
   "codemirror_mode": {
    "name": "ipython",
    "version": 3
   },
   "file_extension": ".py",
   "mimetype": "text/x-python",
   "name": "python",
   "nbconvert_exporter": "python",
   "pygments_lexer": "ipython3",
   "version": "3.6.7"
  },
  "toc": {
   "base_numbering": 1,
   "nav_menu": {},
   "number_sections": true,
   "sideBar": false,
   "skip_h1_title": true,
   "title_cell": "İçindekiler",
   "title_sidebar": "Contents",
   "toc_cell": true,
   "toc_position": {},
   "toc_section_display": false,
   "toc_window_display": true
  },
  "varInspector": {
   "cols": {
    "lenName": 16,
    "lenType": 16,
    "lenVar": 40
   },
   "kernels_config": {
    "python": {
     "delete_cmd_postfix": "",
     "delete_cmd_prefix": "del ",
     "library": "var_list.py",
     "varRefreshCmd": "print(var_dic_list())"
    },
    "r": {
     "delete_cmd_postfix": ") ",
     "delete_cmd_prefix": "rm(",
     "library": "var_list.r",
     "varRefreshCmd": "cat(var_dic_list()) "
    }
   },
   "types_to_exclude": [
    "module",
    "function",
    "builtin_function_or_method",
    "instance",
    "_Feature"
   ],
   "window_display": false
  }
 },
 "nbformat": 4,
 "nbformat_minor": 2
}
