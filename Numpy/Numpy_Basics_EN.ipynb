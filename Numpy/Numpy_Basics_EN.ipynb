{
 "cells": [
  {
   "cell_type": "markdown",
   "metadata": {},
   "source": [
    "<div align=\"right\">\n",
    "<table style=\"width:50%\">\n",
    "  <tr>\n",
    "    <th>Author</th>\n",
    "    <th>Version</th> \n",
    "    <th>Date</th> \n",
    "    <th>Lang.</th>\n",
    "  </tr>\n",
    "  <tr>\n",
    "    <td>dataFLOYD</td>\n",
    "    <td>v1.00</td> \n",
    "    <td>25 Aug 2018</td>\n",
    "    <td>EN </td>\n",
    "  </tr>\n",
    "</table>\n",
    "</div>"
   ]
  },
  {
   "cell_type": "markdown",
   "metadata": {},
   "source": [
    "# Pyhton \"numpy\" library"
   ]
  },
  {
   "cell_type": "markdown",
   "metadata": {},
   "source": [
    "The \"numpy\" library allows us to perform numeric and matrix operations efficiently in Python. If you have already used Matlab, we suggest you take a look at the tutorial on the link below. <br>\n",
    "https://docs.scipy.org/doc/numpy/user/numpy-for-matlab-users.html <br>\n",
    "If you are ready to dive into this library, let's go!"
   ]
  },
  {
   "cell_type": "markdown",
   "metadata": {},
   "source": [
    "<div class=\"alert alert-info\">\n",
    "<b> ARRAYS </b> \n",
    "</div> <br>"
   ]
  },
  {
   "cell_type": "markdown",
   "metadata": {},
   "source": [
    "numpy arrays are very much like Pyhton lists. Basic properties of numpy arrays: \n",
    "* All elements must be the same type\n",
    "* Indexed by positive integer tuples\n",
    "* We can create numpy arrays by using lists\n",
    "* Elements can be accessed by using squared brackets"
   ]
  },
  {
   "cell_type": "code",
   "execution_count": 1,
   "metadata": {},
   "outputs": [
    {
     "name": "stdout",
     "output_type": "stream",
     "text": [
      "[3 5 2 1]\n",
      "<class 'numpy.ndarray'>\n",
      "3\n",
      "[ 3 42  2  1]\n"
     ]
    }
   ],
   "source": [
    "# importing the library\n",
    "# the common alias for numpy is np \n",
    "import numpy as np\n",
    "\n",
    "# create a simple np.array \n",
    "a_numpy_array = np.array([3,5,2,1])\n",
    "\n",
    "# print it\n",
    "print(a_numpy_array)\n",
    "\n",
    "# see its type\n",
    "print(type(a_numpy_array))\n",
    "\n",
    "# look at the first element\n",
    "print(a_numpy_array[0])\n",
    "\n",
    "# change an element\n",
    "a_numpy_array[1]=42\n",
    "\n",
    "print(a_numpy_array)"
   ]
  },
  {
   "cell_type": "markdown",
   "metadata": {},
   "source": [
    "It is possible to change the data type of a np.array"
   ]
  },
  {
   "cell_type": "code",
   "execution_count": 2,
   "metadata": {},
   "outputs": [
    {
     "name": "stdout",
     "output_type": "stream",
     "text": [
      "[1 2]\n",
      "int16\n",
      "[1. 2.]\n",
      "float64\n"
     ]
    }
   ],
   "source": [
    "a = np.array([1,2],dtype=np.int16)\n",
    "b = np.array([1,2],dtype=np.float64)\n",
    "print(a)\n",
    "print(a.dtype)\n",
    "print(b)\n",
    "print(b.dtype)"
   ]
  },
  {
   "cell_type": "code",
   "execution_count": 3,
   "metadata": {},
   "outputs": [
    {
     "name": "stdout",
     "output_type": "stream",
     "text": [
      "[[2 3 4]\n",
      " [4 5 6]]\n",
      "\n",
      "Dimensions of the matrix\n",
      "(2, 3)\n",
      "3\n"
     ]
    }
   ],
   "source": [
    "# Creating a 2D array\n",
    "# We need to pass a list comprising of two lists in order to achieve this\n",
    "# The array is created row by row\n",
    "b_numpy_array = np.array([[2,3,4],[4,5,6]])\n",
    "\n",
    "# print it\n",
    "print(b_numpy_array)\n",
    "\n",
    "# In order to see its dimensions\n",
    "print(\"\\nDimensions of the matrix\")\n",
    "print(b_numpy_array.shape)\n",
    "\n",
    "# Double indexing is used to access the elements\n",
    "print(b_numpy_array[0,1]) # First row second column"
   ]
  },
  {
   "cell_type": "markdown",
   "metadata": {},
   "source": [
    "The rows of the matrix should be equal in length, otherwise we may not be able to create the desired array"
   ]
  },
  {
   "cell_type": "code",
   "execution_count": 4,
   "metadata": {},
   "outputs": [
    {
     "name": "stdout",
     "output_type": "stream",
     "text": [
      "[list([2, 3, 4]) list([4, 5, 6, 7])]\n"
     ]
    }
   ],
   "source": [
    "# Let's see what happens if one row is longer than the other\n",
    "c_numpy_array = np.array([[2,3,4],[4,5,6,7]])\n",
    "\n",
    "print(c_numpy_array)"
   ]
  },
  {
   "cell_type": "markdown",
   "metadata": {},
   "source": [
    "** Array creation functions **"
   ]
  },
  {
   "cell_type": "markdown",
   "metadata": {},
   "source": [
    "The most commonly used array creation functions are examplified below."
   ]
  },
  {
   "cell_type": "code",
   "execution_count": 5,
   "metadata": {},
   "outputs": [
    {
     "name": "stdout",
     "output_type": "stream",
     "text": [
      "\n",
      "Zero matrix\n",
      "[[0. 0.]\n",
      " [0. 0.]\n",
      " [0. 0.]]\n",
      "\n",
      "Ones matrix\n",
      "[[1. 1. 1.]\n",
      " [1. 1. 1.]]\n",
      "\n",
      "Constant matrix\n",
      "[[42 42 42]\n",
      " [42 42 42]\n",
      " [42 42 42]\n",
      " [42 42 42]]\n",
      "\n",
      "Identity matrix\n",
      "[[1. 0.]\n",
      " [0. 1.]]\n",
      "\n",
      "Random matrix\n",
      "[[0.69621562 0.9602145  0.87007395]\n",
      " [0.44508886 0.04513239 0.05191633]\n",
      " [0.32363953 0.10999972 0.07291693]]\n"
     ]
    }
   ],
   "source": [
    "# Create a zero matrix\n",
    "print(\"\\nZero matrix\")\n",
    "print(np.zeros((3,2)))\n",
    "\n",
    "# Create a ones matrix\n",
    "print(\"\\nOnes matrix\")\n",
    "print(np.ones((2,3)))\n",
    "\n",
    "# Create a constant matrix\n",
    "print(\"\\nConstant matrix\")\n",
    "print(np.full((4,3),42))\n",
    "\n",
    "# Identity matrix\n",
    "# Note: Since this matrix is symmetrical it tales only one parameter\n",
    "print(\"\\nIdentity matrix\")\n",
    "print(np.eye(2))\n",
    "\n",
    "# Random matrix\n",
    "print(\"\\nRandom matrix\")\n",
    "print(np.random.random((3,3)))"
   ]
  },
  {
   "cell_type": "markdown",
   "metadata": {},
   "source": [
    "**np.empty() function**"
   ]
  },
  {
   "cell_type": "markdown",
   "metadata": {},
   "source": [
    "This function creates an array that is empty, but does not fill inside with ones or zeros."
   ]
  },
  {
   "cell_type": "code",
   "execution_count": 6,
   "metadata": {},
   "outputs": [
    {
     "name": "stdout",
     "output_type": "stream",
     "text": [
      "[[0.00000000e+000 0.00000000e+000 0.00000000e+000 0.00000000e+000]\n",
      " [0.00000000e+000 6.18570189e-321 2.22573083e-307 7.01459308e-292]]\n"
     ]
    }
   ],
   "source": [
    "a = np.empty((2,4))\n",
    "print(a)"
   ]
  },
  {
   "cell_type": "markdown",
   "metadata": {},
   "source": [
    "** Slicing ** <br>\n",
    "Slicing operators are used to create sub-matrices"
   ]
  },
  {
   "cell_type": "code",
   "execution_count": 7,
   "metadata": {},
   "outputs": [
    {
     "name": "stdout",
     "output_type": "stream",
     "text": [
      "[[ 1  2  3  4]\n",
      " [ 5  6  7  8]\n",
      " [ 9 10 11 12]]\n"
     ]
    }
   ],
   "source": [
    "a_matrix = np.array([[1,2,3,4], [5,6,7,8], [9,10,11,12]])\n",
    "print(a_matrix)"
   ]
  },
  {
   "cell_type": "code",
   "execution_count": 8,
   "metadata": {},
   "outputs": [
    {
     "name": "stdout",
     "output_type": "stream",
     "text": [
      "[[ 7  8]\n",
      " [11 12]]\n",
      "[ 9 10 11 12]\n",
      "[ 4  8 12]\n"
     ]
    }
   ],
   "source": [
    "# Slice rows 1 to 3 and columns 2 to the end\n",
    "print(a_matrix[1:3,2:])\n",
    "# All last row\n",
    "print(a_matrix[2,:])\n",
    "# All last column\n",
    "print(a_matrix[:,3])"
   ]
  },
  {
   "cell_type": "code",
   "execution_count": 9,
   "metadata": {},
   "outputs": [
    {
     "name": "stdout",
     "output_type": "stream",
     "text": [
      "[1 7]\n"
     ]
    }
   ],
   "source": [
    "# print the (0,0) and (1,2) elements of the matrix\n",
    "print(a_matrix[[0,1],[0,2]])"
   ]
  },
  {
   "cell_type": "markdown",
   "metadata": {},
   "source": [
    "** np.arange() function **"
   ]
  },
  {
   "cell_type": "markdown",
   "metadata": {},
   "source": [
    "This function returns evenly spaced values within a given interval. . !! Stop value is not included in the return array !!"
   ]
  },
  {
   "cell_type": "code",
   "execution_count": 10,
   "metadata": {},
   "outputs": [
    {
     "name": "stdout",
     "output_type": "stream",
     "text": [
      "[1 2 3 4 5 6 7 8 9]\n",
      "[1 3 5 7 9]\n"
     ]
    }
   ],
   "source": [
    "# Create an array from 1 to 10\n",
    "print(np.arange(1,10))\n",
    "# Change the space of the elements as 2\n",
    "print(np.arange(1,10,2))"
   ]
  },
  {
   "cell_type": "markdown",
   "metadata": {},
   "source": [
    "**np.linspace() function**"
   ]
  },
  {
   "cell_type": "markdown",
   "metadata": {},
   "source": [
    "This function is like np.arange function. The difference between two is that np.linspace return evenly spaced numbers over a specified interval."
   ]
  },
  {
   "cell_type": "code",
   "execution_count": 11,
   "metadata": {},
   "outputs": [
    {
     "name": "stdout",
     "output_type": "stream",
     "text": [
      "[ 1.          1.47368421  1.94736842  2.42105263  2.89473684  3.36842105\n",
      "  3.84210526  4.31578947  4.78947368  5.26315789  5.73684211  6.21052632\n",
      "  6.68421053  7.15789474  7.63157895  8.10526316  8.57894737  9.05263158\n",
      "  9.52631579 10.        ]\n",
      "(20,)\n"
     ]
    }
   ],
   "source": [
    "a = np.linspace(1,10,20)\n",
    "print(a)\n",
    "print(a.shape)"
   ]
  },
  {
   "cell_type": "markdown",
   "metadata": {},
   "source": [
    "** Boolean indexing **"
   ]
  },
  {
   "cell_type": "markdown",
   "metadata": {},
   "source": [
    "Allows us to extract/find array elements that meet a set of conditions"
   ]
  },
  {
   "cell_type": "code",
   "execution_count": 12,
   "metadata": {},
   "outputs": [
    {
     "name": "stdout",
     "output_type": "stream",
     "text": [
      "Example matrix\n",
      "[[ 1  2  5  6]\n",
      " [ 8  9  7  8]\n",
      " [ 9 10  2 42]]\n",
      "\n",
      "Boolean index for numbers bigger than 5\n",
      "[array([[False, False, False,  True],\n",
      "       [ True,  True,  True,  True],\n",
      "       [ True,  True, False,  True]])]\n",
      "\n",
      "Elements bigger than 5\n",
      "[ 6  8  9  7  8  9 10 42]\n",
      "\n",
      "Assign 0 to elements bigger than 5\n",
      "[[1 2 5 0]\n",
      " [0 0 0 0]\n",
      " [0 0 2 0]]\n"
     ]
    }
   ],
   "source": [
    "a = np.array([[1,2,5,6], [8,9,7,8], [9,10,2,42]])\n",
    "print(\"Example matrix\")\n",
    "print(a)\n",
    "print(\"\\nBoolean index for numbers bigger than 5\")\n",
    "print([a>5])\n",
    "print(\"\\nElements bigger than 5\")\n",
    "print(a[a>5])\n",
    "print(\"\\nAssign 0 to elements bigger than 5\")\n",
    "a[a>5] = 0\n",
    "print(a)"
   ]
  },
  {
   "cell_type": "markdown",
   "metadata": {},
   "source": [
    "<div class=\"alert alert-info\">\n",
    "<b> MATHEMATICAL ARRAY OPERATIONS </b> \n",
    "</div>"
   ]
  },
  {
   "cell_type": "markdown",
   "metadata": {},
   "source": [
    "** Elemenwise operations ** "
   ]
  },
  {
   "cell_type": "code",
   "execution_count": 13,
   "metadata": {},
   "outputs": [
    {
     "name": "stdout",
     "output_type": "stream",
     "text": [
      "\n",
      "Matrix A\n",
      "[[1 2]\n",
      " [3 4]]\n",
      "\n",
      "Matrix B\n",
      "[[5 6]\n",
      " [7 8]]\n",
      "\n",
      "A+B\n",
      "[[ 6  8]\n",
      " [10 12]]\n",
      "\n",
      "Add constant value to matrix A\n",
      "[[101 102]\n",
      " [103 104]]\n",
      "\n",
      "A-B\n",
      "[[-4 -4]\n",
      " [-4 -4]]\n",
      "\n",
      "A*B\n",
      "[[ 5 12]\n",
      " [21 32]]\n",
      "\n",
      "A/B\n",
      "[[0.2        0.33333333]\n",
      " [0.42857143 0.5       ]]\n",
      "\n",
      "Squareroot of i.e. A sqrt(A)\n",
      "[[1.         1.41421356]\n",
      " [1.73205081 2.        ]]\n",
      "\n",
      "Power of A i.e. A**2\n",
      "[[ 1  4]\n",
      " [ 9 16]]\n"
     ]
    }
   ],
   "source": [
    "A = np.array([[1,2],[3,4]])\n",
    "print(\"\\nMatrix A\")\n",
    "print(A)\n",
    "B = np.array([[5,6],[7,8]])\n",
    "print(\"\\nMatrix B\")\n",
    "print(B)\n",
    "\n",
    "print(\"\\nA+B\")\n",
    "print(A+B)\n",
    "print(\"\\nAdd constant value to matrix A\")\n",
    "print(A+100)\n",
    "print(\"\\nA-B\")\n",
    "print(A-B)\n",
    "print(\"\\nA*B\")\n",
    "print(A*B)\n",
    "print(\"\\nA/B\")\n",
    "print(A/B)\n",
    "print(\"\\nSquareroot of i.e. A sqrt(A)\")\n",
    "print(np.sqrt(A))\n",
    "print(\"\\nPower of A i.e. A**2\")\n",
    "print(A**2)"
   ]
  },
  {
   "cell_type": "markdown",
   "metadata": {},
   "source": [
    "**Matrix Operations**"
   ]
  },
  {
   "cell_type": "code",
   "execution_count": 14,
   "metadata": {},
   "outputs": [
    {
     "name": "stdout",
     "output_type": "stream",
     "text": [
      "Dot product A.dot(B) \n",
      "[[19 22]\n",
      " [43 50]]\n",
      "or np.dot(A,B)\n",
      "[[19 22]\n",
      " [43 50]]\n"
     ]
    }
   ],
   "source": [
    "print(\"Dot product A.dot(B) \")\n",
    "print(A.dot(B))\n",
    "print(\"or np.dot(A,B)\")\n",
    "print(np.dot(A,B))"
   ]
  },
  {
   "cell_type": "code",
   "execution_count": 15,
   "metadata": {},
   "outputs": [
    {
     "name": "stdout",
     "output_type": "stream",
     "text": [
      "Transpose A.T\n",
      "[[1 3]\n",
      " [2 4]]\n"
     ]
    }
   ],
   "source": [
    "print(\"Transpose A.T\")\n",
    "print(A.T)"
   ]
  },
  {
   "cell_type": "markdown",
   "metadata": {},
   "source": [
    "<div class=\"alert alert-info\">\n",
    "<b> OTHER USEFUL OPERATIONS </b> \n",
    "</div>"
   ]
  },
  {
   "cell_type": "markdown",
   "metadata": {},
   "source": [
    "**Reshape**<br>\n",
    "We can reshape a numpy array to another dimension or we can flatten a matrix to a vector. "
   ]
  },
  {
   "cell_type": "code",
   "execution_count": 16,
   "metadata": {},
   "outputs": [
    {
     "name": "stdout",
     "output_type": "stream",
     "text": [
      "[0 1 2 3 4 5 6 7 8]\n",
      "[[0 1 2]\n",
      " [3 4 5]\n",
      " [6 7 8]]\n",
      "[0 1 2 3 4 5 6 7 8]\n"
     ]
    }
   ],
   "source": [
    "# Create a vector\n",
    "a = np.arange(9)\n",
    "print(a)\n",
    "\n",
    "# Reshape to a 3x3 matrix\n",
    "a_reshape = a.reshape((3,3))\n",
    "print(a_reshape)\n",
    "\n",
    "# Flatten the matrix back to vector form\n",
    "print(a_reshape.flatten())"
   ]
  },
  {
   "cell_type": "markdown",
   "metadata": {},
   "source": [
    "**Concatenating matrices**<br>\n",
    "We can use np.concatenate() function to stack matrices vertically or horizontally. "
   ]
  },
  {
   "cell_type": "code",
   "execution_count": 17,
   "metadata": {},
   "outputs": [
    {
     "name": "stdout",
     "output_type": "stream",
     "text": [
      "\n",
      "Matrix A\n",
      "[[1 2]\n",
      " [3 4]]\n",
      "\n",
      "Matrix B\n",
      "[[5 6]\n",
      " [7 8]]\n",
      "\n",
      "Concatenate A and B vertically\n",
      "[[1 2]\n",
      " [3 4]\n",
      " [5 6]\n",
      " [7 8]]\n",
      "or use np.vstack()\n",
      "[[1 2]\n",
      " [3 4]\n",
      " [5 6]\n",
      " [7 8]]\n",
      "\n",
      "Concatenate A and B horizontally\n",
      "[[1 2 5 6]\n",
      " [3 4 7 8]]\n",
      "or use np.hstack()\n",
      "[[1 2 5 6]\n",
      " [3 4 7 8]]\n"
     ]
    }
   ],
   "source": [
    "A = np.array([[1,2],[3,4]])\n",
    "print(\"\\nMatrix A\")\n",
    "print(A)\n",
    "B = np.array([[5,6],[7,8]])\n",
    "print(\"\\nMatrix B\")\n",
    "print(B)\n",
    "\n",
    "print(\"\\nConcatenate A and B vertically\")\n",
    "print(np.concatenate([A,B]))\n",
    "print(\"or use np.vstack()\")\n",
    "print(np.vstack([A,B]))\n",
    "\n",
    "print(\"\\nConcatenate A and B horizontally\")\n",
    "print(np.concatenate([A,B],axis=1)) # axis=1\n",
    "print(\"or use np.hstack()\")\n",
    "print(np.hstack([A,B]))"
   ]
  },
  {
   "cell_type": "markdown",
   "metadata": {},
   "source": [
    "**Splitting matrices**\n",
    "<br> np.split() or slicing operators can be used for this purpose"
   ]
  },
  {
   "cell_type": "code",
   "execution_count": 18,
   "metadata": {},
   "outputs": [
    {
     "name": "stdout",
     "output_type": "stream",
     "text": [
      "[[1 2 3 4]\n",
      " [5 6 7 8]]\n",
      "\n",
      "\n",
      "Split based on row index\n",
      "[[1 2 3 4]]\n",
      "[[5 6 7 8]]\n",
      "\n",
      "\n",
      "Split based on column index\n",
      "[[1]\n",
      " [5]]\n",
      "[[2 3 4]\n",
      " [6 7 8]]\n"
     ]
    }
   ],
   "source": [
    "C = np.array([[1,2,3,4],[5,6,7,8]])\n",
    "print(C)\n",
    "print(\"\\n\")\n",
    "print(\"Split based on row index\")\n",
    "x,y = np.split(C, [1],axis=0)\n",
    "print(x)\n",
    "print(y)\n",
    "print(\"\\n\")\n",
    "print(\"Split based on column index\")\n",
    "x,y = np.split(C, [1],axis=1)\n",
    "print(x)\n",
    "print(y)"
   ]
  },
  {
   "cell_type": "markdown",
   "metadata": {},
   "source": [
    "**Add missing values and infinity to numpy arrays**<br>\n",
    "* np.nan for \"not-a-number\"\n",
    "* np.inf for infinity"
   ]
  },
  {
   "cell_type": "code",
   "execution_count": 19,
   "metadata": {},
   "outputs": [
    {
     "name": "stdout",
     "output_type": "stream",
     "text": [
      "[[ 0. nan]\n",
      " [ 1. inf]]\n"
     ]
    }
   ],
   "source": [
    "a = np.array([[0,np.nan],[1,np.inf]])\n",
    "print(a)"
   ]
  },
  {
   "cell_type": "markdown",
   "metadata": {},
   "source": [
    "**Calculate mean, median and maximum**"
   ]
  },
  {
   "cell_type": "markdown",
   "metadata": {},
   "source": [
    "* np.mean(): Find mean\n",
    "* np.min(): Find minimum\n",
    "* np.max(): Find maximum"
   ]
  },
  {
   "cell_type": "code",
   "execution_count": 20,
   "metadata": {},
   "outputs": [
    {
     "name": "stdout",
     "output_type": "stream",
     "text": [
      "[[ 1  2  5  6]\n",
      " [ 8  9  7  8]\n",
      " [ 9 10  2 42]]\n",
      "mean of all elements\n",
      "9.083333333333334\n",
      "mean of rows\n",
      "[ 6.          7.          4.66666667 18.66666667]\n",
      "mean of columns\n",
      "[ 3.5   8.   15.75]\n",
      "minimum of all elements \n",
      "1\n",
      "minimum of rows\n",
      "[1 2 2 6]\n",
      "minimum of columns\n",
      "[1 7 2]\n",
      "maximum of all elements \n",
      "42\n",
      "maximum of rows\n",
      "[ 9 10  7 42]\n",
      "maximum of columns\n",
      "[ 6  9 42]\n"
     ]
    }
   ],
   "source": [
    "a = np.array([[1,2,5,6], [8,9,7,8], [9,10,2,42]])\n",
    "print(a)\n",
    "print(\"mean of all elements\")\n",
    "print(np.mean(a))\n",
    "print(\"mean of rows\")\n",
    "print(np.mean(a,axis=0))\n",
    "print(\"mean of columns\")\n",
    "print(np.mean(a,axis=1))\n",
    "\n",
    "print(\"minimum of all elements \")\n",
    "print(np.min(a))\n",
    "print(\"minimum of rows\")\n",
    "print(np.min(a,axis=0))\n",
    "print(\"minimum of columns\")\n",
    "print(np.min(a,axis=1))\n",
    "\n",
    "print(\"maximum of all elements \")\n",
    "print(np.max(a))\n",
    "print(\"maximum of rows\")\n",
    "print(np.max(a,axis=0))\n",
    "print(\"maximum of columns\")\n",
    "print(np.max(a,axis=1))"
   ]
  },
  {
   "cell_type": "markdown",
   "metadata": {},
   "source": [
    "**Finding unique values**"
   ]
  },
  {
   "cell_type": "markdown",
   "metadata": {},
   "source": [
    "* np.unique(): Finds the unique values and their counts (return_counts=True parameter must be added)"
   ]
  },
  {
   "cell_type": "code",
   "execution_count": 21,
   "metadata": {},
   "outputs": [
    {
     "name": "stdout",
     "output_type": "stream",
     "text": [
      "[ 1  2  2  1  3  4  5  3  6 42  1  3 42  3]\n",
      "Unique values\n",
      "[ 1  2  3  4  5  6 42]\n",
      "Unique value counts\n",
      "[3 2 4 1 1 1 2]\n"
     ]
    }
   ],
   "source": [
    "a = np.array([1,2,2,1,3,4,5,3,6,42,1,3,42,3])\n",
    "print(a)\n",
    "\n",
    "u,c = np.unique(a,return_counts=True)\n",
    "print(\"Unique values\")\n",
    "print(u)\n",
    "print(\"Unique value counts\")\n",
    "print(c)"
   ]
  }
 ],
 "metadata": {
  "kernelspec": {
   "display_name": "Python 3",
   "language": "python",
   "name": "python3"
  },
  "language_info": {
   "codemirror_mode": {
    "name": "ipython",
    "version": 3
   },
   "file_extension": ".py",
   "mimetype": "text/x-python",
   "name": "python",
   "nbconvert_exporter": "python",
   "pygments_lexer": "ipython3",
   "version": "3.6.5"
  }
 },
 "nbformat": 4,
 "nbformat_minor": 2
}
